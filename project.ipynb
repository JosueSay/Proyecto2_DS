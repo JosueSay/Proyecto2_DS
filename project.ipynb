{
 "cells": [
  {
   "cell_type": "markdown",
   "id": "c1e2a947-0c2b-47de-b7d6-b5fed887f8fe",
   "metadata": {},
   "source": [
    "# Proyecto 2\n",
    "\n",
    "* Flavio Galán\n",
    "* Josue Say\n",
    "* Juan Pablo Solís\n",
    "* Isabella Miralles\n",
    "\n",
    "[Link Kaggle](https://www.kaggle.com/competitions/lmsys-chatbot-arena)"
   ]
  },
  {
   "cell_type": "markdown",
   "id": "bf371f19-5199-4634-a38c-0f08eed2372e",
   "metadata": {},
   "source": [
    "## Situación Problemática"
   ]
  },
  {
   "cell_type": "markdown",
   "id": "103d2ffa-d5a1-4cac-a828-6281c0e6f0c7",
   "metadata": {},
   "source": [
    "## Problema Científico"
   ]
  },
  {
   "cell_type": "markdown",
   "id": "84fc24c0-fe2f-40a1-be49-3ba8d13b9e30",
   "metadata": {},
   "source": [
    "## Objetivos"
   ]
  },
  {
   "cell_type": "markdown",
   "id": "cb4e511e-2a04-4ebf-9f9e-73352a929514",
   "metadata": {},
   "source": [
    "## Análisis Exploratorio"
   ]
  },
  {
   "cell_type": "markdown",
   "id": "69bf1d34-6651-465d-81eb-d8f77872a161",
   "metadata": {},
   "source": [
    "### Técnicas comunes para detección de patrones en texto"
   ]
  },
  {
   "cell_type": "markdown",
   "id": "575ba4f5-83af-458d-bd66-14fe1c8046d4",
   "metadata": {},
   "source": [
    "### Preprocesamiento de los datos"
   ]
  },
  {
   "cell_type": "markdown",
   "id": "193cad6a-7aa8-49cf-ac38-7181f30bfc46",
   "metadata": {},
   "source": [
    "### EDA"
   ]
  },
  {
   "cell_type": "markdown",
   "id": "e0f3f28f-4646-4fc3-b385-fc619ba1c1ff",
   "metadata": {},
   "source": [
    "## Conclusiones"
   ]
  }
 ],
 "metadata": {
  "kernelspec": {
   "display_name": "Python 3 (ipykernel)",
   "language": "python",
   "name": "python3"
  },
  "language_info": {
   "codemirror_mode": {
    "name": "ipython",
    "version": 3
   },
   "file_extension": ".py",
   "mimetype": "text/x-python",
   "name": "python",
   "nbconvert_exporter": "python",
   "pygments_lexer": "ipython3",
   "version": "3.12.11"
  }
 },
 "nbformat": 4,
 "nbformat_minor": 5
}
