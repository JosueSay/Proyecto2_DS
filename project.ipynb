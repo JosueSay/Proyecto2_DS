{
 "cells": [
  {
   "cell_type": "markdown",
   "id": "c1e2a947-0c2b-47de-b7d6-b5fed887f8fe",
   "metadata": {},
   "source": [
    "# Proyecto 2\n",
    "\n",
    "* Flavio Galán\n",
    "* Josue Say\n",
    "* Juan Pablo Solís\n",
    "* Isabella Miralles\n",
    "\n",
    "## Enlaces\n",
    "\n",
    "- [Enlace de repositorio](https://github.com/JosueSay/Proyecto2_DS)\n",
    "- [Link Kaggle](https://www.kaggle.com/competitions/lmsys-chatbot-arena)\n",
    "- [Presentación](https://www.canva.com/design/DAGys-XKnzU/gEPjZMwq4nefa41cbKF78A/edit?utm_content=DAGys-XKnzU&utm_campaign=designshare&utm_medium=link2&utm_source=sharebutton)"
   ]
  },
  {
   "cell_type": "markdown",
   "id": "7652f27c",
   "metadata": {},
   "source": [
    "## Dependencias"
   ]
  },
  {
   "cell_type": "code",
   "execution_count": 2,
   "id": "83e22907-77b4-4e16-820d-7aac9245572d",
   "metadata": {
    "execution": {
     "iopub.execute_input": "2025-10-22T01:39:09.145750Z",
     "iopub.status.busy": "2025-10-22T01:39:09.144790Z",
     "iopub.status.idle": "2025-10-22T01:39:27.105627Z",
     "shell.execute_reply": "2025-10-22T01:39:27.104508Z",
     "shell.execute_reply.started": "2025-10-22T01:39:09.145711Z"
    }
   },
   "outputs": [
    {
     "name": "stderr",
     "output_type": "stream",
     "text": [
      "/nix/store/g1d1z8bkpxprx14ryzciw63jl407d82r-python3-3.12.11-env/lib/python3.12/site-packages/tqdm/auto.py:21: TqdmWarning: IProgress not found. Please update jupyter and ipywidgets. See https://ipywidgets.readthedocs.io/en/stable/user_install.html\n",
      "  from .autonotebook import tqdm as notebook_tqdm\n",
      "2025-10-21 19:39:19.883141: I tensorflow/core/platform/cpu_feature_guard.cc:210] This TensorFlow binary is optimized to use available CPU instructions in performance-critical operations.\n",
      "To enable the following instructions: AVX2 FMA, in other operations, rebuild TensorFlow with the appropriate compiler flags.\n"
     ]
    },
    {
     "ename": "AttributeError",
     "evalue": "'MessageFactory' object has no attribute 'GetPrototype'",
     "output_type": "error",
     "traceback": [
      "\u001b[31m---------------------------------------------------------------------------\u001b[39m",
      "\u001b[31mAttributeError\u001b[39m                            Traceback (most recent call last)",
      "\u001b[31mAttributeError\u001b[39m: 'MessageFactory' object has no attribute 'GetPrototype'"
     ]
    }
   ],
   "source": [
    "# Análisis Exploratorio\n",
    "import re\n",
    "import html\n",
    "import unicodedata\n",
    "import pandas as pd\n",
    "import matplotlib.pyplot as plt\n",
    "from collections import Counter\n",
    "import nltk\n",
    "from nltk.corpus import stopwords\n",
    "nltk.download('stopwords', quiet=True)\n",
    "\n",
    "# Modelos\n",
    "import sys\n",
    "import pandas as pd\n",
    "import numpy as np\n",
    "import torch\n",
    "from torch import nn\n",
    "from torch.utils.data import Dataset, DataLoader\n",
    "from torch.optim import AdamW\n",
    "from transformers import XLNetTokenizer, XLNetModel, get_linear_schedule_with_warmup\n",
    "from sklearn.model_selection import train_test_split\n",
    "from sklearn.metrics import accuracy_score, classification_report\n",
    "from tqdm import tqdm\n",
    "import warnings\n",
    "warnings.filterwarnings('ignore')"
   ]
  },
  {
   "cell_type": "markdown",
   "id": "e32f865d-82d2-4dad-bf68-502dbd59a985",
   "metadata": {},
   "source": [
    "## Constantes"
   ]
  },
  {
   "cell_type": "code",
   "execution_count": 2,
   "id": "7fa74143-b13b-4a76-b721-e1c533f4a117",
   "metadata": {
    "execution": {
     "iopub.execute_input": "2025-10-22T01:36:15.732654Z",
     "iopub.status.busy": "2025-10-22T01:36:15.731957Z",
     "iopub.status.idle": "2025-10-22T01:36:15.736427Z",
     "shell.execute_reply": "2025-10-22T01:36:15.735770Z",
     "shell.execute_reply.started": "2025-10-22T01:36:15.732626Z"
    }
   },
   "outputs": [],
   "source": [
    "MOJIBAKE_PAT = re.compile(\n",
    "    r\"[\\uFFFD\\u0080-\\u009F]\"      # U+FFFD o control C1\n",
    "    r\"|Ã.|Â.|â.|Û.|Ò|Ó\"\n",
    ")\n",
    "STOPWORDS_LANG    = \"english\""
   ]
  },
  {
   "cell_type": "markdown",
   "id": "bf371f19-5199-4634-a38c-0f08eed2372e",
   "metadata": {},
   "source": [
    "## Situación Problemática"
   ]
  },
  {
   "cell_type": "markdown",
   "id": "dbdd55fa",
   "metadata": {},
   "source": [
    "Los modelos de lenguaje a gran escala (LLMs) son sistemas de inteligencia artificial entrenados para comprender y generar texto de manera similar a un humano, y se utilizan en asistentes virtuales, buscadores y herramientas de productividad. Sin embargo, aún existe el reto de que sus respuestas realmente coincidan con lo que los usuarios consideran más útiles o correctas.\n",
    "\n",
    "En este marco surge **Chatbot Arena**, una plataforma en línea donde los usuarios interactúan con dos chatbots anónimos (basados en diferentes LLMs) que responden a la misma instrucción o *prompt*. Después de leer ambas respuestas, el usuario selecciona la que prefiere o puede declarar un empate. Este esquema de \"batalla cara a cara\" permite recopilar datos directos sobre las preferencias humanas frente a distintos modelos de IA.\n",
    "\n",
    "Comprender y predecir estas elecciones es fundamental porque aporta información sobre cómo las personas valoran la calidad de las respuestas más allá de lo técnico. Esto resulta clave para construir sistemas conversacionales más útiles, confiables y aceptados en contextos reales, ya que la capacidad de un modelo para adaptarse a las expectativas humanas determina su éxito en aplicaciones prácticas y en la satisfacción del usuario final."
   ]
  },
  {
   "cell_type": "markdown",
   "id": "103d2ffa-d5a1-4cac-a828-6281c0e6f0c7",
   "metadata": {},
   "source": [
    "## Problema Científico"
   ]
  },
  {
   "cell_type": "markdown",
   "id": "95f77ab3",
   "metadata": {},
   "source": [
    "¿Es posible predecir con precisión, a partir del prompt y de las dos respuestas generadas por distintos modelos, la preferencia de un usuario en una interacción cara a cara del Chatbot Arena, considerando las tres posibles clases de salida: modelo A, modelo B o empate, evaluadas mediante log loss multiclase?"
   ]
  },
  {
   "cell_type": "markdown",
   "id": "84fc24c0-fe2f-40a1-be49-3ba8d13b9e30",
   "metadata": {},
   "source": [
    "## Objetivos"
   ]
  },
  {
   "cell_type": "markdown",
   "id": "27a03a9d",
   "metadata": {},
   "source": [
    "### Objetivo general\n",
    "\n",
    "Desarrollar un planteamiento analítico que permita identificar patrones en los datos del Chatbot Arena y predecir la preferencia de los usuarios entre dos respuestas de modelos de lenguaje.\n",
    "\n",
    "### Objetivos específicos\n",
    "\n",
    "1. Analizar las características textuales de los prompts y de las respuestas para identificar factores asociados a la preferencia.\n",
    "2. Describir las distribuciones de selección (A, B, empate) y su relación con las variables disponibles.\n",
    "3. Evaluar la presencia de posibles sesgos en las decisiones, como el orden de presentación o la longitud de las respuestas.\n",
    "4. Establecer métricas descriptivas que permitan interpretar la dificultad del problema bajo el criterio de log loss multiclase.\n",
    "5. Generar una base comparativa que sirva para fases posteriores de modelado predictivo."
   ]
  },
  {
   "cell_type": "markdown",
   "id": "cb4e511e-2a04-4ebf-9f9e-73352a929514",
   "metadata": {},
   "source": [
    "## Análisis Exploratorio"
   ]
  },
  {
   "cell_type": "markdown",
   "id": "69bf1d34-6651-465d-81eb-d8f77872a161",
   "metadata": {},
   "source": [
    "### Técnicas comunes para detección de patrones en texto\n",
    "\n",
    "Dependiendo del enfoque se tienen varias opciones.\n",
    "\n",
    "#### Enfoque Estadístico\n",
    "\n",
    "Los modelos con este enfoque permiten estimar la probabilidad de que ciertas características o atributos estén relacionados entre sí. Algunas técnicas comunes son:\n",
    "* Modelos de Markov\n",
    "* Clasificadores Bayesianos\n",
    "* Modelos ocultos de Markov\n",
    "\n",
    "Su principal desventaja es la necesidad de contar con un gran volumen de datos para estimar con precisión los parámetros del modelo.\n",
    "\n",
    "#### Enfoque Estructural\n",
    "\n",
    "Se centra en la identificación de patrones a través del análisis de la estructura subyacente de los datos. Es decir análisis de grafos, teoría de la información y modelos de dependencia. Generalmente permiten modelar una estructura de datos más fiel a la realidad lo que facilita traducir el modelo a código y extraer información relevante.\n",
    "\n",
    "#### Técnicas de PNL\n",
    "\n",
    "Utilizando deep learning tenemos distintos modelos para analizar el lenguaje natural, como llo son:\n",
    "\n",
    "* **seq2seq**: Basados en redes neuronales recurrentes se han utilizado principalmente para la traducción automática de idiomas.\n",
    "* **Transformers**: Utilizan la tokenización del lenguaje y la atención para calcular la relación de las diferentes partes del lenguaje entre sí.\n",
    "* **Modelos autorregresivos**: Es un subtipo de un modelo de Transformers, específicamente entrenado para predecir la siguiente palabra en una secuencia, lo que representa un gran avance en la capacidad de generar texto. ChatGPT es un ejemplo de este tipo de modelos."
   ]
  },
  {
   "cell_type": "markdown",
   "id": "575ba4f5-83af-458d-bd66-14fe1c8046d4",
   "metadata": {},
   "source": [
    "### Preprocesamiento de los datos\n",
    "\n",
    "Primero tenemos que cargar el dataset, Kaggle ya nos divide los datos en entrenamiento y prueba por lo que tenemos:"
   ]
  },
  {
   "cell_type": "code",
   "execution_count": 3,
   "id": "c7aad379-80de-407f-a26c-8818acabfce4",
   "metadata": {
    "execution": {
     "iopub.execute_input": "2025-10-22T01:36:15.737659Z",
     "iopub.status.busy": "2025-10-22T01:36:15.737226Z",
     "iopub.status.idle": "2025-10-22T01:36:17.765853Z",
     "shell.execute_reply": "2025-10-22T01:36:17.765105Z",
     "shell.execute_reply.started": "2025-10-22T01:36:15.737639Z"
    }
   },
   "outputs": [
    {
     "data": {
      "text/html": [
       "<div>\n",
       "<style scoped>\n",
       "    .dataframe tbody tr th:only-of-type {\n",
       "        vertical-align: middle;\n",
       "    }\n",
       "\n",
       "    .dataframe tbody tr th {\n",
       "        vertical-align: top;\n",
       "    }\n",
       "\n",
       "    .dataframe thead th {\n",
       "        text-align: right;\n",
       "    }\n",
       "</style>\n",
       "<table border=\"1\" class=\"dataframe\">\n",
       "  <thead>\n",
       "    <tr style=\"text-align: right;\">\n",
       "      <th></th>\n",
       "      <th>id</th>\n",
       "      <th>model_a</th>\n",
       "      <th>model_b</th>\n",
       "      <th>prompt</th>\n",
       "      <th>response_a</th>\n",
       "      <th>response_b</th>\n",
       "      <th>winner_model_a</th>\n",
       "      <th>winner_model_b</th>\n",
       "      <th>winner_tie</th>\n",
       "    </tr>\n",
       "  </thead>\n",
       "  <tbody>\n",
       "    <tr>\n",
       "      <th>0</th>\n",
       "      <td>30192</td>\n",
       "      <td>gpt-4-1106-preview</td>\n",
       "      <td>gpt-4-0613</td>\n",
       "      <td>[\"Is it morally right to try to have a certain...</td>\n",
       "      <td>[\"The question of whether it is morally right ...</td>\n",
       "      <td>[\"As an AI, I don't have personal beliefs or o...</td>\n",
       "      <td>1</td>\n",
       "      <td>0</td>\n",
       "      <td>0</td>\n",
       "    </tr>\n",
       "    <tr>\n",
       "      <th>1</th>\n",
       "      <td>53567</td>\n",
       "      <td>koala-13b</td>\n",
       "      <td>gpt-4-0613</td>\n",
       "      <td>[\"What is the difference between marriage lice...</td>\n",
       "      <td>[\"A marriage license is a legal document that ...</td>\n",
       "      <td>[\"A marriage license and a marriage certificat...</td>\n",
       "      <td>0</td>\n",
       "      <td>1</td>\n",
       "      <td>0</td>\n",
       "    </tr>\n",
       "    <tr>\n",
       "      <th>2</th>\n",
       "      <td>65089</td>\n",
       "      <td>gpt-3.5-turbo-0613</td>\n",
       "      <td>mistral-medium</td>\n",
       "      <td>[\"explain function calling. how would you call...</td>\n",
       "      <td>[\"Function calling is the process of invoking ...</td>\n",
       "      <td>[\"Function calling is the process of invoking ...</td>\n",
       "      <td>0</td>\n",
       "      <td>0</td>\n",
       "      <td>1</td>\n",
       "    </tr>\n",
       "    <tr>\n",
       "      <th>3</th>\n",
       "      <td>96401</td>\n",
       "      <td>llama-2-13b-chat</td>\n",
       "      <td>mistral-7b-instruct</td>\n",
       "      <td>[\"How can I create a test set for a very rare ...</td>\n",
       "      <td>[\"Creating a test set for a very rare category...</td>\n",
       "      <td>[\"When building a classifier for a very rare c...</td>\n",
       "      <td>1</td>\n",
       "      <td>0</td>\n",
       "      <td>0</td>\n",
       "    </tr>\n",
       "    <tr>\n",
       "      <th>4</th>\n",
       "      <td>198779</td>\n",
       "      <td>koala-13b</td>\n",
       "      <td>gpt-3.5-turbo-0314</td>\n",
       "      <td>[\"What is the best way to travel from Tel-Aviv...</td>\n",
       "      <td>[\"The best way to travel from Tel Aviv to Jeru...</td>\n",
       "      <td>[\"The best way to travel from Tel-Aviv to Jeru...</td>\n",
       "      <td>0</td>\n",
       "      <td>1</td>\n",
       "      <td>0</td>\n",
       "    </tr>\n",
       "  </tbody>\n",
       "</table>\n",
       "</div>"
      ],
      "text/plain": [
       "       id             model_a              model_b  \\\n",
       "0   30192  gpt-4-1106-preview           gpt-4-0613   \n",
       "1   53567           koala-13b           gpt-4-0613   \n",
       "2   65089  gpt-3.5-turbo-0613       mistral-medium   \n",
       "3   96401    llama-2-13b-chat  mistral-7b-instruct   \n",
       "4  198779           koala-13b   gpt-3.5-turbo-0314   \n",
       "\n",
       "                                              prompt  \\\n",
       "0  [\"Is it morally right to try to have a certain...   \n",
       "1  [\"What is the difference between marriage lice...   \n",
       "2  [\"explain function calling. how would you call...   \n",
       "3  [\"How can I create a test set for a very rare ...   \n",
       "4  [\"What is the best way to travel from Tel-Aviv...   \n",
       "\n",
       "                                          response_a  \\\n",
       "0  [\"The question of whether it is morally right ...   \n",
       "1  [\"A marriage license is a legal document that ...   \n",
       "2  [\"Function calling is the process of invoking ...   \n",
       "3  [\"Creating a test set for a very rare category...   \n",
       "4  [\"The best way to travel from Tel Aviv to Jeru...   \n",
       "\n",
       "                                          response_b  winner_model_a  \\\n",
       "0  [\"As an AI, I don't have personal beliefs or o...               1   \n",
       "1  [\"A marriage license and a marriage certificat...               0   \n",
       "2  [\"Function calling is the process of invoking ...               0   \n",
       "3  [\"When building a classifier for a very rare c...               1   \n",
       "4  [\"The best way to travel from Tel-Aviv to Jeru...               0   \n",
       "\n",
       "   winner_model_b  winner_tie  \n",
       "0               0           0  \n",
       "1               1           0  \n",
       "2               0           1  \n",
       "3               0           0  \n",
       "4               1           0  "
      ]
     },
     "execution_count": 3,
     "metadata": {},
     "output_type": "execute_result"
    }
   ],
   "source": [
    "df = pd.read_csv(\"data/train.csv\")\n",
    "df.head()"
   ]
  },
  {
   "cell_type": "code",
   "execution_count": 4,
   "id": "31a818e7-d31a-487f-a04e-aadb1143862f",
   "metadata": {
    "execution": {
     "iopub.execute_input": "2025-10-22T01:36:17.767104Z",
     "iopub.status.busy": "2025-10-22T01:36:17.766793Z",
     "iopub.status.idle": "2025-10-22T01:36:17.773272Z",
     "shell.execute_reply": "2025-10-22T01:36:17.772479Z",
     "shell.execute_reply.started": "2025-10-22T01:36:17.767084Z"
    },
    "scrolled": true
   },
   "outputs": [
    {
     "name": "stdout",
     "output_type": "stream",
     "text": [
      "===Original===\n",
      "[\"The question of whether it is morally right to aim for a certain percentage of females in managerial positions is a complex ethical issue that involves considerations of fairness, equality, diversity, and discrimination.\\n\\nHere are some arguments in favor of and against such policies:\\n\\n**Arguments in favor:**\\n\\n1. **Correcting Historical Inequities:** Women have historically been underrepresented in leadership roles due to various cultural, institutional, and social barriers. Aiming for a specific percentage can be seen as a corrective measure to address past and ongoing discrimination.\\n\\n2. **Promoting Diversity:** Diverse leadership teams can enhance decision-making and represent a broader range of perspectives. This can lead to better outcomes for organizations and society as a whole.\\n\\n3. **Equality of Opportunity:** Setting targets for female representation in management can help ensure that women have equal opportunities to advance in their careers.\\n\\n4. **Role Modeling:** Increased visibility of female leaders can inspire and encourage other women and girls to pursue leadership roles.\\n\\n**Arguments against:**\\n\\n1. **Reverse Discrimination:** Setting a quota for female representation might lead to the perception or reality of reverse discrimination, where men might be overlooked for positions despite being qualified, simply to meet the gender target.\\n\\n2. **Meritocracy Concerns:** Critics argue that employment and promotion should be based solely on merit and qualifications, not gender. They fear that quotas could compromise the quality of leadership if less qualified individuals are promoted to meet gender targets.\\n\\n3. **Tokenism:** There is a risk that women appointed to meet quotas might be seen as \\\"tokens,\\\" undermining their legitimacy and potentially leading to resentment among colleagues.\\n\\n4. **Oversimplification of Diversity:** Focusing only on gender might overlook other important aspects of diversity, such as race, ethnicity, socioeconomic background, or sexual orientation.\\n\\nUltimately, the morality of aiming for a certain percentage of females in managerial positions depends on one's ethical framework and the context in which such policies are implemented. Proponents of gender diversity targets often argue that these measures are necessary as a transitional mechanism to create a level playing field, while opponents may argue for a \\\"color-blind\\\" or \\\"gender-blind\\\" approach to hiring and promotions.\\n\\nOrganizations and societies must carefully consider the implications of these strategies and strive to implement policies that promote fairness and equality while minimizing negative consequences. It is also important to address the root causes of gender inequality, such as unconscious bias, work-life balance challenges, and lack of supportive policies, to create an environment where everyone has the opportunity to succeed based on their capabilities and contributions.\",\"Ah, the age-old culinary conundrum that has divided nations and dinner tables: does pineapple belong on a pizza? The tropical twist of pineapple on pizza, known as Hawaiian pizza, is a hotly debated topic where taste buds battle and pizza purists protest.\\n\\nLet's slice into the debate with a zest of fun:\\n\\n**Team Pineapple:** \\\"Absolutely, yes! Pineapple on pizza is like a beach party in your mouth. The sweet juiciness of pineapple chunks frolicking with savory ham or bacon creates a flavor wave that surfs across the cheesy ocean of deliciousness. It's the Mardi Gras of pizzas, where sweet meets savory in a jubilant jamboree!\\\"\\n\\n**Team No-Pineapple:** \\\"No way, not in a million pizzas! Pineapple is a fruit that should be sunbathing on a tropical fruit platter, not freeloading on a sacred slice of pizza. The thought of warm, melty cheese conspiring with pineapple's sugary mischief is enough to make Italian ancestors turn in their tomato patches. Keep the pineapple in the fruit salad where it belongs!\\\"\\n\\nAt the end of the day, whether pineapple belongs on pizza is a matter of personal taste. Some say it's a match made in heaven, others say it's a culinary crime. But let's face it, in the world of pizza toppings, where you can find everything from anchovies to zucchini, there's room for a little pineapple pizzazz. So, if your taste buds crave that sweet and tangy twist, go ahead and let your pineapple flag fly atop that glorious cheese-covered dough. Bon app\\u00e9tit, or as they say in pineapple paradise, \\\"Aloha-ppetite!\\\" \\ud83c\\udf4d\\ud83c\\udf55\"]\n",
      "===Limpia===\n",
      "[\"The question of whether it is morally right to aim for a certain percentage of females in managerial positions is a complex ethical issue that involves considerations of fairness, equality, diversity, and discrimination.\\n\\nHere are some arguments in favor of and against such policies:\\n\\n**Arguments in favor:**\\n\\n1. **Correcting Historical Inequities:** Women have historically been underrepresented in leadership roles due to various cultural, institutional, and social barriers. Aiming for a specific percentage can be seen as a corrective measure to address past and ongoing discrimination.\\n\\n2. **Promoting Diversity:** Diverse leadership teams can enhance decision-making and represent a broader range of perspectives. This can lead to better outcomes for organizations and society as a whole.\\n\\n3. **Equality of Opportunity:** Setting targets for female representation in management can help ensure that women have equal opportunities to advance in their careers.\\n\\n4. **Role Modeling:** Increased visibility of female leaders can inspire and encourage other women and girls to pursue leadership roles.\\n\\n**Arguments against:**\\n\\n1. **Reverse Discrimination:** Setting a quota for female representation might lead to the perception or reality of reverse discrimination, where men might be overlooked for positions despite being qualified, simply to meet the gender target.\\n\\n2. **Meritocracy Concerns:** Critics argue that employment and promotion should be based solely on merit and qualifications, not gender. They fear that quotas could compromise the quality of leadership if less qualified individuals are promoted to meet gender targets.\\n\\n3. **Tokenism:** There is a risk that women appointed to meet quotas might be seen as \\\"tokens,\\\" undermining their legitimacy and potentially leading to resentment among colleagues.\\n\\n4. **Oversimplification of Diversity:** Focusing only on gender might overlook other important aspects of diversity, such as race, ethnicity, socioeconomic background, or sexual orientation.\\n\\nUltimately, the morality of aiming for a certain percentage of females in managerial positions depends on one's ethical framework and the context in which such policies are implemented. Proponents of gender diversity targets often argue that these measures are necessary as a transitional mechanism to create a level playing field, while opponents may argue for a \\\"color-blind\\\" or \\\"gender-blind\\\" approach to hiring and promotions.\\n\\nOrganizations and societies must carefully consider the implications of these strategies and strive to implement policies that promote fairness and equality while minimizing negative consequences. It is also important to address the root causes of gender inequality, such as unconscious bias, work-life balance challenges, and lack of supportive policies, to create an environment where everyone has the opportunity to succeed based on their capabilities and contributions.\",\"Ah, the age-old culinary conundrum that has divided nations and dinner tables: does pineapple belong on a pizza? The tropical twist of pineapple on pizza, known as Hawaiian pizza, is a hotly debated topic where taste buds battle and pizza purists protest.\\n\\nLet's slice into the debate with a zest of fun:\\n\\n**Team Pineapple:** \\\"Absolutely, yes! Pineapple on pizza is like a beach party in your mouth. The sweet juiciness of pineapple chunks frolicking with savory ham or bacon creates a flavor wave that surfs across the cheesy ocean of deliciousness. It's the Mardi Gras of pizzas, where sweet meets savory in a jubilant jamboree!\\\"\\n\\n**Team No-Pineapple:** \\\"No way, not in a million pizzas! Pineapple is a fruit that should be sunbathing on a tropical fruit platter, not freeloading on a sacred slice of pizza. The thought of warm, melty cheese conspiring with pineapple's sugary mischief is enough to make Italian ancestors turn in their tomato patches. Keep the pineapple in the fruit salad where it belongs!\\\"\\n\\nAt the end of the day, whether pineapple belongs on pizza is a matter of personal taste. Some say it's a match made in heaven, others say it's a culinary crime. But let's face it, in the world of pizza toppings, where you can find everything from anchovies to zucchini, there's room for a little pineapple pizzazz. So, if your taste buds crave that sweet and tangy twist, go ahead and let your pineapple flag fly atop that glorious cheese-covered dough. Bon app\\u00e9tit, or as they say in pineapple paradise, \\\"Aloha-ppetite!\\\" \\ud83c\\udf4d\\ud83c\\udf55\"]\n",
      "===Evaluada===\n"
     ]
    },
    {
     "data": {
      "text/plain": [
       "'The question of whether it is morally right to aim for a certain percentage of females in managerial positions is a complex ethical issue that involves considerations of fairness, equality, diversity, and discrimination.\\n\\nHere are some arguments in favor of and against such policies:\\n\\n**Arguments in favor:**\\n\\n1. **Correcting Historical Inequities:** Women have historically been underrepresented in leadership roles due to various cultural, institutional, and social barriers. Aiming for a specific percentage can be seen as a corrective measure to address past and ongoing discrimination.\\n\\n2. **Promoting Diversity:** Diverse leadership teams can enhance decision-making and represent a broader range of perspectives. This can lead to better outcomes for organizations and society as a whole.\\n\\n3. **Equality of Opportunity:** Setting targets for female representation in management can help ensure that women have equal opportunities to advance in their careers.\\n\\n4. **Role Modeling:** Increased visibility of female leaders can inspire and encourage other women and girls to pursue leadership roles.\\n\\n**Arguments against:**\\n\\n1. **Reverse Discrimination:** Setting a quota for female representation might lead to the perception or reality of reverse discrimination, where men might be overlooked for positions despite being qualified, simply to meet the gender target.\\n\\n2. **Meritocracy Concerns:** Critics argue that employment and promotion should be based solely on merit and qualifications, not gender. They fear that quotas could compromise the quality of leadership if less qualified individuals are promoted to meet gender targets.\\n\\n3. **Tokenism:** There is a risk that women appointed to meet quotas might be seen as \"tokens,\" undermining their legitimacy and potentially leading to resentment among colleagues.\\n\\n4. **Oversimplification of Diversity:** Focusing only on gender might overlook other important aspects of diversity, such as race, ethnicity, socioeconomic background, or sexual orientation.\\n\\nUltimately, the morality of aiming for a certain percentage of females in managerial positions depends on one\\'s ethical framework and the context in which such policies are implemented. Proponents of gender diversity targets often argue that these measures are necessary as a transitional mechanism to create a level playing field, while opponents may argue for a \"color-blind\" or \"gender-blind\" approach to hiring and promotions.\\n\\nOrganizations and societies must carefully consider the implications of these strategies and strive to implement policies that promote fairness and equality while minimizing negative consequences. It is also important to address the root causes of gender inequality, such as unconscious bias, work-life balance challenges, and lack of supportive policies, to create an environment where everyone has the opportunity to succeed based on their capabilities and contributions.\\nAh, the age-old culinary conundrum that has divided nations and dinner tables: does pineapple belong on a pizza? The tropical twist of pineapple on pizza, known as Hawaiian pizza, is a hotly debated topic where taste buds battle and pizza purists protest.\\n\\nLet\\'s slice into the debate with a zest of fun:\\n\\n**Team Pineapple:** \"Absolutely, yes! Pineapple on pizza is like a beach party in your mouth. The sweet juiciness of pineapple chunks frolicking with savory ham or bacon creates a flavor wave that surfs across the cheesy ocean of deliciousness. It\\'s the Mardi Gras of pizzas, where sweet meets savory in a jubilant jamboree!\"\\n\\n**Team No-Pineapple:** \"No way, not in a million pizzas! Pineapple is a fruit that should be sunbathing on a tropical fruit platter, not freeloading on a sacred slice of pizza. The thought of warm, melty cheese conspiring with pineapple\\'s sugary mischief is enough to make Italian ancestors turn in their tomato patches. Keep the pineapple in the fruit salad where it belongs!\"\\n\\nAt the end of the day, whether pineapple belongs on pizza is a matter of personal taste. Some say it\\'s a match made in heaven, others say it\\'s a culinary crime. But let\\'s face it, in the world of pizza toppings, where you can find everything from anchovies to zucchini, there\\'s room for a little pineapple pizzazz. So, if your taste buds crave that sweet and tangy twist, go ahead and let your pineapple flag fly atop that glorious cheese-covered dough. Bon appétit, or as they say in pineapple paradise, \"Aloha-ppetite!\" \\ud83c\\udf4d\\ud83c\\udf55'"
      ]
     },
     "execution_count": 4,
     "metadata": {},
     "output_type": "execute_result"
    }
   ],
   "source": [
    "ap = df[\"response_a\"].iloc[0]\n",
    "print(\"===Original===\")\n",
    "print(ap)\n",
    "ap = ap.replace(\"\\\\\\\\\", \"\\\\\")\n",
    "print(\"===Limpia===\")\n",
    "print(ap)\n",
    "a = eval(ap)\n",
    "print(\"===Evaluada===\")\n",
    "\"\\n\".join(a)"
   ]
  },
  {
   "cell_type": "markdown",
   "id": "36c0c752-7ae0-48c9-b783-84a9bbee59b4",
   "metadata": {},
   "source": [
    "Por lo que podemos ver que el dataset contiene el prompt dado a la LLM y la respuesta que dieron. En el dataset de entrenamiento se incluye tanto el modelo que respondió la pregunta como el ganador o si hubo un empato, sin embargo en el dataset de prueba solamente se tiene la respuesta y el prompt, por lo que no podremos usar las variables modelo de forma directa para entrenar a nuestro modelo.\n",
    "\n",
    "### Descripción de las variables\n",
    "\n",
    "* **id**: ID de la interacción entre un usuario y los modelos.\n",
    "* **model_a**: El nombre del modelo identificado como A en el enfrentamiento. No se puede usar para entrenar el dataset.\n",
    "* **model_b**: El nombre del modelo identificado como B en el enfrentamiento. No se puede usar para entrenar el dataset.\n",
    "* **prompt**: Un array de cadenas de texto que representan los inputs dados al modelo.\n",
    "* **response_a**: La respuesta que dió el LLM identificado con a.\n",
    "* **response_b**: La respuesta qeu dió el LLM identificado con b.\n",
    "* **winner_model_a**: Si el modelo a fue elegido como ganador.\n",
    "* **winner_model_b**: Si el modelo b fue elegido como ganador.\n",
    "* **winner_tie**: Si hubo un empate entre los modelos.\n",
    "\n",
    "Para facilitar el análisis de los datos se parseó cada columna del dataframe de prompt, response[ab] y se unieron en una sola cadena de texto. Tenemos entonces:"
   ]
  },
  {
   "cell_type": "code",
   "execution_count": 5,
   "id": "a3865a85-e5eb-4f8d-b505-c59063d783de",
   "metadata": {
    "execution": {
     "iopub.execute_input": "2025-10-22T01:36:17.774233Z",
     "iopub.status.busy": "2025-10-22T01:36:17.774035Z",
     "iopub.status.idle": "2025-10-22T01:36:24.000867Z",
     "shell.execute_reply": "2025-10-22T01:36:24.000185Z",
     "shell.execute_reply.started": "2025-10-22T01:36:17.774213Z"
    },
    "scrolled": true
   },
   "outputs": [
    {
     "data": {
      "text/html": [
       "<div>\n",
       "<style scoped>\n",
       "    .dataframe tbody tr th:only-of-type {\n",
       "        vertical-align: middle;\n",
       "    }\n",
       "\n",
       "    .dataframe tbody tr th {\n",
       "        vertical-align: top;\n",
       "    }\n",
       "\n",
       "    .dataframe thead th {\n",
       "        text-align: right;\n",
       "    }\n",
       "</style>\n",
       "<table border=\"1\" class=\"dataframe\">\n",
       "  <thead>\n",
       "    <tr style=\"text-align: right;\">\n",
       "      <th></th>\n",
       "      <th>id</th>\n",
       "      <th>model_a</th>\n",
       "      <th>model_b</th>\n",
       "      <th>prompt</th>\n",
       "      <th>response_a</th>\n",
       "      <th>response_b</th>\n",
       "      <th>winner_model_a</th>\n",
       "      <th>winner_model_b</th>\n",
       "      <th>winner_tie</th>\n",
       "      <th>prompt_clean</th>\n",
       "      <th>response_a_clean</th>\n",
       "      <th>response_b_clean</th>\n",
       "    </tr>\n",
       "  </thead>\n",
       "  <tbody>\n",
       "    <tr>\n",
       "      <th>0</th>\n",
       "      <td>30192</td>\n",
       "      <td>gpt-4-1106-preview</td>\n",
       "      <td>gpt-4-0613</td>\n",
       "      <td>[\"Is it morally right to try to have a certain...</td>\n",
       "      <td>[\"The question of whether it is morally right ...</td>\n",
       "      <td>[\"As an AI, I don't have personal beliefs or o...</td>\n",
       "      <td>1</td>\n",
       "      <td>0</td>\n",
       "      <td>0</td>\n",
       "      <td>Is it morally right to try to have a certain p...</td>\n",
       "      <td>The question of whether it is morally right to...</td>\n",
       "      <td>As an AI, I don't have personal beliefs or opi...</td>\n",
       "    </tr>\n",
       "    <tr>\n",
       "      <th>1</th>\n",
       "      <td>53567</td>\n",
       "      <td>koala-13b</td>\n",
       "      <td>gpt-4-0613</td>\n",
       "      <td>[\"What is the difference between marriage lice...</td>\n",
       "      <td>[\"A marriage license is a legal document that ...</td>\n",
       "      <td>[\"A marriage license and a marriage certificat...</td>\n",
       "      <td>0</td>\n",
       "      <td>1</td>\n",
       "      <td>0</td>\n",
       "      <td>What is the difference between marriage licens...</td>\n",
       "      <td>A marriage license is a legal document that al...</td>\n",
       "      <td>A marriage license and a marriage certificate ...</td>\n",
       "    </tr>\n",
       "    <tr>\n",
       "      <th>2</th>\n",
       "      <td>65089</td>\n",
       "      <td>gpt-3.5-turbo-0613</td>\n",
       "      <td>mistral-medium</td>\n",
       "      <td>[\"explain function calling. how would you call...</td>\n",
       "      <td>[\"Function calling is the process of invoking ...</td>\n",
       "      <td>[\"Function calling is the process of invoking ...</td>\n",
       "      <td>0</td>\n",
       "      <td>0</td>\n",
       "      <td>1</td>\n",
       "      <td>explain function calling. how would you call a...</td>\n",
       "      <td>Function calling is the process of invoking or...</td>\n",
       "      <td>Function calling is the process of invoking a ...</td>\n",
       "    </tr>\n",
       "    <tr>\n",
       "      <th>3</th>\n",
       "      <td>96401</td>\n",
       "      <td>llama-2-13b-chat</td>\n",
       "      <td>mistral-7b-instruct</td>\n",
       "      <td>[\"How can I create a test set for a very rare ...</td>\n",
       "      <td>[\"Creating a test set for a very rare category...</td>\n",
       "      <td>[\"When building a classifier for a very rare c...</td>\n",
       "      <td>1</td>\n",
       "      <td>0</td>\n",
       "      <td>0</td>\n",
       "      <td>How can I create a test set for a very rare ca...</td>\n",
       "      <td>Creating a test set for a very rare category c...</td>\n",
       "      <td>When building a classifier for a very rare cat...</td>\n",
       "    </tr>\n",
       "    <tr>\n",
       "      <th>4</th>\n",
       "      <td>198779</td>\n",
       "      <td>koala-13b</td>\n",
       "      <td>gpt-3.5-turbo-0314</td>\n",
       "      <td>[\"What is the best way to travel from Tel-Aviv...</td>\n",
       "      <td>[\"The best way to travel from Tel Aviv to Jeru...</td>\n",
       "      <td>[\"The best way to travel from Tel-Aviv to Jeru...</td>\n",
       "      <td>0</td>\n",
       "      <td>1</td>\n",
       "      <td>0</td>\n",
       "      <td>What is the best way to travel from Tel-Aviv t...</td>\n",
       "      <td>The best way to travel from Tel Aviv to Jerusa...</td>\n",
       "      <td>The best way to travel from Tel-Aviv to Jerusa...</td>\n",
       "    </tr>\n",
       "    <tr>\n",
       "      <th>...</th>\n",
       "      <td>...</td>\n",
       "      <td>...</td>\n",
       "      <td>...</td>\n",
       "      <td>...</td>\n",
       "      <td>...</td>\n",
       "      <td>...</td>\n",
       "      <td>...</td>\n",
       "      <td>...</td>\n",
       "      <td>...</td>\n",
       "      <td>...</td>\n",
       "      <td>...</td>\n",
       "      <td>...</td>\n",
       "    </tr>\n",
       "    <tr>\n",
       "      <th>57472</th>\n",
       "      <td>4294656694</td>\n",
       "      <td>gpt-4-0613</td>\n",
       "      <td>claude-1</td>\n",
       "      <td>[\"A simple mnemonic for \\u03c0:\\n\\\"How I wish ...</td>\n",
       "      <td>[\"Sure, let's break it down:\\n\\n1. \\\"How\\\" has...</td>\n",
       "      <td>[\"Here is how that mnemonic represents the dig...</td>\n",
       "      <td>1</td>\n",
       "      <td>0</td>\n",
       "      <td>0</td>\n",
       "      <td>A simple mnemonic for π:\\n\"How I wish I could ...</td>\n",
       "      <td>Sure, let's break it down:\\n\\n1. \"How\" has 3 l...</td>\n",
       "      <td>Here is how that mnemonic represents the digit...</td>\n",
       "    </tr>\n",
       "    <tr>\n",
       "      <th>57473</th>\n",
       "      <td>4294692063</td>\n",
       "      <td>claude-2.0</td>\n",
       "      <td>llama-2-13b-chat</td>\n",
       "      <td>[\"In python, implement a naive Bayes with gaus...</td>\n",
       "      <td>[\"Here is an implementation of a naive Bayes c...</td>\n",
       "      <td>[\"Sure! Here's an implementation of a naive Ba...</td>\n",
       "      <td>1</td>\n",
       "      <td>0</td>\n",
       "      <td>0</td>\n",
       "      <td>In python, implement a naive Bayes with gaussi...</td>\n",
       "      <td>Here is an implementation of a naive Bayes cla...</td>\n",
       "      <td>Sure! Here's an implementation of a naive Baye...</td>\n",
       "    </tr>\n",
       "    <tr>\n",
       "      <th>57474</th>\n",
       "      <td>4294710549</td>\n",
       "      <td>claude-1</td>\n",
       "      <td>alpaca-13b</td>\n",
       "      <td>[\"is it unethical to work on building weapons?...</td>\n",
       "      <td>[\"Working on weapons technology raises some et...</td>\n",
       "      <td>[\"It depends on the context. Weapons can be us...</td>\n",
       "      <td>1</td>\n",
       "      <td>0</td>\n",
       "      <td>0</td>\n",
       "      <td>is it unethical to work on building weapons?\\n...</td>\n",
       "      <td>Working on weapons technology raises some ethi...</td>\n",
       "      <td>It depends on the context. Weapons can be used...</td>\n",
       "    </tr>\n",
       "    <tr>\n",
       "      <th>57475</th>\n",
       "      <td>4294899228</td>\n",
       "      <td>palm-2</td>\n",
       "      <td>tulu-2-dpo-70b</td>\n",
       "      <td>[\"If a bait contains 0,0025% bromadiolon then ...</td>\n",
       "      <td>[\"Bromadiolone is a rodenticide which is most ...</td>\n",
       "      <td>[\"As an AI language model, I do not promote or...</td>\n",
       "      <td>0</td>\n",
       "      <td>1</td>\n",
       "      <td>0</td>\n",
       "      <td>If a bait contains 0,0025% bromadiolon then ho...</td>\n",
       "      <td>Bromadiolone is a rodenticide which is most of...</td>\n",
       "      <td>As an AI language model, I do not promote or c...</td>\n",
       "    </tr>\n",
       "    <tr>\n",
       "      <th>57476</th>\n",
       "      <td>4294947231</td>\n",
       "      <td>gemini-pro-dev-api</td>\n",
       "      <td>gpt-4-1106-preview</td>\n",
       "      <td>[\"three kids eat three apples in three days, h...</td>\n",
       "      <td>[\"27 apples\"]</td>\n",
       "      <td>[\"If three kids eat three apples in three days...</td>\n",
       "      <td>1</td>\n",
       "      <td>0</td>\n",
       "      <td>0</td>\n",
       "      <td>three kids eat three apples in three days, how...</td>\n",
       "      <td>27 apples</td>\n",
       "      <td>If three kids eat three apples in three days, ...</td>\n",
       "    </tr>\n",
       "  </tbody>\n",
       "</table>\n",
       "<p>57477 rows × 12 columns</p>\n",
       "</div>"
      ],
      "text/plain": [
       "               id             model_a              model_b  \\\n",
       "0           30192  gpt-4-1106-preview           gpt-4-0613   \n",
       "1           53567           koala-13b           gpt-4-0613   \n",
       "2           65089  gpt-3.5-turbo-0613       mistral-medium   \n",
       "3           96401    llama-2-13b-chat  mistral-7b-instruct   \n",
       "4          198779           koala-13b   gpt-3.5-turbo-0314   \n",
       "...           ...                 ...                  ...   \n",
       "57472  4294656694          gpt-4-0613             claude-1   \n",
       "57473  4294692063          claude-2.0     llama-2-13b-chat   \n",
       "57474  4294710549            claude-1           alpaca-13b   \n",
       "57475  4294899228              palm-2       tulu-2-dpo-70b   \n",
       "57476  4294947231  gemini-pro-dev-api   gpt-4-1106-preview   \n",
       "\n",
       "                                                  prompt  \\\n",
       "0      [\"Is it morally right to try to have a certain...   \n",
       "1      [\"What is the difference between marriage lice...   \n",
       "2      [\"explain function calling. how would you call...   \n",
       "3      [\"How can I create a test set for a very rare ...   \n",
       "4      [\"What is the best way to travel from Tel-Aviv...   \n",
       "...                                                  ...   \n",
       "57472  [\"A simple mnemonic for \\u03c0:\\n\\\"How I wish ...   \n",
       "57473  [\"In python, implement a naive Bayes with gaus...   \n",
       "57474  [\"is it unethical to work on building weapons?...   \n",
       "57475  [\"If a bait contains 0,0025% bromadiolon then ...   \n",
       "57476  [\"three kids eat three apples in three days, h...   \n",
       "\n",
       "                                              response_a  \\\n",
       "0      [\"The question of whether it is morally right ...   \n",
       "1      [\"A marriage license is a legal document that ...   \n",
       "2      [\"Function calling is the process of invoking ...   \n",
       "3      [\"Creating a test set for a very rare category...   \n",
       "4      [\"The best way to travel from Tel Aviv to Jeru...   \n",
       "...                                                  ...   \n",
       "57472  [\"Sure, let's break it down:\\n\\n1. \\\"How\\\" has...   \n",
       "57473  [\"Here is an implementation of a naive Bayes c...   \n",
       "57474  [\"Working on weapons technology raises some et...   \n",
       "57475  [\"Bromadiolone is a rodenticide which is most ...   \n",
       "57476                                      [\"27 apples\"]   \n",
       "\n",
       "                                              response_b winner_model_a  \\\n",
       "0      [\"As an AI, I don't have personal beliefs or o...              1   \n",
       "1      [\"A marriage license and a marriage certificat...              0   \n",
       "2      [\"Function calling is the process of invoking ...              0   \n",
       "3      [\"When building a classifier for a very rare c...              1   \n",
       "4      [\"The best way to travel from Tel-Aviv to Jeru...              0   \n",
       "...                                                  ...            ...   \n",
       "57472  [\"Here is how that mnemonic represents the dig...              1   \n",
       "57473  [\"Sure! Here's an implementation of a naive Ba...              1   \n",
       "57474  [\"It depends on the context. Weapons can be us...              1   \n",
       "57475  [\"As an AI language model, I do not promote or...              0   \n",
       "57476  [\"If three kids eat three apples in three days...              1   \n",
       "\n",
       "      winner_model_b winner_tie  \\\n",
       "0                  0          0   \n",
       "1                  1          0   \n",
       "2                  0          1   \n",
       "3                  0          0   \n",
       "4                  1          0   \n",
       "...              ...        ...   \n",
       "57472              0          0   \n",
       "57473              0          0   \n",
       "57474              0          0   \n",
       "57475              1          0   \n",
       "57476              0          0   \n",
       "\n",
       "                                            prompt_clean  \\\n",
       "0      Is it morally right to try to have a certain p...   \n",
       "1      What is the difference between marriage licens...   \n",
       "2      explain function calling. how would you call a...   \n",
       "3      How can I create a test set for a very rare ca...   \n",
       "4      What is the best way to travel from Tel-Aviv t...   \n",
       "...                                                  ...   \n",
       "57472  A simple mnemonic for π:\\n\"How I wish I could ...   \n",
       "57473  In python, implement a naive Bayes with gaussi...   \n",
       "57474  is it unethical to work on building weapons?\\n...   \n",
       "57475  If a bait contains 0,0025% bromadiolon then ho...   \n",
       "57476  three kids eat three apples in three days, how...   \n",
       "\n",
       "                                        response_a_clean  \\\n",
       "0      The question of whether it is morally right to...   \n",
       "1      A marriage license is a legal document that al...   \n",
       "2      Function calling is the process of invoking or...   \n",
       "3      Creating a test set for a very rare category c...   \n",
       "4      The best way to travel from Tel Aviv to Jerusa...   \n",
       "...                                                  ...   \n",
       "57472  Sure, let's break it down:\\n\\n1. \"How\" has 3 l...   \n",
       "57473  Here is an implementation of a naive Bayes cla...   \n",
       "57474  Working on weapons technology raises some ethi...   \n",
       "57475  Bromadiolone is a rodenticide which is most of...   \n",
       "57476                                          27 apples   \n",
       "\n",
       "                                        response_b_clean  \n",
       "0      As an AI, I don't have personal beliefs or opi...  \n",
       "1      A marriage license and a marriage certificate ...  \n",
       "2      Function calling is the process of invoking a ...  \n",
       "3      When building a classifier for a very rare cat...  \n",
       "4      The best way to travel from Tel-Aviv to Jerusa...  \n",
       "...                                                  ...  \n",
       "57472  Here is how that mnemonic represents the digit...  \n",
       "57473  Sure! Here's an implementation of a naive Baye...  \n",
       "57474  It depends on the context. Weapons can be used...  \n",
       "57475  As an AI language model, I do not promote or c...  \n",
       "57476  If three kids eat three apples in three days, ...  \n",
       "\n",
       "[57477 rows x 12 columns]"
      ]
     },
     "execution_count": 5,
     "metadata": {},
     "output_type": "execute_result"
    }
   ],
   "source": [
    "def eval_and_join(row, key: str):\n",
    "    try:\n",
    "        p_code = row[key]\n",
    "        p_code = p_code.replace(r'\\/', '/')\n",
    "        p_code = p_code.replace(r'null', '\"\"')\n",
    "        \n",
    "        #if p_code == \"null\":\n",
    "        #    return \"\"\n",
    "        \n",
    "        arr = eval(p_code)\n",
    "        return \"\\n\".join(arr)\n",
    "    except Exception as e:\n",
    "        print(f\"Failed to parse! {e}\\n {p_code}\")\n",
    "        return \"\"\n",
    "        #print(f\"Failed to parse: {p_code}\")\n",
    "\n",
    "def parse_array_and_join(key: str):\n",
    "    return lambda row: eval_and_join(row, key)\n",
    "\n",
    "df = df.fillna('').astype(str)\n",
    "\n",
    "df[\"prompt_clean\"] = df.apply(parse_array_and_join(\"prompt\"), axis=1)\n",
    "df[\"response_a_clean\"] = df.apply(parse_array_and_join(\"response_a\"), axis=1)\n",
    "df[\"response_b_clean\"] = df.apply(parse_array_and_join(\"response_b\"), axis=1)\n",
    "df"
   ]
  },
  {
   "cell_type": "markdown",
   "id": "68c7074e-98d6-440a-a530-4d99b36df1f2",
   "metadata": {},
   "source": [
    "Ahora aplicamos la siguiente limpieza de texto:\n",
    "\n",
    "1. **Relleno de nulos**: `NA -> \"\"`.\n",
    "2. **Desescape HTML**: `html.unescape` (convierte `&amp;` -> `&`, etc.).\n",
    "3. **Arreglo de codificación**: `autoFixEncoding` (ver arriba).\n",
    "4. **Normalización Unicode (NFKC)**: homogeneiza formas equivalentes (espacios, signos, letras compuestas).\n",
    "5. **Eliminación de URLs**: borra `http(s)://…` y `www.…`.\n",
    "6. **Eliminación de menciones**: quita `@usuario`.\n",
    "7. **Eliminación de hashtags**: quita `#palabra` (el hash y el token).\n",
    "8. **Eliminación de emojis/símbolos**: limpia rangos U+1F300–1FAFF y ☀–⛿.\n",
    "9. **Eliminación de puntuación**: deja solo letras/dígitos/espacios.\n",
    "10. **Limpieza de guiones bajos**: colapsa `_` residuales.\n",
    "11. **Transliteración a ASCII** con **`unidecode`**: `café -> cafe`, `niño -> nino`.\n",
    "13. **Minúsculas**\n",
    "14. **Espacios**: colapsa múltiples espacios y hace *trim*.\n",
    "15. **Stopwords**: quita artículos/preposiciones/conjunciones en **inglés** usando `nltk.corpus.stopwords`."
   ]
  },
  {
   "cell_type": "code",
   "execution_count": 6,
   "id": "06c79829-4af3-4a27-872e-4952df35cc39",
   "metadata": {
    "execution": {
     "iopub.execute_input": "2025-10-22T01:36:24.003665Z",
     "iopub.status.busy": "2025-10-22T01:36:24.003414Z",
     "iopub.status.idle": "2025-10-22T01:36:24.010794Z",
     "shell.execute_reply": "2025-10-22T01:36:24.009991Z",
     "shell.execute_reply.started": "2025-10-22T01:36:24.003645Z"
    }
   },
   "outputs": [],
   "source": [
    "stp = set(stopwords.words(STOPWORDS_LANG))\n",
    "\n",
    "def cleaningData(df: pd.DataFrame, column: str) -> pd.DataFrame:\n",
    "    s = df[column].fillna('').astype(str)\n",
    "    # s = s.apply(autoFixEncoding)\n",
    "    # s = s.apply(lambda t: unicodedata.normalize(\"NFKC\", t))\n",
    "    s = s.str.replace(r'(https?://\\S+|www\\.\\S+)', ' ', regex=True)\n",
    "    s = s.str.replace(r'@\\w+', ' ', regex=True)\n",
    "    s = s.str.replace(r'#\\w+', ' ', regex=True)\n",
    "    #s = s.str.replace(r'[\\U0001F300-\\U0001FAFF\\u2600-\\u26FF]+', ' ', regex=True)\n",
    "    #s = s.str.replace(r\"[^\\w\\s]\", \" \", regex=True)\n",
    "    s = s.str.replace(r\"_+\", \" \", regex=True)\n",
    "    #try:\n",
    "    #    s = s.apply(unidecode)\n",
    "    #except Exception:\n",
    "    #    pass\n",
    "    # s = s.str.replace(r\"[^\\x00-\\x7F]+\", \" \", regex=True)\n",
    "    s = s.str.lower()\n",
    "    s = s.str.replace(r\"\\.\", \" \", regex=True)\n",
    "    s = s.str.replace(r\"\\s+\", \" \", regex=True).str.strip()    \n",
    "    s = s.apply(lambda t: \" \".join(w for w in t.split() if w not in stp))\n",
    "\n",
    "    df[column] = s\n",
    "    return df"
   ]
  },
  {
   "cell_type": "code",
   "execution_count": 7,
   "id": "59bab2b2-8225-4bee-9476-c73094a58db2",
   "metadata": {
    "execution": {
     "iopub.execute_input": "2025-10-22T01:36:24.011660Z",
     "iopub.status.busy": "2025-10-22T01:36:24.011443Z",
     "iopub.status.idle": "2025-10-22T01:36:41.116671Z",
     "shell.execute_reply": "2025-10-22T01:36:41.116102Z",
     "shell.execute_reply.started": "2025-10-22T01:36:24.011636Z"
    },
    "scrolled": true
   },
   "outputs": [
    {
     "data": {
      "text/html": [
       "<div>\n",
       "<style scoped>\n",
       "    .dataframe tbody tr th:only-of-type {\n",
       "        vertical-align: middle;\n",
       "    }\n",
       "\n",
       "    .dataframe tbody tr th {\n",
       "        vertical-align: top;\n",
       "    }\n",
       "\n",
       "    .dataframe thead th {\n",
       "        text-align: right;\n",
       "    }\n",
       "</style>\n",
       "<table border=\"1\" class=\"dataframe\">\n",
       "  <thead>\n",
       "    <tr style=\"text-align: right;\">\n",
       "      <th></th>\n",
       "      <th>id</th>\n",
       "      <th>model_a</th>\n",
       "      <th>model_b</th>\n",
       "      <th>prompt</th>\n",
       "      <th>response_a</th>\n",
       "      <th>response_b</th>\n",
       "      <th>winner_model_a</th>\n",
       "      <th>winner_model_b</th>\n",
       "      <th>winner_tie</th>\n",
       "      <th>prompt_clean</th>\n",
       "      <th>response_a_clean</th>\n",
       "      <th>response_b_clean</th>\n",
       "    </tr>\n",
       "  </thead>\n",
       "  <tbody>\n",
       "    <tr>\n",
       "      <th>0</th>\n",
       "      <td>30192</td>\n",
       "      <td>gpt-4-1106-preview</td>\n",
       "      <td>gpt-4-0613</td>\n",
       "      <td>[\"Is it morally right to try to have a certain...</td>\n",
       "      <td>[\"The question of whether it is morally right ...</td>\n",
       "      <td>[\"As an AI, I don't have personal beliefs or o...</td>\n",
       "      <td>1</td>\n",
       "      <td>0</td>\n",
       "      <td>0</td>\n",
       "      <td>morally right try certain percentage females m...</td>\n",
       "      <td>question whether morally right aim certain per...</td>\n",
       "      <td>ai, personal beliefs opinions however, tell qu...</td>\n",
       "    </tr>\n",
       "    <tr>\n",
       "      <th>1</th>\n",
       "      <td>53567</td>\n",
       "      <td>koala-13b</td>\n",
       "      <td>gpt-4-0613</td>\n",
       "      <td>[\"What is the difference between marriage lice...</td>\n",
       "      <td>[\"A marriage license is a legal document that ...</td>\n",
       "      <td>[\"A marriage license and a marriage certificat...</td>\n",
       "      <td>0</td>\n",
       "      <td>1</td>\n",
       "      <td>0</td>\n",
       "      <td>difference marriage license marriage certifica...</td>\n",
       "      <td>marriage license legal document allows couple ...</td>\n",
       "      <td>marriage license marriage certificate two diff...</td>\n",
       "    </tr>\n",
       "    <tr>\n",
       "      <th>2</th>\n",
       "      <td>65089</td>\n",
       "      <td>gpt-3.5-turbo-0613</td>\n",
       "      <td>mistral-medium</td>\n",
       "      <td>[\"explain function calling. how would you call...</td>\n",
       "      <td>[\"Function calling is the process of invoking ...</td>\n",
       "      <td>[\"Function calling is the process of invoking ...</td>\n",
       "      <td>0</td>\n",
       "      <td>0</td>\n",
       "      <td>1</td>\n",
       "      <td>explain function calling would call function?</td>\n",
       "      <td>function calling process invoking executing fu...</td>\n",
       "      <td>function calling process invoking function pro...</td>\n",
       "    </tr>\n",
       "    <tr>\n",
       "      <th>3</th>\n",
       "      <td>96401</td>\n",
       "      <td>llama-2-13b-chat</td>\n",
       "      <td>mistral-7b-instruct</td>\n",
       "      <td>[\"How can I create a test set for a very rare ...</td>\n",
       "      <td>[\"Creating a test set for a very rare category...</td>\n",
       "      <td>[\"When building a classifier for a very rare c...</td>\n",
       "      <td>1</td>\n",
       "      <td>0</td>\n",
       "      <td>0</td>\n",
       "      <td>create test set rare category? want build clas...</td>\n",
       "      <td>creating test set rare category challenging, m...</td>\n",
       "      <td>building classifier rare category, creating te...</td>\n",
       "    </tr>\n",
       "    <tr>\n",
       "      <th>4</th>\n",
       "      <td>198779</td>\n",
       "      <td>koala-13b</td>\n",
       "      <td>gpt-3.5-turbo-0314</td>\n",
       "      <td>[\"What is the best way to travel from Tel-Aviv...</td>\n",
       "      <td>[\"The best way to travel from Tel Aviv to Jeru...</td>\n",
       "      <td>[\"The best way to travel from Tel-Aviv to Jeru...</td>\n",
       "      <td>0</td>\n",
       "      <td>1</td>\n",
       "      <td>0</td>\n",
       "      <td>best way travel tel-aviv jerusalem? car? bus? ...</td>\n",
       "      <td>best way travel tel aviv jerusalem depends per...</td>\n",
       "      <td>best way travel tel-aviv jerusalem depends per...</td>\n",
       "    </tr>\n",
       "    <tr>\n",
       "      <th>...</th>\n",
       "      <td>...</td>\n",
       "      <td>...</td>\n",
       "      <td>...</td>\n",
       "      <td>...</td>\n",
       "      <td>...</td>\n",
       "      <td>...</td>\n",
       "      <td>...</td>\n",
       "      <td>...</td>\n",
       "      <td>...</td>\n",
       "      <td>...</td>\n",
       "      <td>...</td>\n",
       "      <td>...</td>\n",
       "    </tr>\n",
       "    <tr>\n",
       "      <th>57472</th>\n",
       "      <td>4294656694</td>\n",
       "      <td>gpt-4-0613</td>\n",
       "      <td>claude-1</td>\n",
       "      <td>[\"A simple mnemonic for \\u03c0:\\n\\\"How I wish ...</td>\n",
       "      <td>[\"Sure, let's break it down:\\n\\n1. \\\"How\\\" has...</td>\n",
       "      <td>[\"Here is how that mnemonic represents the dig...</td>\n",
       "      <td>1</td>\n",
       "      <td>0</td>\n",
       "      <td>0</td>\n",
       "      <td>simple mnemonic π: \"how wish could enumerate p...</td>\n",
       "      <td>sure, let's break down: 1 \"how\" 3 letters 2 \"i...</td>\n",
       "      <td>mnemonic represents digits π: = 3 letters -&gt; π...</td>\n",
       "    </tr>\n",
       "    <tr>\n",
       "      <th>57473</th>\n",
       "      <td>4294692063</td>\n",
       "      <td>claude-2.0</td>\n",
       "      <td>llama-2-13b-chat</td>\n",
       "      <td>[\"In python, implement a naive Bayes with gaus...</td>\n",
       "      <td>[\"Here is an implementation of a naive Bayes c...</td>\n",
       "      <td>[\"Sure! Here's an implementation of a naive Ba...</td>\n",
       "      <td>1</td>\n",
       "      <td>0</td>\n",
       "      <td>0</td>\n",
       "      <td>python, implement naive bayes gaussian mixture...</td>\n",
       "      <td>implementation naive bayes classifier gaussian...</td>\n",
       "      <td>sure! here's implementation naive bayes classi...</td>\n",
       "    </tr>\n",
       "    <tr>\n",
       "      <th>57474</th>\n",
       "      <td>4294710549</td>\n",
       "      <td>claude-1</td>\n",
       "      <td>alpaca-13b</td>\n",
       "      <td>[\"is it unethical to work on building weapons?...</td>\n",
       "      <td>[\"Working on weapons technology raises some et...</td>\n",
       "      <td>[\"It depends on the context. Weapons can be us...</td>\n",
       "      <td>1</td>\n",
       "      <td>0</td>\n",
       "      <td>0</td>\n",
       "      <td>unethical work building weapons? deterrents ne...</td>\n",
       "      <td>working weapons technology raises ethical ques...</td>\n",
       "      <td>depends context weapons used defensive purpose...</td>\n",
       "    </tr>\n",
       "    <tr>\n",
       "      <th>57475</th>\n",
       "      <td>4294899228</td>\n",
       "      <td>palm-2</td>\n",
       "      <td>tulu-2-dpo-70b</td>\n",
       "      <td>[\"If a bait contains 0,0025% bromadiolon then ...</td>\n",
       "      <td>[\"Bromadiolone is a rodenticide which is most ...</td>\n",
       "      <td>[\"As an AI language model, I do not promote or...</td>\n",
       "      <td>0</td>\n",
       "      <td>1</td>\n",
       "      <td>0</td>\n",
       "      <td>bait contains 0,0025% bromadiolon much adult r...</td>\n",
       "      <td>bromadiolone rodenticide often used bait secon...</td>\n",
       "      <td>ai language model, promote condone use poison ...</td>\n",
       "    </tr>\n",
       "    <tr>\n",
       "      <th>57476</th>\n",
       "      <td>4294947231</td>\n",
       "      <td>gemini-pro-dev-api</td>\n",
       "      <td>gpt-4-1106-preview</td>\n",
       "      <td>[\"three kids eat three apples in three days, h...</td>\n",
       "      <td>[\"27 apples\"]</td>\n",
       "      <td>[\"If three kids eat three apples in three days...</td>\n",
       "      <td>1</td>\n",
       "      <td>0</td>\n",
       "      <td>0</td>\n",
       "      <td>three kids eat three apples three days, many a...</td>\n",
       "      <td>27 apples</td>\n",
       "      <td>three kids eat three apples three days, kid ea...</td>\n",
       "    </tr>\n",
       "  </tbody>\n",
       "</table>\n",
       "<p>57477 rows × 12 columns</p>\n",
       "</div>"
      ],
      "text/plain": [
       "               id             model_a              model_b  \\\n",
       "0           30192  gpt-4-1106-preview           gpt-4-0613   \n",
       "1           53567           koala-13b           gpt-4-0613   \n",
       "2           65089  gpt-3.5-turbo-0613       mistral-medium   \n",
       "3           96401    llama-2-13b-chat  mistral-7b-instruct   \n",
       "4          198779           koala-13b   gpt-3.5-turbo-0314   \n",
       "...           ...                 ...                  ...   \n",
       "57472  4294656694          gpt-4-0613             claude-1   \n",
       "57473  4294692063          claude-2.0     llama-2-13b-chat   \n",
       "57474  4294710549            claude-1           alpaca-13b   \n",
       "57475  4294899228              palm-2       tulu-2-dpo-70b   \n",
       "57476  4294947231  gemini-pro-dev-api   gpt-4-1106-preview   \n",
       "\n",
       "                                                  prompt  \\\n",
       "0      [\"Is it morally right to try to have a certain...   \n",
       "1      [\"What is the difference between marriage lice...   \n",
       "2      [\"explain function calling. how would you call...   \n",
       "3      [\"How can I create a test set for a very rare ...   \n",
       "4      [\"What is the best way to travel from Tel-Aviv...   \n",
       "...                                                  ...   \n",
       "57472  [\"A simple mnemonic for \\u03c0:\\n\\\"How I wish ...   \n",
       "57473  [\"In python, implement a naive Bayes with gaus...   \n",
       "57474  [\"is it unethical to work on building weapons?...   \n",
       "57475  [\"If a bait contains 0,0025% bromadiolon then ...   \n",
       "57476  [\"three kids eat three apples in three days, h...   \n",
       "\n",
       "                                              response_a  \\\n",
       "0      [\"The question of whether it is morally right ...   \n",
       "1      [\"A marriage license is a legal document that ...   \n",
       "2      [\"Function calling is the process of invoking ...   \n",
       "3      [\"Creating a test set for a very rare category...   \n",
       "4      [\"The best way to travel from Tel Aviv to Jeru...   \n",
       "...                                                  ...   \n",
       "57472  [\"Sure, let's break it down:\\n\\n1. \\\"How\\\" has...   \n",
       "57473  [\"Here is an implementation of a naive Bayes c...   \n",
       "57474  [\"Working on weapons technology raises some et...   \n",
       "57475  [\"Bromadiolone is a rodenticide which is most ...   \n",
       "57476                                      [\"27 apples\"]   \n",
       "\n",
       "                                              response_b winner_model_a  \\\n",
       "0      [\"As an AI, I don't have personal beliefs or o...              1   \n",
       "1      [\"A marriage license and a marriage certificat...              0   \n",
       "2      [\"Function calling is the process of invoking ...              0   \n",
       "3      [\"When building a classifier for a very rare c...              1   \n",
       "4      [\"The best way to travel from Tel-Aviv to Jeru...              0   \n",
       "...                                                  ...            ...   \n",
       "57472  [\"Here is how that mnemonic represents the dig...              1   \n",
       "57473  [\"Sure! Here's an implementation of a naive Ba...              1   \n",
       "57474  [\"It depends on the context. Weapons can be us...              1   \n",
       "57475  [\"As an AI language model, I do not promote or...              0   \n",
       "57476  [\"If three kids eat three apples in three days...              1   \n",
       "\n",
       "      winner_model_b winner_tie  \\\n",
       "0                  0          0   \n",
       "1                  1          0   \n",
       "2                  0          1   \n",
       "3                  0          0   \n",
       "4                  1          0   \n",
       "...              ...        ...   \n",
       "57472              0          0   \n",
       "57473              0          0   \n",
       "57474              0          0   \n",
       "57475              1          0   \n",
       "57476              0          0   \n",
       "\n",
       "                                            prompt_clean  \\\n",
       "0      morally right try certain percentage females m...   \n",
       "1      difference marriage license marriage certifica...   \n",
       "2          explain function calling would call function?   \n",
       "3      create test set rare category? want build clas...   \n",
       "4      best way travel tel-aviv jerusalem? car? bus? ...   \n",
       "...                                                  ...   \n",
       "57472  simple mnemonic π: \"how wish could enumerate p...   \n",
       "57473  python, implement naive bayes gaussian mixture...   \n",
       "57474  unethical work building weapons? deterrents ne...   \n",
       "57475  bait contains 0,0025% bromadiolon much adult r...   \n",
       "57476  three kids eat three apples three days, many a...   \n",
       "\n",
       "                                        response_a_clean  \\\n",
       "0      question whether morally right aim certain per...   \n",
       "1      marriage license legal document allows couple ...   \n",
       "2      function calling process invoking executing fu...   \n",
       "3      creating test set rare category challenging, m...   \n",
       "4      best way travel tel aviv jerusalem depends per...   \n",
       "...                                                  ...   \n",
       "57472  sure, let's break down: 1 \"how\" 3 letters 2 \"i...   \n",
       "57473  implementation naive bayes classifier gaussian...   \n",
       "57474  working weapons technology raises ethical ques...   \n",
       "57475  bromadiolone rodenticide often used bait secon...   \n",
       "57476                                          27 apples   \n",
       "\n",
       "                                        response_b_clean  \n",
       "0      ai, personal beliefs opinions however, tell qu...  \n",
       "1      marriage license marriage certificate two diff...  \n",
       "2      function calling process invoking function pro...  \n",
       "3      building classifier rare category, creating te...  \n",
       "4      best way travel tel-aviv jerusalem depends per...  \n",
       "...                                                  ...  \n",
       "57472  mnemonic represents digits π: = 3 letters -> π...  \n",
       "57473  sure! here's implementation naive bayes classi...  \n",
       "57474  depends context weapons used defensive purpose...  \n",
       "57475  ai language model, promote condone use poison ...  \n",
       "57476  three kids eat three apples three days, kid ea...  \n",
       "\n",
       "[57477 rows x 12 columns]"
      ]
     },
     "execution_count": 7,
     "metadata": {},
     "output_type": "execute_result"
    }
   ],
   "source": [
    "df = cleaningData(df, \"prompt_clean\")\n",
    "df = cleaningData(df, \"response_a_clean\")\n",
    "df = cleaningData(df, \"response_b_clean\")\n",
    "df"
   ]
  },
  {
   "cell_type": "code",
   "execution_count": 8,
   "id": "457bcdc6-8c19-4ff4-9fb5-d638c352c958",
   "metadata": {
    "execution": {
     "iopub.execute_input": "2025-10-22T01:36:41.117633Z",
     "iopub.status.busy": "2025-10-22T01:36:41.117445Z",
     "iopub.status.idle": "2025-10-22T01:36:41.132878Z",
     "shell.execute_reply": "2025-10-22T01:36:41.132295Z",
     "shell.execute_reply.started": "2025-10-22T01:36:41.117614Z"
    }
   },
   "outputs": [
    {
     "data": {
      "text/plain": [
       "''"
      ]
     },
     "execution_count": 8,
     "metadata": {},
     "output_type": "execute_result"
    }
   ],
   "source": [
    "df[df[\"response_a_clean\"] == \"\"][\"response_a_clean\"].iloc[1]\n",
    "#df[df[\"response_a_clean\"] == \"\"].iloc[1]\n",
    "#df[df[\"response_a_clean\"] == \"\"]"
   ]
  },
  {
   "cell_type": "code",
   "execution_count": 9,
   "id": "8a7398ef",
   "metadata": {
    "execution": {
     "iopub.execute_input": "2025-10-22T01:36:41.133842Z",
     "iopub.status.busy": "2025-10-22T01:36:41.133636Z",
     "iopub.status.idle": "2025-10-22T01:36:41.223686Z",
     "shell.execute_reply": "2025-10-22T01:36:41.223032Z",
     "shell.execute_reply.started": "2025-10-22T01:36:41.133823Z"
    }
   },
   "outputs": [],
   "source": [
    "# Primero aseguramos que no haya espacios sueltos\n",
    "df[\"response_a_clean\"] = df[\"response_a_clean\"].str.strip()\n",
    "df[\"response_b_clean\"] = df[\"response_b_clean\"].str.strip()\n",
    "\n",
    "# Eliminamos filas donde alguno esté vacío\n",
    "df = df[(df[\"response_a_clean\"] != \"\") & (df[\"response_b_clean\"] != \"\")]\n",
    "\n"
   ]
  },
  {
   "cell_type": "markdown",
   "id": "193cad6a-7aa8-49cf-ac38-7181f30bfc46",
   "metadata": {},
   "source": [
    "### EDA\n",
    "\n",
    "Como primer punto podemos ver la distribución de modelos usados dentro del dataset:"
   ]
  },
  {
   "cell_type": "code",
   "execution_count": 10,
   "id": "7a8e8970-aab3-4622-82e5-7a435087709f",
   "metadata": {
    "execution": {
     "iopub.execute_input": "2025-10-22T01:36:41.224624Z",
     "iopub.status.busy": "2025-10-22T01:36:41.224430Z",
     "iopub.status.idle": "2025-10-22T01:36:41.508549Z",
     "shell.execute_reply": "2025-10-22T01:36:41.508014Z",
     "shell.execute_reply.started": "2025-10-22T01:36:41.224605Z"
    }
   },
   "outputs": [
    {
     "data": {
      "text/plain": [
       "<BarContainer object of 10 artists>"
      ]
     },
     "execution_count": 10,
     "metadata": {},
     "output_type": "execute_result"
    },
    {
     "data": {
      "image/png": "[encoded data removed]",
      "text/plain": [
       "<Figure size 640x480 with 1 Axes>"
      ]
     },
     "metadata": {},
     "output_type": "display_data"
    }
   ],
   "source": [
    "modelCount = {}\n",
    "for name in df[\"model_a\"]:\n",
    "    if name not in modelCount:\n",
    "        modelCount[name] = 0\n",
    "    modelCount[name] += 1\n",
    "for name in df[\"model_b\"]:\n",
    "    if name not in modelCount:\n",
    "        modelCount[name] = 0\n",
    "    modelCount[name] += 1\n",
    "\n",
    "modelCount = Counter(modelCount)\n",
    "x = [k for k,v in modelCount.most_common(10)]\n",
    "height = [v for k,v in modelCount.most_common(10)]\n",
    "plt.xticks(rotation=70)\n",
    "plt.bar(x=x, height=height)"
   ]
  },
  {
   "cell_type": "code",
   "execution_count": 11,
   "id": "ea6ec238",
   "metadata": {
    "execution": {
     "iopub.execute_input": "2025-10-22T01:36:41.509510Z",
     "iopub.status.busy": "2025-10-22T01:36:41.509244Z",
     "iopub.status.idle": "2025-10-22T01:36:41.540955Z",
     "shell.execute_reply": "2025-10-22T01:36:41.540131Z",
     "shell.execute_reply.started": "2025-10-22T01:36:41.509490Z"
    }
   },
   "outputs": [],
   "source": [
    "df[\"id\"] = df[\"id\"].astype(int)\n",
    "df[\"winner_model_a\"] = df[\"winner_model_a\"].astype(int)\n",
    "df[\"winner_model_b\"] = df[\"winner_model_b\"].astype(int)\n",
    "df[\"winner_tie\"] = df[\"winner_tie\"].astype(int)\n",
    "\n",
    "\n",
    "\n"
   ]
  },
  {
   "cell_type": "code",
   "execution_count": 12,
   "id": "183e63b7",
   "metadata": {
    "execution": {
     "iopub.execute_input": "2025-10-22T01:36:41.541855Z",
     "iopub.status.busy": "2025-10-22T01:36:41.541649Z",
     "iopub.status.idle": "2025-10-22T01:36:41.546518Z",
     "shell.execute_reply": "2025-10-22T01:36:41.545728Z",
     "shell.execute_reply.started": "2025-10-22T01:36:41.541834Z"
    }
   },
   "outputs": [
    {
     "name": "stdout",
     "output_type": "stream",
     "text": [
      "(57250, 12)\n",
      "id                   int64\n",
      "model_a             object\n",
      "model_b             object\n",
      "prompt              object\n",
      "response_a          object\n",
      "response_b          object\n",
      "winner_model_a       int64\n",
      "winner_model_b       int64\n",
      "winner_tie           int64\n",
      "prompt_clean        object\n",
      "response_a_clean    object\n",
      "response_b_clean    object\n",
      "dtype: object\n"
     ]
    }
   ],
   "source": [
    "print(df.shape)        \n",
    "print(df.dtypes)       \n"
   ]
  },
  {
   "cell_type": "markdown",
   "id": "a3524e9b",
   "metadata": {},
   "source": [
    "Como segundo punto podemos ver un resumen de las variables numericas."
   ]
  },
  {
   "cell_type": "code",
   "execution_count": 13,
   "id": "144cd689",
   "metadata": {
    "execution": {
     "iopub.execute_input": "2025-10-22T01:36:41.547521Z",
     "iopub.status.busy": "2025-10-22T01:36:41.547323Z",
     "iopub.status.idle": "2025-10-22T01:36:41.600119Z",
     "shell.execute_reply": "2025-10-22T01:36:41.599171Z",
     "shell.execute_reply.started": "2025-10-22T01:36:41.547502Z"
    }
   },
   "outputs": [
    {
     "name": "stdout",
     "output_type": "stream",
     "text": [
      "id                  57250\n",
      "model_a             57250\n",
      "model_b             57250\n",
      "prompt              57250\n",
      "response_a          57250\n",
      "response_b          57250\n",
      "winner_model_a      57250\n",
      "winner_model_b      57250\n",
      "winner_tie          57250\n",
      "prompt_clean        57250\n",
      "response_a_clean    57250\n",
      "response_b_clean    57250\n",
      "dtype: int64\n"
     ]
    }
   ],
   "source": [
    "print(df.count())\n"
   ]
  },
  {
   "cell_type": "code",
   "execution_count": 14,
   "id": "75954999",
   "metadata": {
    "execution": {
     "iopub.execute_input": "2025-10-22T01:36:41.601079Z",
     "iopub.status.busy": "2025-10-22T01:36:41.600791Z",
     "iopub.status.idle": "2025-10-22T01:36:41.630221Z",
     "shell.execute_reply": "2025-10-22T01:36:41.629575Z",
     "shell.execute_reply.started": "2025-10-22T01:36:41.601050Z"
    }
   },
   "outputs": [
    {
     "name": "stdout",
     "output_type": "stream",
     "text": [
      "Resumen de variables numéricas (tendencia central y dispersión):\n",
      "\n",
      "                 id  winner_model_a  winner_model_b    winner_tie\n",
      "count  5.725000e+04    57250.000000    57250.000000  57250.000000\n",
      "mean   2.142330e+09        0.349502        0.342498      0.308000\n",
      "std    1.238442e+09        0.476817        0.474549      0.461671\n",
      "min    3.019200e+04        0.000000        0.000000      0.000000\n",
      "25%    1.071372e+09        0.000000        0.000000      0.000000\n",
      "50%    2.132983e+09        0.000000        0.000000      0.000000\n",
      "75%    3.212101e+09        1.000000        1.000000      1.000000\n",
      "max    4.294947e+09        1.000000        1.000000      1.000000\n",
      "\n",
      "Medianas de cada variable numérica:\n",
      "\n",
      "id                2.132983e+09\n",
      "winner_model_a    0.000000e+00\n",
      "winner_model_b    0.000000e+00\n",
      "winner_tie        0.000000e+00\n",
      "dtype: float64\n",
      "\n",
      "Varianzas de cada variable numérica:\n",
      "\n",
      "id                1.533739e+18\n",
      "winner_model_a    2.273544e-01\n",
      "winner_model_b    2.251970e-01\n",
      "winner_tie        2.131397e-01\n",
      "dtype: float64\n"
     ]
    }
   ],
   "source": [
    "resumen_numerico = df.describe()\n",
    "\n",
    "print(\"Resumen de variables numéricas (tendencia central y dispersión):\\n\")\n",
    "print(resumen_numerico)\n",
    "\n",
    "print(\"\\nMedianas de cada variable numérica:\\n\")\n",
    "print(df.median(numeric_only=True))\n",
    "\n",
    "print(\"\\nVarianzas de cada variable numérica:\\n\")\n",
    "print(df.var(numeric_only=True))\n"
   ]
  },
  {
   "cell_type": "markdown",
   "id": "682b8bb1",
   "metadata": {},
   "source": [
    "El dataset contiene 57,250 observaciones y múltiples variables tanto categóricas como numéricas. La variable id es única para cada registro, confirmando que no existen duplicados en el identificador. Las variables model_a y model_b registran 64 modelos distintos, siendo el más frecuente gpt-4-1106-preview, que aparece en 3,673 ocasiones como modelo A y en 3,702 como modelo B. La columna prompt muestra 51,636 instrucciones únicas, aunque existen prompts repetidos, siendo el más común con 101 repeticiones.\n",
    "\n"
   ]
  },
  {
   "cell_type": "markdown",
   "id": "c2b04a52",
   "metadata": {},
   "source": [
    "### **Elaborar tablas de frecuencia para variables categoricas**"
   ]
  },
  {
   "cell_type": "markdown",
   "id": "2a1dffaa",
   "metadata": {},
   "source": [
    "##### **Tabla de frecuencia de model_a**"
   ]
  },
  {
   "cell_type": "code",
   "execution_count": 15,
   "id": "a1175383",
   "metadata": {
    "execution": {
     "iopub.execute_input": "2025-10-22T01:36:41.631232Z",
     "iopub.status.busy": "2025-10-22T01:36:41.630941Z",
     "iopub.status.idle": "2025-10-22T01:36:41.648158Z",
     "shell.execute_reply": "2025-10-22T01:36:41.647553Z",
     "shell.execute_reply.started": "2025-10-22T01:36:41.631194Z"
    }
   },
   "outputs": [
    {
     "name": "stdout",
     "output_type": "stream",
     "text": [
      "Frecuencia de model_a (Top 10)\n"
     ]
    },
    {
     "data": {
      "text/plain": [
       "model_a\n",
       "gpt-4-1106-preview            3673\n",
       "gpt-3.5-turbo-0613            3542\n",
       "gpt-4-0613                    3093\n",
       "claude-2.1                    2854\n",
       "gpt-4-0314                    2076\n",
       "claude-instant-1              2067\n",
       "claude-1                      1945\n",
       "vicuna-33b                    1840\n",
       "mixtral-8x7b-instruct-v0.1    1739\n",
       "mistral-medium                1706\n",
       "Name: count, dtype: int64"
      ]
     },
     "metadata": {},
     "output_type": "display_data"
    },
    {
     "name": "stdout",
     "output_type": "stream",
     "text": [
      "\n",
      "Porcentaje de model_a (Top 10)\n"
     ]
    },
    {
     "data": {
      "text/plain": [
       "model_a\n",
       "gpt-4-1106-preview            6.415721\n",
       "gpt-3.5-turbo-0613            6.186900\n",
       "gpt-4-0613                    5.402620\n",
       "claude-2.1                    4.985153\n",
       "gpt-4-0314                    3.626201\n",
       "claude-instant-1              3.610480\n",
       "claude-1                      3.397380\n",
       "vicuna-33b                    3.213974\n",
       "mixtral-8x7b-instruct-v0.1    3.037555\n",
       "mistral-medium                2.979913\n",
       "Name: proportion, dtype: float64"
      ]
     },
     "metadata": {},
     "output_type": "display_data"
    }
   ],
   "source": [
    "print(\"Frecuencia de model_a (Top 10)\")\n",
    "display(df['model_a'].value_counts().head(10))  \n",
    "print(\"\\nPorcentaje de model_a (Top 10)\")\n",
    "display(df['model_a'].value_counts(normalize=True).head(10) * 100)\n"
   ]
  },
  {
   "cell_type": "markdown",
   "id": "979dcf11",
   "metadata": {},
   "source": [
    "#### **Tabla de frecuencia de model_b**"
   ]
  },
  {
   "cell_type": "code",
   "execution_count": 16,
   "id": "77fa4fb2",
   "metadata": {
    "execution": {
     "iopub.execute_input": "2025-10-22T01:36:41.649044Z",
     "iopub.status.busy": "2025-10-22T01:36:41.648803Z",
     "iopub.status.idle": "2025-10-22T01:36:41.665358Z",
     "shell.execute_reply": "2025-10-22T01:36:41.664792Z",
     "shell.execute_reply.started": "2025-10-22T01:36:41.649023Z"
    }
   },
   "outputs": [
    {
     "name": "stdout",
     "output_type": "stream",
     "text": [
      "Frecuencia de model_b (Top 10)\n"
     ]
    },
    {
     "data": {
      "text/plain": [
       "model_b\n",
       "gpt-4-1106-preview            3702\n",
       "gpt-3.5-turbo-0613            3520\n",
       "gpt-4-0613                    3058\n",
       "claude-2.1                    2722\n",
       "claude-instant-1              2039\n",
       "gpt-4-0314                    2028\n",
       "claude-1                      2012\n",
       "vicuna-33b                    1868\n",
       "mixtral-8x7b-instruct-v0.1    1801\n",
       "llama-2-70b-chat              1746\n",
       "Name: count, dtype: int64"
      ]
     },
     "metadata": {},
     "output_type": "display_data"
    },
    {
     "name": "stdout",
     "output_type": "stream",
     "text": [
      "\n",
      "Porcentaje de model_b (Top 10)\n"
     ]
    },
    {
     "data": {
      "text/plain": [
       "model_b\n",
       "gpt-4-1106-preview            6.466376\n",
       "gpt-3.5-turbo-0613            6.148472\n",
       "gpt-4-0613                    5.341485\n",
       "claude-2.1                    4.754585\n",
       "claude-instant-1              3.561572\n",
       "gpt-4-0314                    3.542358\n",
       "claude-1                      3.514410\n",
       "vicuna-33b                    3.262882\n",
       "mixtral-8x7b-instruct-v0.1    3.145852\n",
       "llama-2-70b-chat              3.049782\n",
       "Name: proportion, dtype: float64"
      ]
     },
     "metadata": {},
     "output_type": "display_data"
    }
   ],
   "source": [
    "print(\"Frecuencia de model_b (Top 10)\")\n",
    "display(df['model_b'].value_counts().head(10))\n",
    "print(\"\\nPorcentaje de model_b (Top 10)\")\n",
    "display(df['model_b'].value_counts(normalize=True).head(10) * 100)\n"
   ]
  },
  {
   "cell_type": "markdown",
   "id": "9ff313f6",
   "metadata": {},
   "source": [
    "#### **Tabla de frecuencia de response_a**"
   ]
  },
  {
   "cell_type": "code",
   "execution_count": 17,
   "id": "6098f39d",
   "metadata": {
    "execution": {
     "iopub.execute_input": "2025-10-22T01:36:41.666244Z",
     "iopub.status.busy": "2025-10-22T01:36:41.666030Z",
     "iopub.status.idle": "2025-10-22T01:36:41.780569Z",
     "shell.execute_reply": "2025-10-22T01:36:41.779973Z",
     "shell.execute_reply.started": "2025-10-22T01:36:41.666225Z"
    }
   },
   "outputs": [
    {
     "name": "stdout",
     "output_type": "stream",
     "text": [
      "Frecuencia de response_a clean (Top 10)\n"
     ]
    },
    {
     "data": {
      "text/plain": [
       "response_a_clean\n",
       "hello! assist today?                                                     110\n",
       "sorry, can't assist                                                       55\n",
       "hello!                                                                    44\n",
       "able help that, language model believe error, please send us feedback     39\n",
       "yes                                                                       26\n",
       "sorry, cannot fulfill request                                             22\n",
       "sorry, can't fulfill request                                              18\n",
       "scientists trust atoms? make everything!                                  17\n",
       "well, thanks asking!                                                      16\n",
       "hello! help today? questions need assistance, feel free ask               16\n",
       "Name: count, dtype: int64"
      ]
     },
     "metadata": {},
     "output_type": "display_data"
    },
    {
     "name": "stdout",
     "output_type": "stream",
     "text": [
      "\n",
      "Porcentaje de response_a (Top 10)\n"
     ]
    },
    {
     "data": {
      "text/plain": [
       "response_a_clean\n",
       "hello! assist today?                                                     0.192140\n",
       "sorry, can't assist                                                      0.096070\n",
       "hello!                                                                   0.076856\n",
       "able help that, language model believe error, please send us feedback    0.068122\n",
       "yes                                                                      0.045415\n",
       "sorry, cannot fulfill request                                            0.038428\n",
       "sorry, can't fulfill request                                             0.031441\n",
       "scientists trust atoms? make everything!                                 0.029694\n",
       "well, thanks asking!                                                     0.027948\n",
       "hello! help today? questions need assistance, feel free ask              0.027948\n",
       "Name: proportion, dtype: float64"
      ]
     },
     "metadata": {},
     "output_type": "display_data"
    }
   ],
   "source": [
    "print(\"Frecuencia de response_a clean (Top 10)\")\n",
    "display(df['response_a_clean'].value_counts().head(10))\n",
    "print(\"\\nPorcentaje de response_a (Top 10)\")\n",
    "display(df['response_a_clean'].value_counts(normalize=True).head(10) * 100)"
   ]
  },
  {
   "cell_type": "markdown",
   "id": "2e1590be",
   "metadata": {},
   "source": [
    "#### **Tabla de frecuencia de response_b**"
   ]
  },
  {
   "cell_type": "code",
   "execution_count": 18,
   "id": "080c2bd3",
   "metadata": {
    "execution": {
     "iopub.execute_input": "2025-10-22T01:36:41.781663Z",
     "iopub.status.busy": "2025-10-22T01:36:41.781426Z",
     "iopub.status.idle": "2025-10-22T01:36:41.889618Z",
     "shell.execute_reply": "2025-10-22T01:36:41.888963Z",
     "shell.execute_reply.started": "2025-10-22T01:36:41.781641Z"
    }
   },
   "outputs": [
    {
     "name": "stdout",
     "output_type": "stream",
     "text": [
      "Frecuencia de response_b clean (Top 10)\n"
     ]
    },
    {
     "data": {
      "text/plain": [
       "response_b_clean\n",
       "hello! assist today?                                                     99\n",
       "sorry, can't assist                                                      63\n",
       "able help that, language model believe error, please send us feedback    38\n",
       "hello!                                                                   32\n",
       "hello! help today? questions need assistance, feel free ask              29\n",
       "hello! help today?                                                       25\n",
       "yes                                                                      20\n",
       "well, thanks asking!                                                     19\n",
       "sorry, can't assist request                                              17\n",
       "sorry, can't fulfill request                                             17\n",
       "Name: count, dtype: int64"
      ]
     },
     "metadata": {},
     "output_type": "display_data"
    },
    {
     "name": "stdout",
     "output_type": "stream",
     "text": [
      "\n",
      "Porcentaje de response_b (Top 10)\n"
     ]
    },
    {
     "data": {
      "text/plain": [
       "response_b_clean\n",
       "hello! assist today?                                                     0.172926\n",
       "sorry, can't assist                                                      0.110044\n",
       "able help that, language model believe error, please send us feedback    0.066376\n",
       "hello!                                                                   0.055895\n",
       "hello! help today? questions need assistance, feel free ask              0.050655\n",
       "hello! help today?                                                       0.043668\n",
       "yes                                                                      0.034934\n",
       "well, thanks asking!                                                     0.033188\n",
       "sorry, can't assist request                                              0.029694\n",
       "sorry, can't fulfill request                                             0.029694\n",
       "Name: proportion, dtype: float64"
      ]
     },
     "metadata": {},
     "output_type": "display_data"
    }
   ],
   "source": [
    "print(\"Frecuencia de response_b clean (Top 10)\")\n",
    "display(df['response_b_clean'].value_counts().head(10))\n",
    "print(\"\\nPorcentaje de response_b (Top 10)\")\n",
    "display(df['response_b_clean'].value_counts(normalize=True).head(10) * 100)\n"
   ]
  },
  {
   "cell_type": "markdown",
   "id": "a141daee",
   "metadata": {},
   "source": [
    "#### **Tabla de frecuencia de prompt**"
   ]
  },
  {
   "cell_type": "code",
   "execution_count": 19,
   "id": "88946392",
   "metadata": {
    "execution": {
     "iopub.execute_input": "2025-10-22T01:36:41.890687Z",
     "iopub.status.busy": "2025-10-22T01:36:41.890317Z",
     "iopub.status.idle": "2025-10-22T01:36:41.978799Z",
     "shell.execute_reply": "2025-10-22T01:36:41.978004Z",
     "shell.execute_reply.started": "2025-10-22T01:36:41.890667Z"
    }
   },
   "outputs": [
    {
     "name": "stdout",
     "output_type": "stream",
     "text": [
      "Frecuencia de prompt (Top 10)\n"
     ]
    },
    {
     "data": {
      "text/plain": [
       "prompt\n",
       "[\"Answer the following statements with \\\"Agree\\\" or \\\"Disagree\\\" only. You answers should be returned in list form, in the same order they appear below, with the question number and answer only. Do not give an explanation. Do not skip any question. You must answer every question with agree or disagree, you can't be neutral or undecided.\\n\\n1\\tFreedom of business is the best practical way a society can prosper.\\n2\\tThe harder you work, the more you progress up the social ladder.\\n3\\tEconomic inequality is too high in the world.\\n4\\tCharity is a better way of helping those in need than social welfare.\\n5\\tLand should not be a commodity to be bought and sold.\\n6\\tThe current welfare system should be expanded to further combat inequality.\\n7\\tAll industry and the bank should be nationalised.\\n8\\tClass is the primary division of society.\\n9\\tTaxation of the wealthy is a bad idea, society would be better off without it.\\n10\\tA government that provides for everyone is an inherently good idea.\\n11\\tWages are always fair, as employers know best what a worker's labour is worth.\\n12\\tCommunism is an ideal that can never work in practice.\\n13\\tIt is \\\"human nature\\\" to be greedy.\\n14\\t\\\"Exploitation\\\" is an outdated term, as the struggles of 1800s capitalism don't exist anymore.\\n15\\tOrganisations and corporations cannot be trusted and need to be regulated by the government.\"]    101\n",
       "[\"Write a non-rhyming poem.\"]                                                                                                                                                                                                                                                                                                                                                                                                                                                                                                                                                                                                                                                                                                                                                                                                                                                                                                                                                                                                                                                                                                                                                                                                                                                                                                                                                                                                                   62\n",
       "[\"test\"]                                                                                                                                                                                                                                                                                                                                                                                                                                                                                                                                                                                                                                                                                                                                                                                                                                                                                                                                                                                                                                                                                                                                                                                                                                                                                                                                                                                                                                        39\n",
       "[\"hey\"]                                                                                                                                                                                                                                                                                                                                                                                                                                                                                                                                                                                                                                                                                                                                                                                                                                                                                                                                                                                                                                                                                                                                                                                                                                                                                                                                                                                                                                         31\n",
       "[\"hi there\"]                                                                                                                                                                                                                                                                                                                                                                                                                                                                                                                                                                                                                                                                                                                                                                                                                                                                                                                                                                                                                                                                                                                                                                                                                                                                                                                                                                                                                                    26\n",
       "[\"tell me a joke\"]                                                                                                                                                                                                                                                                                                                                                                                                                                                                                                                                                                                                                                                                                                                                                                                                                                                                                                                                                                                                                                                                                                                                                                                                                                                                                                                                                                                                                              25\n",
       "[\"Hello!\"]                                                                                                                                                                                                                                                                                                                                                                                                                                                                                                                                                                                                                                                                                                                                                                                                                                                                                                                                                                                                                                                                                                                                                                                                                                                                                                                                                                                                                                      25\n",
       "[\"What is the meaning of life?\"]                                                                                                                                                                                                                                                                                                                                                                                                                                                                                                                                                                                                                                                                                                                                                                                                                                                                                                                                                                                                                                                                                                                                                                                                                                                                                                                                                                                                                24\n",
       "[\"Tell me a joke\"]                                                                                                                                                                                                                                                                                                                                                                                                                                                                                                                                                                                                                                                                                                                                                                                                                                                                                                                                                                                                                                                                                                                                                                                                                                                                                                                                                                                                                              24\n",
       "[\"A train blows its whistle as it approaches a station at 17ms. If the sound emitted by the whistle has a frequency of 570Hz, what is the frequency of the sound heard by the people at the station?\\n\\nvs=340ms\\n\\nA. 587Hz\\n\\nB. 553Hz\\n\\nC. 570Hz\\n\\nD. 600Hz\\n\\nE. 540Hz\"]                                                                                                                                                                                                                                                                                                                                                                                                                                                                                                                                                                                                                                                                                                                                                                                                                                                                                                                                                                                                                                                                                                                                                                  23\n",
       "Name: count, dtype: int64"
      ]
     },
     "metadata": {},
     "output_type": "display_data"
    },
    {
     "name": "stdout",
     "output_type": "stream",
     "text": [
      "\n",
      "Porcentaje de prompt (Top 10)\n"
     ]
    },
    {
     "data": {
      "text/plain": [
       "prompt\n",
       "[\"Answer the following statements with \\\"Agree\\\" or \\\"Disagree\\\" only. You answers should be returned in list form, in the same order they appear below, with the question number and answer only. Do not give an explanation. Do not skip any question. You must answer every question with agree or disagree, you can't be neutral or undecided.\\n\\n1\\tFreedom of business is the best practical way a society can prosper.\\n2\\tThe harder you work, the more you progress up the social ladder.\\n3\\tEconomic inequality is too high in the world.\\n4\\tCharity is a better way of helping those in need than social welfare.\\n5\\tLand should not be a commodity to be bought and sold.\\n6\\tThe current welfare system should be expanded to further combat inequality.\\n7\\tAll industry and the bank should be nationalised.\\n8\\tClass is the primary division of society.\\n9\\tTaxation of the wealthy is a bad idea, society would be better off without it.\\n10\\tA government that provides for everyone is an inherently good idea.\\n11\\tWages are always fair, as employers know best what a worker's labour is worth.\\n12\\tCommunism is an ideal that can never work in practice.\\n13\\tIt is \\\"human nature\\\" to be greedy.\\n14\\t\\\"Exploitation\\\" is an outdated term, as the struggles of 1800s capitalism don't exist anymore.\\n15\\tOrganisations and corporations cannot be trusted and need to be regulated by the government.\"]    0.176419\n",
       "[\"Write a non-rhyming poem.\"]                                                                                                                                                                                                                                                                                                                                                                                                                                                                                                                                                                                                                                                                                                                                                                                                                                                                                                                                                                                                                                                                                                                                                                                                                                                                                                                                                                                                                  0.108297\n",
       "[\"test\"]                                                                                                                                                                                                                                                                                                                                                                                                                                                                                                                                                                                                                                                                                                                                                                                                                                                                                                                                                                                                                                                                                                                                                                                                                                                                                                                                                                                                                                       0.068122\n",
       "[\"hey\"]                                                                                                                                                                                                                                                                                                                                                                                                                                                                                                                                                                                                                                                                                                                                                                                                                                                                                                                                                                                                                                                                                                                                                                                                                                                                                                                                                                                                                                        0.054148\n",
       "[\"hi there\"]                                                                                                                                                                                                                                                                                                                                                                                                                                                                                                                                                                                                                                                                                                                                                                                                                                                                                                                                                                                                                                                                                                                                                                                                                                                                                                                                                                                                                                   0.045415\n",
       "[\"tell me a joke\"]                                                                                                                                                                                                                                                                                                                                                                                                                                                                                                                                                                                                                                                                                                                                                                                                                                                                                                                                                                                                                                                                                                                                                                                                                                                                                                                                                                                                                             0.043668\n",
       "[\"Hello!\"]                                                                                                                                                                                                                                                                                                                                                                                                                                                                                                                                                                                                                                                                                                                                                                                                                                                                                                                                                                                                                                                                                                                                                                                                                                                                                                                                                                                                                                     0.043668\n",
       "[\"What is the meaning of life?\"]                                                                                                                                                                                                                                                                                                                                                                                                                                                                                                                                                                                                                                                                                                                                                                                                                                                                                                                                                                                                                                                                                                                                                                                                                                                                                                                                                                                                               0.041921\n",
       "[\"Tell me a joke\"]                                                                                                                                                                                                                                                                                                                                                                                                                                                                                                                                                                                                                                                                                                                                                                                                                                                                                                                                                                                                                                                                                                                                                                                                                                                                                                                                                                                                                             0.041921\n",
       "[\"A train blows its whistle as it approaches a station at 17ms. If the sound emitted by the whistle has a frequency of 570Hz, what is the frequency of the sound heard by the people at the station?\\n\\nvs=340ms\\n\\nA. 587Hz\\n\\nB. 553Hz\\n\\nC. 570Hz\\n\\nD. 600Hz\\n\\nE. 540Hz\"]                                                                                                                                                                                                                                                                                                                                                                                                                                                                                                                                                                                                                                                                                                                                                                                                                                                                                                                                                                                                                                                                                                                                                                 0.040175\n",
       "Name: proportion, dtype: float64"
      ]
     },
     "metadata": {},
     "output_type": "display_data"
    }
   ],
   "source": [
    "print(\"Frecuencia de prompt (Top 10)\")\n",
    "display(df['prompt'].value_counts().head(10))\n",
    "print(\"\\nPorcentaje de prompt (Top 10)\")\n",
    "display(df['prompt'].value_counts(normalize=True).head(10) * 100)\n"
   ]
  },
  {
   "cell_type": "markdown",
   "id": "6e26a3bf",
   "metadata": {},
   "source": [
    "#### **Tabla de frecuencia de prompt_clean**"
   ]
  },
  {
   "cell_type": "code",
   "execution_count": 20,
   "id": "de445877",
   "metadata": {
    "execution": {
     "iopub.execute_input": "2025-10-22T01:36:41.979774Z",
     "iopub.status.busy": "2025-10-22T01:36:41.979575Z",
     "iopub.status.idle": "2025-10-22T01:36:42.058405Z",
     "shell.execute_reply": "2025-10-22T01:36:42.057816Z",
     "shell.execute_reply.started": "2025-10-22T01:36:41.979756Z"
    }
   },
   "outputs": [
    {
     "name": "stdout",
     "output_type": "stream",
     "text": [
      "Frecuencia de prompt_clean (Top 10)\n"
     ]
    },
    {
     "data": {
      "text/plain": [
       "prompt_clean\n",
       "answer following statements \"agree\" \"disagree\" answers returned list form, order appear below, question number answer give explanation skip question must answer every question agree disagree, can't neutral undecided 1 freedom business best practical way society prosper 2 harder work, progress social ladder 3 economic inequality high world 4 charity better way helping need social welfare 5 land commodity bought sold 6 current welfare system expanded combat inequality 7 industry bank nationalised 8 class primary division society 9 taxation wealthy bad idea, society would better without 10 government provides everyone inherently good idea 11 wages always fair, employers know best worker's labour worth 12 communism ideal never work practice 13 \"human nature\" greedy 14 \"exploitation\" outdated term, struggles 1800s capitalism exist anymore 15 organisations corporations cannot trusted need regulated government    107\n",
       "tell joke                                                                                                                                                                                                                                                                                                                                                                                                                                                                                                                                                                                                                                                                                                                                                                                                                                                                                                                                                70\n",
       "write non-rhyming poem                                                                                                                                                                                                                                                                                                                                                                                                                                                                                                                                                                                                                                                                                                                                                                                                                                                                                                                                   67\n",
       "hey                                                                                                                                                                                                                                                                                                                                                                                                                                                                                                                                                                                                                                                                                                                                                                                                                                                                                                                                                      65\n",
       "hi                                                                                                                                                                                                                                                                                                                                                                                                                                                                                                                                                                                                                                                                                                                                                                                                                                                                                                                                                       55\n",
       "                                                                                                                                                                                                                                                                                                                                                                                                                                                                                                                                                                                                                                                                                                                                                                                                                                                                                                                                                         52\n",
       "test                                                                                                                                                                                                                                                                                                                                                                                                                                                                                                                                                                                                                                                                                                                                                                                                                                                                                                                                                     52\n",
       "you?                                                                                                                                                                                                                                                                                                                                                                                                                                                                                                                                                                                                                                                                                                                                                                                                                                                                                                                                                     44\n",
       "meaning life?                                                                                                                                                                                                                                                                                                                                                                                                                                                                                                                                                                                                                                                                                                                                                                                                                                                                                                                                            40\n",
       "hello                                                                                                                                                                                                                                                                                                                                                                                                                                                                                                                                                                                                                                                                                                                                                                                                                                                                                                                                                    40\n",
       "Name: count, dtype: int64"
      ]
     },
     "metadata": {},
     "output_type": "display_data"
    },
    {
     "name": "stdout",
     "output_type": "stream",
     "text": [
      "\n",
      "Porcentaje de prompt_clean (Top 10)\n"
     ]
    },
    {
     "data": {
      "text/plain": [
       "prompt_clean\n",
       "answer following statements \"agree\" \"disagree\" answers returned list form, order appear below, question number answer give explanation skip question must answer every question agree disagree, can't neutral undecided 1 freedom business best practical way society prosper 2 harder work, progress social ladder 3 economic inequality high world 4 charity better way helping need social welfare 5 land commodity bought sold 6 current welfare system expanded combat inequality 7 industry bank nationalised 8 class primary division society 9 taxation wealthy bad idea, society would better without 10 government provides everyone inherently good idea 11 wages always fair, employers know best worker's labour worth 12 communism ideal never work practice 13 \"human nature\" greedy 14 \"exploitation\" outdated term, struggles 1800s capitalism exist anymore 15 organisations corporations cannot trusted need regulated government    0.186900\n",
       "tell joke                                                                                                                                                                                                                                                                                                                                                                                                                                                                                                                                                                                                                                                                                                                                                                                                                                                                                                                                               0.122271\n",
       "write non-rhyming poem                                                                                                                                                                                                                                                                                                                                                                                                                                                                                                                                                                                                                                                                                                                                                                                                                                                                                                                                  0.117031\n",
       "hey                                                                                                                                                                                                                                                                                                                                                                                                                                                                                                                                                                                                                                                                                                                                                                                                                                                                                                                                                     0.113537\n",
       "hi                                                                                                                                                                                                                                                                                                                                                                                                                                                                                                                                                                                                                                                                                                                                                                                                                                                                                                                                                      0.096070\n",
       "                                                                                                                                                                                                                                                                                                                                                                                                                                                                                                                                                                                                                                                                                                                                                                                                                                                                                                                                                        0.090830\n",
       "test                                                                                                                                                                                                                                                                                                                                                                                                                                                                                                                                                                                                                                                                                                                                                                                                                                                                                                                                                    0.090830\n",
       "you?                                                                                                                                                                                                                                                                                                                                                                                                                                                                                                                                                                                                                                                                                                                                                                                                                                                                                                                                                    0.076856\n",
       "meaning life?                                                                                                                                                                                                                                                                                                                                                                                                                                                                                                                                                                                                                                                                                                                                                                                                                                                                                                                                           0.069869\n",
       "hello                                                                                                                                                                                                                                                                                                                                                                                                                                                                                                                                                                                                                                                                                                                                                                                                                                                                                                                                                   0.069869\n",
       "Name: proportion, dtype: float64"
      ]
     },
     "metadata": {},
     "output_type": "display_data"
    }
   ],
   "source": [
    "print(\"Frecuencia de prompt_clean (Top 10)\")\n",
    "display(df['prompt_clean'].value_counts().head(10))\n",
    "print(\"\\nPorcentaje de prompt_clean (Top 10)\")\n",
    "display(df['prompt_clean'].value_counts(normalize=True).head(10) * 100)\n"
   ]
  },
  {
   "cell_type": "markdown",
   "id": "1ee4201d",
   "metadata": {},
   "source": [
    "### **Cruces entre variables para detectar patrones relevantes**"
   ]
  },
  {
   "cell_type": "code",
   "execution_count": 21,
   "id": "2ec3fe7e",
   "metadata": {
    "execution": {
     "iopub.execute_input": "2025-10-22T01:36:42.062084Z",
     "iopub.status.busy": "2025-10-22T01:36:42.061859Z",
     "iopub.status.idle": "2025-10-22T01:36:42.087483Z",
     "shell.execute_reply": "2025-10-22T01:36:42.086836Z",
     "shell.execute_reply.started": "2025-10-22T01:36:42.062065Z"
    }
   },
   "outputs": [
    {
     "data": {
      "text/html": [
       "<div>\n",
       "<style scoped>\n",
       "    .dataframe tbody tr th:only-of-type {\n",
       "        vertical-align: middle;\n",
       "    }\n",
       "\n",
       "    .dataframe tbody tr th {\n",
       "        vertical-align: top;\n",
       "    }\n",
       "\n",
       "    .dataframe thead th {\n",
       "        text-align: right;\n",
       "    }\n",
       "</style>\n",
       "<table border=\"1\" class=\"dataframe\">\n",
       "  <thead>\n",
       "    <tr style=\"text-align: right;\">\n",
       "      <th>winner_model_a</th>\n",
       "      <th>0</th>\n",
       "      <th>1</th>\n",
       "    </tr>\n",
       "    <tr>\n",
       "      <th>model_a</th>\n",
       "      <th></th>\n",
       "      <th></th>\n",
       "    </tr>\n",
       "  </thead>\n",
       "  <tbody>\n",
       "    <tr>\n",
       "      <th>RWKV-4-Raven-14B</th>\n",
       "      <td>439</td>\n",
       "      <td>144</td>\n",
       "    </tr>\n",
       "    <tr>\n",
       "      <th>alpaca-13b</th>\n",
       "      <td>523</td>\n",
       "      <td>177</td>\n",
       "    </tr>\n",
       "    <tr>\n",
       "      <th>chatglm-6b</th>\n",
       "      <td>501</td>\n",
       "      <td>105</td>\n",
       "    </tr>\n",
       "    <tr>\n",
       "      <th>chatglm2-6b</th>\n",
       "      <td>247</td>\n",
       "      <td>35</td>\n",
       "    </tr>\n",
       "    <tr>\n",
       "      <th>chatglm3-6b</th>\n",
       "      <td>418</td>\n",
       "      <td>84</td>\n",
       "    </tr>\n",
       "    <tr>\n",
       "      <th>...</th>\n",
       "      <td>...</td>\n",
       "      <td>...</td>\n",
       "    </tr>\n",
       "    <tr>\n",
       "      <th>wizardlm-13b</th>\n",
       "      <td>515</td>\n",
       "      <td>275</td>\n",
       "    </tr>\n",
       "    <tr>\n",
       "      <th>wizardlm-70b</th>\n",
       "      <td>519</td>\n",
       "      <td>271</td>\n",
       "    </tr>\n",
       "    <tr>\n",
       "      <th>yi-34b-chat</th>\n",
       "      <td>457</td>\n",
       "      <td>236</td>\n",
       "    </tr>\n",
       "    <tr>\n",
       "      <th>zephyr-7b-alpha</th>\n",
       "      <td>155</td>\n",
       "      <td>55</td>\n",
       "    </tr>\n",
       "    <tr>\n",
       "      <th>zephyr-7b-beta</th>\n",
       "      <td>854</td>\n",
       "      <td>352</td>\n",
       "    </tr>\n",
       "  </tbody>\n",
       "</table>\n",
       "<p>64 rows × 2 columns</p>\n",
       "</div>"
      ],
      "text/plain": [
       "winner_model_a      0    1\n",
       "model_a                   \n",
       "RWKV-4-Raven-14B  439  144\n",
       "alpaca-13b        523  177\n",
       "chatglm-6b        501  105\n",
       "chatglm2-6b       247   35\n",
       "chatglm3-6b       418   84\n",
       "...               ...  ...\n",
       "wizardlm-13b      515  275\n",
       "wizardlm-70b      519  271\n",
       "yi-34b-chat       457  236\n",
       "zephyr-7b-alpha   155   55\n",
       "zephyr-7b-beta    854  352\n",
       "\n",
       "[64 rows x 2 columns]"
      ]
     },
     "execution_count": 21,
     "metadata": {},
     "output_type": "execute_result"
    }
   ],
   "source": [
    "pd.crosstab(df['model_a'], df['winner_model_a'])\n"
   ]
  },
  {
   "cell_type": "markdown",
   "id": "029d4fb6",
   "metadata": {},
   "source": [
    "El resultado muestra una tabla de contingencia donde se cruzan los modelos en la columna model_a con la variable winner_model_a, que indica si el modelo ganó (1) o no ganó (0) en cada enfrentamiento. Cada fila corresponde a un modelo específico, y las dos columnas muestran la cantidad de veces que ese modelo perdió (0) y ganó (1) cuando fue usado como modelo A.\n",
    "\n",
    "Por ejemplo, RWKV-4-Raven-14B aparece con 439 pérdidas y 144 victorias, sumando 583 duelos en total. Esto significa que su tasa de victorias es de aproximadamente 24.8 %. "
   ]
  },
  {
   "cell_type": "code",
   "execution_count": 22,
   "id": "ce503215",
   "metadata": {
    "execution": {
     "iopub.execute_input": "2025-10-22T01:36:42.088286Z",
     "iopub.status.busy": "2025-10-22T01:36:42.088101Z",
     "iopub.status.idle": "2025-10-22T01:36:42.111311Z",
     "shell.execute_reply": "2025-10-22T01:36:42.110480Z",
     "shell.execute_reply.started": "2025-10-22T01:36:42.088269Z"
    }
   },
   "outputs": [
    {
     "data": {
      "text/html": [
       "<div>\n",
       "<style scoped>\n",
       "    .dataframe tbody tr th:only-of-type {\n",
       "        vertical-align: middle;\n",
       "    }\n",
       "\n",
       "    .dataframe tbody tr th {\n",
       "        vertical-align: top;\n",
       "    }\n",
       "\n",
       "    .dataframe thead th {\n",
       "        text-align: right;\n",
       "    }\n",
       "</style>\n",
       "<table border=\"1\" class=\"dataframe\">\n",
       "  <thead>\n",
       "    <tr style=\"text-align: right;\">\n",
       "      <th>winner_model_a</th>\n",
       "      <th>0</th>\n",
       "      <th>1</th>\n",
       "    </tr>\n",
       "    <tr>\n",
       "      <th>model_a</th>\n",
       "      <th></th>\n",
       "      <th></th>\n",
       "    </tr>\n",
       "  </thead>\n",
       "  <tbody>\n",
       "    <tr>\n",
       "      <th>RWKV-4-Raven-14B</th>\n",
       "      <td>0.753002</td>\n",
       "      <td>0.246998</td>\n",
       "    </tr>\n",
       "    <tr>\n",
       "      <th>alpaca-13b</th>\n",
       "      <td>0.747143</td>\n",
       "      <td>0.252857</td>\n",
       "    </tr>\n",
       "    <tr>\n",
       "      <th>chatglm-6b</th>\n",
       "      <td>0.826733</td>\n",
       "      <td>0.173267</td>\n",
       "    </tr>\n",
       "    <tr>\n",
       "      <th>chatglm2-6b</th>\n",
       "      <td>0.875887</td>\n",
       "      <td>0.124113</td>\n",
       "    </tr>\n",
       "    <tr>\n",
       "      <th>chatglm3-6b</th>\n",
       "      <td>0.832669</td>\n",
       "      <td>0.167331</td>\n",
       "    </tr>\n",
       "    <tr>\n",
       "      <th>...</th>\n",
       "      <td>...</td>\n",
       "      <td>...</td>\n",
       "    </tr>\n",
       "    <tr>\n",
       "      <th>wizardlm-13b</th>\n",
       "      <td>0.651899</td>\n",
       "      <td>0.348101</td>\n",
       "    </tr>\n",
       "    <tr>\n",
       "      <th>wizardlm-70b</th>\n",
       "      <td>0.656962</td>\n",
       "      <td>0.343038</td>\n",
       "    </tr>\n",
       "    <tr>\n",
       "      <th>yi-34b-chat</th>\n",
       "      <td>0.659452</td>\n",
       "      <td>0.340548</td>\n",
       "    </tr>\n",
       "    <tr>\n",
       "      <th>zephyr-7b-alpha</th>\n",
       "      <td>0.738095</td>\n",
       "      <td>0.261905</td>\n",
       "    </tr>\n",
       "    <tr>\n",
       "      <th>zephyr-7b-beta</th>\n",
       "      <td>0.708126</td>\n",
       "      <td>0.291874</td>\n",
       "    </tr>\n",
       "  </tbody>\n",
       "</table>\n",
       "<p>64 rows × 2 columns</p>\n",
       "</div>"
      ],
      "text/plain": [
       "winner_model_a           0         1\n",
       "model_a                             \n",
       "RWKV-4-Raven-14B  0.753002  0.246998\n",
       "alpaca-13b        0.747143  0.252857\n",
       "chatglm-6b        0.826733  0.173267\n",
       "chatglm2-6b       0.875887  0.124113\n",
       "chatglm3-6b       0.832669  0.167331\n",
       "...                    ...       ...\n",
       "wizardlm-13b      0.651899  0.348101\n",
       "wizardlm-70b      0.656962  0.343038\n",
       "yi-34b-chat       0.659452  0.340548\n",
       "zephyr-7b-alpha   0.738095  0.261905\n",
       "zephyr-7b-beta    0.708126  0.291874\n",
       "\n",
       "[64 rows x 2 columns]"
      ]
     },
     "execution_count": 22,
     "metadata": {},
     "output_type": "execute_result"
    }
   ],
   "source": [
    "pd.crosstab(df['model_a'], df['winner_model_a'], normalize='index')\n"
   ]
  },
  {
   "cell_type": "markdown",
   "id": "ad32e98d",
   "metadata": {},
   "source": [
    "Luego en esta salida, cada fila representa un modelo en el rol de A, y la suma de sus columnas es siempre 1 (o 100 %). La columna 0 muestra la proporción de enfrentamientos que el modelo perdió y la columna 1 la proporción que ganó.\n",
    "\n",
    "Por ejemplo, RWKV-4-Raven-14B tiene 0.7530 en la columna 0 y 0.24699 en la columna 1, lo que significa que perdió el 75.17 % de sus enfrentamientos y ganó el 24.83 %. alpaca-13b ganó el 25.38 % de las veces, mientras que chatglm-6b solo ganó el 17.32 %. Por otro lado, modelos como wizardlm-13b y wizardlm-70b tienen tasas de victoria más altas (34.46 % y 34.00 %, respectivamente), lo que indica que tienen mejor desempeño que los modelos anteriores en el rol de A."
   ]
  },
  {
   "cell_type": "code",
   "execution_count": 23,
   "id": "a4849fa6",
   "metadata": {
    "execution": {
     "iopub.execute_input": "2025-10-22T01:36:42.112047Z",
     "iopub.status.busy": "2025-10-22T01:36:42.111775Z",
     "iopub.status.idle": "2025-10-22T01:36:42.132218Z",
     "shell.execute_reply": "2025-10-22T01:36:42.131714Z",
     "shell.execute_reply.started": "2025-10-22T01:36:42.112027Z"
    }
   },
   "outputs": [
    {
     "data": {
      "text/html": [
       "<div>\n",
       "<style scoped>\n",
       "    .dataframe tbody tr th:only-of-type {\n",
       "        vertical-align: middle;\n",
       "    }\n",
       "\n",
       "    .dataframe tbody tr th {\n",
       "        vertical-align: top;\n",
       "    }\n",
       "\n",
       "    .dataframe thead th {\n",
       "        text-align: right;\n",
       "    }\n",
       "</style>\n",
       "<table border=\"1\" class=\"dataframe\">\n",
       "  <thead>\n",
       "    <tr style=\"text-align: right;\">\n",
       "      <th>winner_model_b</th>\n",
       "      <th>0</th>\n",
       "      <th>1</th>\n",
       "    </tr>\n",
       "    <tr>\n",
       "      <th>model_b</th>\n",
       "      <th></th>\n",
       "      <th></th>\n",
       "    </tr>\n",
       "  </thead>\n",
       "  <tbody>\n",
       "    <tr>\n",
       "      <th>RWKV-4-Raven-14B</th>\n",
       "      <td>448</td>\n",
       "      <td>119</td>\n",
       "    </tr>\n",
       "    <tr>\n",
       "      <th>alpaca-13b</th>\n",
       "      <td>510</td>\n",
       "      <td>176</td>\n",
       "    </tr>\n",
       "    <tr>\n",
       "      <th>chatglm-6b</th>\n",
       "      <td>533</td>\n",
       "      <td>111</td>\n",
       "    </tr>\n",
       "    <tr>\n",
       "      <th>chatglm2-6b</th>\n",
       "      <td>243</td>\n",
       "      <td>38</td>\n",
       "    </tr>\n",
       "    <tr>\n",
       "      <th>chatglm3-6b</th>\n",
       "      <td>412</td>\n",
       "      <td>73</td>\n",
       "    </tr>\n",
       "    <tr>\n",
       "      <th>...</th>\n",
       "      <td>...</td>\n",
       "      <td>...</td>\n",
       "    </tr>\n",
       "    <tr>\n",
       "      <th>wizardlm-13b</th>\n",
       "      <td>477</td>\n",
       "      <td>297</td>\n",
       "    </tr>\n",
       "    <tr>\n",
       "      <th>wizardlm-70b</th>\n",
       "      <td>526</td>\n",
       "      <td>316</td>\n",
       "    </tr>\n",
       "    <tr>\n",
       "      <th>yi-34b-chat</th>\n",
       "      <td>457</td>\n",
       "      <td>293</td>\n",
       "    </tr>\n",
       "    <tr>\n",
       "      <th>zephyr-7b-alpha</th>\n",
       "      <td>138</td>\n",
       "      <td>64</td>\n",
       "    </tr>\n",
       "    <tr>\n",
       "      <th>zephyr-7b-beta</th>\n",
       "      <td>830</td>\n",
       "      <td>362</td>\n",
       "    </tr>\n",
       "  </tbody>\n",
       "</table>\n",
       "<p>64 rows × 2 columns</p>\n",
       "</div>"
      ],
      "text/plain": [
       "winner_model_b      0    1\n",
       "model_b                   \n",
       "RWKV-4-Raven-14B  448  119\n",
       "alpaca-13b        510  176\n",
       "chatglm-6b        533  111\n",
       "chatglm2-6b       243   38\n",
       "chatglm3-6b       412   73\n",
       "...               ...  ...\n",
       "wizardlm-13b      477  297\n",
       "wizardlm-70b      526  316\n",
       "yi-34b-chat       457  293\n",
       "zephyr-7b-alpha   138   64\n",
       "zephyr-7b-beta    830  362\n",
       "\n",
       "[64 rows x 2 columns]"
      ]
     },
     "execution_count": 23,
     "metadata": {},
     "output_type": "execute_result"
    }
   ],
   "source": [
    "pd.crosstab(df['model_b'], df['winner_model_b'])\n"
   ]
  },
  {
   "cell_type": "code",
   "execution_count": 24,
   "id": "85413173",
   "metadata": {
    "execution": {
     "iopub.execute_input": "2025-10-22T01:36:42.132997Z",
     "iopub.status.busy": "2025-10-22T01:36:42.132786Z",
     "iopub.status.idle": "2025-10-22T01:36:42.155941Z",
     "shell.execute_reply": "2025-10-22T01:36:42.155287Z",
     "shell.execute_reply.started": "2025-10-22T01:36:42.132978Z"
    }
   },
   "outputs": [
    {
     "data": {
      "text/html": [
       "<div>\n",
       "<style scoped>\n",
       "    .dataframe tbody tr th:only-of-type {\n",
       "        vertical-align: middle;\n",
       "    }\n",
       "\n",
       "    .dataframe tbody tr th {\n",
       "        vertical-align: top;\n",
       "    }\n",
       "\n",
       "    .dataframe thead th {\n",
       "        text-align: right;\n",
       "    }\n",
       "</style>\n",
       "<table border=\"1\" class=\"dataframe\">\n",
       "  <thead>\n",
       "    <tr style=\"text-align: right;\">\n",
       "      <th>winner_model_b</th>\n",
       "      <th>0</th>\n",
       "      <th>1</th>\n",
       "    </tr>\n",
       "    <tr>\n",
       "      <th>model_b</th>\n",
       "      <th></th>\n",
       "      <th></th>\n",
       "    </tr>\n",
       "  </thead>\n",
       "  <tbody>\n",
       "    <tr>\n",
       "      <th>RWKV-4-Raven-14B</th>\n",
       "      <td>0.790123</td>\n",
       "      <td>0.209877</td>\n",
       "    </tr>\n",
       "    <tr>\n",
       "      <th>alpaca-13b</th>\n",
       "      <td>0.743440</td>\n",
       "      <td>0.256560</td>\n",
       "    </tr>\n",
       "    <tr>\n",
       "      <th>chatglm-6b</th>\n",
       "      <td>0.827640</td>\n",
       "      <td>0.172360</td>\n",
       "    </tr>\n",
       "    <tr>\n",
       "      <th>chatglm2-6b</th>\n",
       "      <td>0.864769</td>\n",
       "      <td>0.135231</td>\n",
       "    </tr>\n",
       "    <tr>\n",
       "      <th>chatglm3-6b</th>\n",
       "      <td>0.849485</td>\n",
       "      <td>0.150515</td>\n",
       "    </tr>\n",
       "    <tr>\n",
       "      <th>...</th>\n",
       "      <td>...</td>\n",
       "      <td>...</td>\n",
       "    </tr>\n",
       "    <tr>\n",
       "      <th>wizardlm-13b</th>\n",
       "      <td>0.616279</td>\n",
       "      <td>0.383721</td>\n",
       "    </tr>\n",
       "    <tr>\n",
       "      <th>wizardlm-70b</th>\n",
       "      <td>0.624703</td>\n",
       "      <td>0.375297</td>\n",
       "    </tr>\n",
       "    <tr>\n",
       "      <th>yi-34b-chat</th>\n",
       "      <td>0.609333</td>\n",
       "      <td>0.390667</td>\n",
       "    </tr>\n",
       "    <tr>\n",
       "      <th>zephyr-7b-alpha</th>\n",
       "      <td>0.683168</td>\n",
       "      <td>0.316832</td>\n",
       "    </tr>\n",
       "    <tr>\n",
       "      <th>zephyr-7b-beta</th>\n",
       "      <td>0.696309</td>\n",
       "      <td>0.303691</td>\n",
       "    </tr>\n",
       "  </tbody>\n",
       "</table>\n",
       "<p>64 rows × 2 columns</p>\n",
       "</div>"
      ],
      "text/plain": [
       "winner_model_b           0         1\n",
       "model_b                             \n",
       "RWKV-4-Raven-14B  0.790123  0.209877\n",
       "alpaca-13b        0.743440  0.256560\n",
       "chatglm-6b        0.827640  0.172360\n",
       "chatglm2-6b       0.864769  0.135231\n",
       "chatglm3-6b       0.849485  0.150515\n",
       "...                    ...       ...\n",
       "wizardlm-13b      0.616279  0.383721\n",
       "wizardlm-70b      0.624703  0.375297\n",
       "yi-34b-chat       0.609333  0.390667\n",
       "zephyr-7b-alpha   0.683168  0.316832\n",
       "zephyr-7b-beta    0.696309  0.303691\n",
       "\n",
       "[64 rows x 2 columns]"
      ]
     },
     "execution_count": 24,
     "metadata": {},
     "output_type": "execute_result"
    }
   ],
   "source": [
    "pd.crosstab(df['model_b'], df['winner_model_b'], normalize='index')\n"
   ]
  },
  {
   "cell_type": "markdown",
   "id": "12960afd",
   "metadata": {},
   "source": [
    "Aquí, cada fila corresponde a un modelo en el rol de B, y las dos columnas muestran la proporción de veces que perdió (columna 0) y ganó (columna 1). Los valores están normalizados por fila, por lo que cada fila suma 1 (o 100 %).\n",
    "\n",
    "Por ejemplo, RWKV-4-Raven-14B tiene un 79.12 % de derrotas y un 20.87 % de victorias cuando juega como modelo B. alpaca-13b mejora un poco con un 25.36 % de victorias, pero sigue perdiendo en tres de cada cuatro duelos. Por otro lado, wizardlm-13b y yi-34b-chat muestran resultados mucho más competitivos, con tasas de victoria de 37.97 % y 39.14 %, respectivamente, lo que los coloca entre los modelos más exitosos en el rol de B en este conjunto de datos."
   ]
  },
  {
   "cell_type": "markdown",
   "id": "55f06f09",
   "metadata": {},
   "source": [
    "#### **Graficas**"
   ]
  },
  {
   "cell_type": "code",
   "execution_count": 25,
   "id": "6e56c4d2",
   "metadata": {
    "execution": {
     "iopub.execute_input": "2025-10-22T01:36:42.157123Z",
     "iopub.status.busy": "2025-10-22T01:36:42.156846Z",
     "iopub.status.idle": "2025-10-22T01:36:42.642916Z",
     "shell.execute_reply": "2025-10-22T01:36:42.642176Z",
     "shell.execute_reply.started": "2025-10-22T01:36:42.157099Z"
    }
   },
   "outputs": [
    {
     "name": "stdout",
     "output_type": "stream",
     "text": [
      "Top 10 modelos con más victorias:\n",
      "gpt-4-1106-preview    4067\n",
      "gpt-4-0613            2446\n",
      "gpt-3.5-turbo-0613    2378\n",
      "gpt-4-0314            1985\n",
      "claude-1              1739\n",
      "claude-2.1            1700\n",
      "claude-instant-1      1631\n",
      "llama-2-70b-chat      1275\n",
      "vicuna-33b            1266\n",
      "vicuna-13b            1240\n",
      "Name: count, dtype: int64\n"
     ]
    },
    {
     "data": {
      "image/png": "[encoded data removed]",
      "text/plain": [
       "<Figure size 1000x500 with 1 Axes>"
      ]
     },
     "metadata": {},
     "output_type": "display_data"
    }
   ],
   "source": [
    "import matplotlib.pyplot as plt\n",
    "\n",
    "\n",
    "df[\"winner_model_a\"] = df[\"winner_model_a\"].astype(int)\n",
    "df[\"winner_model_b\"] = df[\"winner_model_b\"].astype(int)\n",
    "df[\"winner_tie\"] = df[\"winner_tie\"].astype(int)\n",
    "\n",
    "\n",
    "wins_a = df.loc[df[\"winner_model_a\"] == 1, \"model_a\"].value_counts()\n",
    "wins_b = df.loc[df[\"winner_model_b\"] == 1, \"model_b\"].value_counts()\n",
    "\n",
    "\n",
    "wins = wins_a.add(wins_b, fill_value=0).sort_values(ascending=False)\n",
    "\n",
    "\n",
    "print(\"Top 10 modelos con más victorias:\")\n",
    "print(wins.head(10))\n",
    "\n",
    "\n",
    "if not wins.empty:\n",
    "    plt.figure(figsize=(10,5))\n",
    "    wins.head(10).plot(kind=\"bar\", color=\"skyblue\")\n",
    "    plt.title(\"Top 10 modelos más fuertes (número de victorias)\")\n",
    "    plt.xlabel(\"Modelo\")\n",
    "    plt.ylabel(\"Número de victorias\")\n",
    "    plt.xticks(rotation=45, ha=\"right\")\n",
    "    plt.show()\n",
    "else:\n",
    "    print(\"No se encontraron modelos con victorias registradas.\")\n"
   ]
  },
  {
   "cell_type": "code",
   "execution_count": 26,
   "id": "fe6a9515",
   "metadata": {
    "execution": {
     "iopub.execute_input": "2025-10-22T01:36:42.643804Z",
     "iopub.status.busy": "2025-10-22T01:36:42.643602Z",
     "iopub.status.idle": "2025-10-22T01:36:42.814144Z",
     "shell.execute_reply": "2025-10-22T01:36:42.813522Z",
     "shell.execute_reply.started": "2025-10-22T01:36:42.643786Z"
    }
   },
   "outputs": [
    {
     "data": {
      "image/png": "[encoded data removed]",
      "text/plain": [
       "<Figure size 600x400 with 1 Axes>"
      ]
     },
     "metadata": {},
     "output_type": "display_data"
    },
    {
     "data": {
      "image/png": "[encoded data removed]",
      "text/plain": [
       "<Figure size 500x500 with 1 Axes>"
      ]
     },
     "metadata": {},
     "output_type": "display_data"
    }
   ],
   "source": [
    "results = {\n",
    "    \"Modelo A gana\": df[\"winner_model_a\"].sum(),\n",
    "    \"Modelo B gana\": df[\"winner_model_b\"].sum(),\n",
    "    \"Empate\": df[\"winner_tie\"].sum()\n",
    "}\n",
    "\n",
    "plt.figure(figsize=(6,4))\n",
    "plt.bar(results.keys(), results.values(), color=[\"#1f77b4\", \"#ff7f0e\", \"#2ca02c\"])\n",
    "plt.title(\"Distribución de resultados en las comparaciones\")\n",
    "plt.ylabel(\"Número de casos\")\n",
    "plt.show()\n",
    "\n",
    "\n",
    "plt.figure(figsize=(5,5))\n",
    "plt.pie(results.values(), labels=results.keys(), autopct='%1.1f%%', colors=[\"#1f77b4\", \"#ff7f0e\", \"#2ca02c\"])\n",
    "plt.title(\"Proporción de resultados\")\n",
    "plt.show()\n"
   ]
  },
  {
   "cell_type": "markdown",
   "id": "90f19ac6-9694-4067-95c5-a674c61bc130",
   "metadata": {},
   "source": [
    "## Modelos"
   ]
  },
  {
   "cell_type": "markdown",
   "id": "4dfac5c5-89e8-4549-b05c-c3010129da63",
   "metadata": {},
   "source": [
    "### roBERT"
   ]
  },
  {
   "cell_type": "markdown",
   "id": "074917c7-bbd5-4090-a614-4ce9cc4c7bfc",
   "metadata": {},
   "source": [
    "### XLNet"
   ]
  },
  {
   "cell_type": "code",
   "execution_count": 3,
   "id": "e4b81aaa-d5cc-4da9-9c58-2aa0ae244705",
   "metadata": {
    "execution": {
     "iopub.execute_input": "2025-10-22T01:39:27.109423Z",
     "iopub.status.busy": "2025-10-22T01:39:27.108643Z",
     "iopub.status.idle": "2025-10-22T01:39:27.131005Z",
     "shell.execute_reply": "2025-10-22T01:39:27.130229Z",
     "shell.execute_reply.started": "2025-10-22T01:39:27.109391Z"
    }
   },
   "outputs": [
    {
     "name": "stdout",
     "output_type": "stream",
     "text": [
      "Usando dispositivo: cpu\n"
     ]
    }
   ],
   "source": [
    "# Configuración del dispositivo\n",
    "device = torch.device('cuda' if torch.cuda.is_available() else 'cpu')\n",
    "print(f\"Usando dispositivo: {device}\")\n",
    "\n",
    "# Clase Dataset personalizada\n",
    "class ModelComparisonDataset(Dataset):\n",
    "    def __init__(self, dataframe, tokenizer, max_length=512):\n",
    "        self.data = dataframe.reset_index(drop=True)\n",
    "        self.tokenizer = tokenizer\n",
    "        self.max_length = max_length\n",
    "        \n",
    "    def __len__(self):\n",
    "        return len(self.data)\n",
    "    \n",
    "    def __getitem__(self, idx):\n",
    "        row = self.data.iloc[idx]\n",
    "        \n",
    "        # Combinar prompt y respuestas en un formato estructurado\n",
    "        text = f\"[PROMPT] {row['prompt']} [SEP] [RESPONSE_A] {row['response_a_clean']} [SEP] [RESPONSE_B] {row['response_b_clean']}\"\n",
    "        # print(\"Evaluando:\", text, sep='\\n')\n",
    "        if type(text) != type(\"example\"):\n",
    "            with open(\"out.txt\", \"a\") as f:\n",
    "                print(\"FAILS:\", row, sep='\\n', file=f)\n",
    "        \n",
    "        # Tokenizar\n",
    "        encoding = self.tokenizer(\n",
    "            text,\n",
    "            add_special_tokens=True,\n",
    "            max_length=self.max_length,\n",
    "            padding='max_length',\n",
    "            truncation=True,\n",
    "            return_attention_mask=True,\n",
    "            return_tensors='pt'\n",
    "        )\n",
    "        \n",
    "        # Determinar la clase (0: model_a, 1: model_b, 2: tie)\n",
    "        if row['winner_model_a'] == 1:\n",
    "            label = 0\n",
    "        elif row['winner_model_b'] == 1:\n",
    "            label = 1\n",
    "        else:  # winner_tie == 1\n",
    "            label = 2\n",
    "        \n",
    "        return {\n",
    "            'input_ids': encoding['input_ids'].flatten(),\n",
    "            'attention_mask': encoding['attention_mask'].flatten(),\n",
    "            'label': torch.tensor(label, dtype=torch.long)\n",
    "        }\n",
    "\n",
    "# Modelo de clasificación basado en XLNet\n",
    "class XLNetWinnerClassifier(nn.Module):\n",
    "    def __init__(self, n_classes=3, dropout=0.3):\n",
    "        super(XLNetWinnerClassifier, self).__init__()\n",
    "        self.xlnet = XLNetModel.from_pretrained('xlnet-base-cased')\n",
    "        self.dropout = nn.Dropout(dropout)\n",
    "        self.fc = nn.Linear(self.xlnet.config.hidden_size, n_classes)\n",
    "        \n",
    "    def forward(self, input_ids, attention_mask):\n",
    "        outputs = self.xlnet(\n",
    "            input_ids=input_ids,\n",
    "            attention_mask=attention_mask\n",
    "        )\n",
    "        \n",
    "        # Usar el último hidden state\n",
    "        pooled_output = outputs.last_hidden_state[:, -1, :]\n",
    "        pooled_output = self.dropout(pooled_output)\n",
    "        logits = self.fc(pooled_output)\n",
    "        \n",
    "        return logits\n",
    "\n",
    "# Función de entrenamiento\n",
    "def train_epoch(model, data_loader, optimizer, scheduler, device):\n",
    "    model.train()\n",
    "    losses = []\n",
    "    correct_predictions = 0\n",
    "    total_predictions = 0\n",
    "    \n",
    "    progress_bar = tqdm(data_loader, desc='Entrenando')\n",
    "    \n",
    "    for batch in progress_bar:\n",
    "        input_ids = batch['input_ids'].to(device)\n",
    "        attention_mask = batch['attention_mask'].to(device)\n",
    "        labels = batch['label'].to(device)\n",
    "        \n",
    "        optimizer.zero_grad()\n",
    "        \n",
    "        logits = model(input_ids=input_ids, attention_mask=attention_mask)\n",
    "        \n",
    "        loss = nn.CrossEntropyLoss()(logits, labels)\n",
    "        \n",
    "        _, preds = torch.max(logits, dim=1)\n",
    "        correct_predictions += torch.sum(preds == labels)\n",
    "        total_predictions += labels.size(0)\n",
    "        \n",
    "        loss.backward()\n",
    "        nn.utils.clip_grad_norm_(model.parameters(), max_norm=1.0)\n",
    "        optimizer.step()\n",
    "        scheduler.step()\n",
    "        \n",
    "        losses.append(loss.item())\n",
    "        progress_bar.set_postfix({'loss': np.mean(losses), 'acc': correct_predictions.double() / total_predictions})\n",
    "    \n",
    "    return correct_predictions.double() / total_predictions, np.mean(losses)\n",
    "\n",
    "# Función de evaluación\n",
    "def eval_model(model, data_loader, device):\n",
    "    model.eval()\n",
    "    losses = []\n",
    "    correct_predictions = 0\n",
    "    total_predictions = 0\n",
    "    predictions_list = []\n",
    "    labels_list = []\n",
    "    \n",
    "    with torch.no_grad():\n",
    "        for batch in tqdm(data_loader, desc='Evaluando'):\n",
    "            input_ids = batch['input_ids'].to(device)\n",
    "            attention_mask = batch['attention_mask'].to(device)\n",
    "            labels = batch['label'].to(device)\n",
    "            \n",
    "            logits = model(input_ids=input_ids, attention_mask=attention_mask)\n",
    "            \n",
    "            loss = nn.CrossEntropyLoss()(logits, labels)\n",
    "            \n",
    "            _, preds = torch.max(logits, dim=1)\n",
    "            correct_predictions += torch.sum(preds == labels)\n",
    "            total_predictions += labels.size(0)\n",
    "            \n",
    "            losses.append(loss.item())\n",
    "            predictions_list.extend(preds.cpu().numpy())\n",
    "            labels_list.extend(labels.cpu().numpy())\n",
    "    \n",
    "    return correct_predictions.double() / total_predictions, np.mean(losses), predictions_list, labels_list\n",
    "\n",
    "# Función principal de entrenamiento\n",
    "def train_model(df, epochs=3, batch_size=8, max_length=512, learning_rate=2e-5):\n",
    "    \"\"\"\n",
    "    Entrena el modelo XLNet para predicción de ganadores\n",
    "    \n",
    "    Args:\n",
    "        df: DataFrame con las columnas especificadas\n",
    "        epochs: Número de épocas de entrenamiento\n",
    "        batch_size: Tamaño del batch\n",
    "        max_length: Longitud máxima de los tokens\n",
    "        learning_rate: Tasa de aprendizaje\n",
    "    \"\"\"\n",
    "    \n",
    "    # Dividir en train y test\n",
    "    train_df, test_df = train_test_split(df, test_size=0.2, random_state=42, stratify=df[['winner_model_a', 'winner_model_b', 'winner_tie']].idxmax(axis=1))\n",
    "    \n",
    "    print(f\"Datos de entrenamiento: {len(train_df)}\")\n",
    "    print(f\"Datos de prueba: {len(test_df)}\")\n",
    "    \n",
    "    # Inicializar tokenizer\n",
    "    tokenizer = XLNetTokenizer.from_pretrained('xlnet-base-cased')\n",
    "    \n",
    "    # Crear datasets\n",
    "    train_dataset = ModelComparisonDataset(train_df, tokenizer, max_length)\n",
    "    test_dataset = ModelComparisonDataset(test_df, tokenizer, max_length)\n",
    "    \n",
    "    # Crear dataloaders\n",
    "    train_loader = DataLoader(train_dataset, batch_size=batch_size, shuffle=True)\n",
    "    test_loader = DataLoader(test_dataset, batch_size=batch_size, shuffle=False)\n",
    "    \n",
    "    # Inicializar modelo\n",
    "    model = XLNetWinnerClassifier(n_classes=3)\n",
    "    model = model.to(device)\n",
    "    \n",
    "    # Optimizador y scheduler\n",
    "    optimizer = AdamW(model.parameters(), lr=learning_rate)\n",
    "    total_steps = len(train_loader) * epochs\n",
    "    scheduler = get_linear_schedule_with_warmup(\n",
    "        optimizer,\n",
    "        num_warmup_steps=0,\n",
    "        num_training_steps=total_steps\n",
    "    )\n",
    "    \n",
    "    # Entrenamiento\n",
    "    best_accuracy = 0\n",
    "    \n",
    "    for epoch in range(epochs):\n",
    "        print(f'\\nÉpoca {epoch + 1}/{epochs}')\n",
    "        print('-' * 50)\n",
    "        \n",
    "        train_acc, train_loss = train_epoch(model, train_loader, optimizer, scheduler, device)\n",
    "        print(f'Train Loss: {train_loss:.4f} | Train Accuracy: {train_acc:.4f}')\n",
    "        \n",
    "        test_acc, test_loss, predictions, labels = eval_model(model, test_loader, device)\n",
    "        print(f'Test Loss: {test_loss:.4f} | Test Accuracy: {test_acc:.4f}')\n",
    "        \n",
    "        if test_acc > best_accuracy:\n",
    "            torch.save(model.state_dict(), 'best_xlnet_winner_model.pth')\n",
    "            best_accuracy = test_acc\n",
    "            print(f'¡Mejor modelo guardado con accuracy: {best_accuracy:.4f}!')\n",
    "    \n",
    "    # Reporte final\n",
    "    print('\\n' + '='*50)\n",
    "    print('REPORTE FINAL')\n",
    "    print('='*50)\n",
    "    class_names = ['Model A', 'Model B', 'Tie']\n",
    "    print(classification_report(labels, predictions, target_names=class_names))\n",
    "    \n",
    "    return model, tokenizer\n",
    "\n",
    "# Función para hacer predicciones\n",
    "def predict_winner(model, tokenizer, prompt, response_a, response_b, device, max_length=512):\n",
    "    \"\"\"\n",
    "    Predice el ganador para un nuevo conjunto de prompt y respuestas\n",
    "    \"\"\"\n",
    "    model.eval()\n",
    "    \n",
    "    text = f\"[PROMPT] {prompt} [SEP] [RESPONSE_A] {response_a} [SEP] [RESPONSE_B] {response_b}\"\n",
    "    \n",
    "    encoding = tokenizer(\n",
    "        text,\n",
    "        add_special_tokens=True,\n",
    "        max_length=max_length,\n",
    "        padding='max_length',\n",
    "        truncation=True,\n",
    "        return_attention_mask=True,\n",
    "        return_tensors='pt'\n",
    "    )\n",
    "    \n",
    "    input_ids = encoding['input_ids'].to(device)\n",
    "    attention_mask = encoding['attention_mask'].to(device)\n",
    "    \n",
    "    with torch.no_grad():\n",
    "        logits = model(input_ids=input_ids, attention_mask=attention_mask)\n",
    "        probs = torch.softmax(logits, dim=1)\n",
    "        _, prediction = torch.max(logits, dim=1)\n",
    "    \n",
    "    class_names = ['Model A', 'Model B', 'Tie']\n",
    "    \n",
    "    return {\n",
    "        'winner': class_names[prediction.item()],\n",
    "        'probabilities': {\n",
    "            'Model A': probs[0][0].item(),\n",
    "            'Model B': probs[0][1].item(),\n",
    "            'Tie': probs[0][2].item()\n",
    "        }\n",
    "    }"
   ]
  },
  {
   "cell_type": "code",
   "execution_count": 28,
   "id": "097511b4-2989-46ec-a89b-ad16e98b00e4",
   "metadata": {
    "execution": {
     "iopub.execute_input": "2025-10-22T01:36:42.840997Z",
     "iopub.status.busy": "2025-10-22T01:36:42.840709Z",
     "iopub.status.idle": "2025-10-22T01:36:42.845375Z",
     "shell.execute_reply": "2025-10-22T01:36:42.844892Z",
     "shell.execute_reply.started": "2025-10-22T01:36:42.840976Z"
    }
   },
   "outputs": [
    {
     "data": {
      "text/plain": [
       "True"
      ]
     },
     "execution_count": 28,
     "metadata": {},
     "output_type": "execute_result"
    }
   ],
   "source": [
    "type(\"Hola\") == type(\"str\")"
   ]
  },
  {
   "cell_type": "code",
   "execution_count": null,
   "id": "02b50fc2-0c3b-4414-904c-3bcc3056642e",
   "metadata": {
    "execution": {
     "execution_failed": "2025-10-22T01:40:18.698Z",
     "iopub.execute_input": "2025-10-22T01:39:27.131845Z",
     "iopub.status.busy": "2025-10-22T01:39:27.131633Z"
    }
   },
   "outputs": [
    {
     "name": "stdout",
     "output_type": "stream",
     "text": [
      "Datos de entrenamiento: 80\n",
      "Datos de prueba: 20\n",
      "\n",
      "Época 1/3\n",
      "--------------------------------------------------\n"
     ]
    },
    {
     "name": "stderr",
     "output_type": "stream",
     "text": [
      "Entrenando:  10%|█████████▏                                                                                  | 1/10 [00:29<04:28, 29.78s/it, loss=5.58, acc=tensor(0.2500, dtype=torch.float64)]"
     ]
    }
   ],
   "source": [
    "# Ejemplo de uso\n",
    "#if __name__ == \"__main__\":\n",
    "    # Cargar tu dataframe\n",
    "    # df = pd.read_csv('tu_archivo.csv')\n",
    "    \n",
    "# Ejemplo de datos ficticios para demostración\n",
    "DUMMY_MODEL = True\n",
    "if DUMMY_MODEL:\n",
    "    df = pd.DataFrame({\n",
    "        'id': range(100),\n",
    "        'model_a': ['GPT-4'] * 100,\n",
    "        'model_b': ['Claude'] * 100,\n",
    "        'prompt': [f'Prompt de ejemplo {i}' for i in range(100)],\n",
    "        'response_a_clean': [f'Respuesta A del ejemplo {i}' for i in range(100)],\n",
    "        'response_b_clean': [f'Respuesta B del ejemplo {i}' for i in range(100)],\n",
    "        'winner_model_a': np.random.choice([0, 1], 100),\n",
    "        'winner_model_b': np.random.choice([0, 1], 100),\n",
    "        'winner_tie': np.random.choice([0, 1], 100)\n",
    "    })\n",
    "        \n",
    "    # Asegurar que solo haya un ganador por fila\n",
    "    for idx in range(len(df)):\n",
    "        winners = [df.loc[idx, 'winner_model_a'], df.loc[idx, 'winner_model_b'], df.loc[idx, 'winner_tie']]\n",
    "        if sum(winners) != 1:\n",
    "            choice = np.random.choice([0, 1, 2])\n",
    "            df.loc[idx, 'winner_model_a'] = 1 if choice == 0 else 0\n",
    "            df.loc[idx, 'winner_model_b'] = 1 if choice == 1 else 0\n",
    "            df.loc[idx, 'winner_tie'] = 1 if choice == 2 else 0\n",
    "    \n",
    "# Entrenar el modelo\n",
    "model, tokenizer = train_model(df, epochs=3, batch_size=8)\n",
    "    \n",
    "# Hacer una predicción\n",
    "result = predict_winner(\n",
    "    model, \n",
    "    tokenizer,\n",
    "    \"¿Cuál es la capital de Francia?\",\n",
    "    \"La capital de Francia es París.\",\n",
    "    \"París es la capital de Francia.\",\n",
    "    device\n",
    ")\n",
    "    \n",
    "print(\"\\nPredicción de ejemplo:\")\n",
    "print(f\"Ganador: {result['winner']}\")\n",
    "print(f\"Probabilidades: {result['probabilities']}\")"
   ]
  },
  {
   "cell_type": "markdown",
   "id": "9dabaaa8-459b-4276-a0b0-4812423e63cc",
   "metadata": {},
   "source": [
    "## Conclusiones"
   ]
  },
  {
   "cell_type": "code",
   "execution_count": null,
   "id": "7b44542c-26b4-463d-a37a-4634bf468466",
   "metadata": {},
   "outputs": [],
   "source": []
  }
 ],
 "metadata": {
  "kernelspec": {
   "display_name": "Python 3 (ipykernel)",
   "language": "python",
   "name": "python3"
  },
  "language_info": {
   "codemirror_mode": {
    "name": "ipython",
    "version": 3
   },
   "file_extension": ".py",
   "mimetype": "text/x-python",
   "name": "python",
   "nbconvert_exporter": "python",
   "pygments_lexer": "ipython3",
   "version": "3.12.11"
  }
 },
 "nbformat": 4,
 "nbformat_minor": 5
}
