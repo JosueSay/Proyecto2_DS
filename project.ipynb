{
 "cells": [
  {
   "cell_type": "markdown",
   "id": "c1e2a947-0c2b-47de-b7d6-b5fed887f8fe",
   "metadata": {},
   "source": [
    "# Proyecto 2\n",
    "\n",
    "* Flavio Galán\n",
    "* Josue Say\n",
    "* Juan Pablo Solís\n",
    "* Isabella Miralles\n",
    "\n",
    "[Link Kaggle](https://www.kaggle.com/competitions/lmsys-chatbot-arena)\n",
    "## Dependencias"
   ]
  },
  {
   "cell_type": "code",
   "execution_count": 20,
   "id": "83e22907-77b4-4e16-820d-7aac9245572d",
   "metadata": {
    "execution": {
     "iopub.execute_input": "2025-09-11T00:03:59.971295Z",
     "iopub.status.busy": "2025-09-11T00:03:59.971039Z",
     "iopub.status.idle": "2025-09-11T00:04:02.500941Z",
     "shell.execute_reply": "2025-09-11T00:04:02.499988Z",
     "shell.execute_reply.started": "2025-09-11T00:03:59.971273Z"
    }
   },
   "outputs": [
    {
     "data": {
      "text/plain": [
       "True"
      ]
     },
     "execution_count": 20,
     "metadata": {},
     "output_type": "execute_result"
    }
   ],
   "source": [
    "import re\n",
    "import html\n",
    "import unicodedata\n",
    "import pandas as pd\n",
    "import matplotlib.pyplot as plt\n",
    "from collections import Counter\n",
    "import nltk\n",
    "from nltk.corpus import stopwords\n",
    "nltk.download('stopwords', quiet=True)"
   ]
  },
  {
   "cell_type": "markdown",
   "id": "e32f865d-82d2-4dad-bf68-502dbd59a985",
   "metadata": {},
   "source": [
    "## Constantes"
   ]
  },
  {
   "cell_type": "code",
   "execution_count": 21,
   "id": "7fa74143-b13b-4a76-b721-e1c533f4a117",
   "metadata": {
    "execution": {
     "iopub.execute_input": "2025-09-11T00:04:02.502110Z",
     "iopub.status.busy": "2025-09-11T00:04:02.501722Z",
     "iopub.status.idle": "2025-09-11T00:04:02.506610Z",
     "shell.execute_reply": "2025-09-11T00:04:02.505987Z",
     "shell.execute_reply.started": "2025-09-11T00:04:02.502079Z"
    }
   },
   "outputs": [],
   "source": [
    "MOJIBAKE_PAT = re.compile(\n",
    "    r\"[\\uFFFD\\u0080-\\u009F]\"      # U+FFFD o control C1\n",
    "    r\"|Ã.|Â.|â.|Û.|Ò|Ó\"\n",
    ")\n",
    "STOPWORDS_LANG    = \"english\""
   ]
  },
  {
   "cell_type": "markdown",
   "id": "bf371f19-5199-4634-a38c-0f08eed2372e",
   "metadata": {},
   "source": [
    "## Situación Problemática"
   ]
  },
  {
   "cell_type": "markdown",
   "id": "103d2ffa-d5a1-4cac-a828-6281c0e6f0c7",
   "metadata": {},
   "source": [
    "## Problema Científico"
   ]
  },
  {
   "cell_type": "markdown",
   "id": "84fc24c0-fe2f-40a1-be49-3ba8d13b9e30",
   "metadata": {},
   "source": [
    "## Objetivos"
   ]
  },
  {
   "cell_type": "markdown",
   "id": "cb4e511e-2a04-4ebf-9f9e-73352a929514",
   "metadata": {},
   "source": [
    "## Análisis Exploratorio"
   ]
  },
  {
   "cell_type": "markdown",
   "id": "69bf1d34-6651-465d-81eb-d8f77872a161",
   "metadata": {},
   "source": [
    "### Técnicas comunes para detección de patrones en texto\n"
   ]
  },
  {
   "cell_type": "markdown",
   "id": "575ba4f5-83af-458d-bd66-14fe1c8046d4",
   "metadata": {},
   "source": [
    "### Preprocesamiento de los datos\n",
    "\n",
    "Primero tenemos que cargar el dataset, Kaggle ya nos divide los datos en entrenamiento y prueba por lo que tenemos:"
   ]
  },
  {
   "cell_type": "code",
   "execution_count": 22,
   "id": "c7aad379-80de-407f-a26c-8818acabfce4",
   "metadata": {
    "execution": {
     "iopub.execute_input": "2025-09-11T00:04:02.507374Z",
     "iopub.status.busy": "2025-09-11T00:04:02.507196Z",
     "iopub.status.idle": "2025-09-11T00:04:04.190077Z",
     "shell.execute_reply": "2025-09-11T00:04:04.189356Z",
     "shell.execute_reply.started": "2025-09-11T00:04:02.507354Z"
    }
   },
   "outputs": [
    {
     "data": {
      "text/html": [
       "<div>\n",
       "<style scoped>\n",
       "    .dataframe tbody tr th:only-of-type {\n",
       "        vertical-align: middle;\n",
       "    }\n",
       "\n",
       "    .dataframe tbody tr th {\n",
       "        vertical-align: top;\n",
       "    }\n",
       "\n",
       "    .dataframe thead th {\n",
       "        text-align: right;\n",
       "    }\n",
       "</style>\n",
       "<table border=\"1\" class=\"dataframe\">\n",
       "  <thead>\n",
       "    <tr style=\"text-align: right;\">\n",
       "      <th></th>\n",
       "      <th>id</th>\n",
       "      <th>model_a</th>\n",
       "      <th>model_b</th>\n",
       "      <th>prompt</th>\n",
       "      <th>response_a</th>\n",
       "      <th>response_b</th>\n",
       "      <th>winner_model_a</th>\n",
       "      <th>winner_model_b</th>\n",
       "      <th>winner_tie</th>\n",
       "    </tr>\n",
       "  </thead>\n",
       "  <tbody>\n",
       "    <tr>\n",
       "      <th>0</th>\n",
       "      <td>30192</td>\n",
       "      <td>gpt-4-1106-preview</td>\n",
       "      <td>gpt-4-0613</td>\n",
       "      <td>[\"Is it morally right to try to have a certain...</td>\n",
       "      <td>[\"The question of whether it is morally right ...</td>\n",
       "      <td>[\"As an AI, I don't have personal beliefs or o...</td>\n",
       "      <td>1</td>\n",
       "      <td>0</td>\n",
       "      <td>0</td>\n",
       "    </tr>\n",
       "    <tr>\n",
       "      <th>1</th>\n",
       "      <td>53567</td>\n",
       "      <td>koala-13b</td>\n",
       "      <td>gpt-4-0613</td>\n",
       "      <td>[\"What is the difference between marriage lice...</td>\n",
       "      <td>[\"A marriage license is a legal document that ...</td>\n",
       "      <td>[\"A marriage license and a marriage certificat...</td>\n",
       "      <td>0</td>\n",
       "      <td>1</td>\n",
       "      <td>0</td>\n",
       "    </tr>\n",
       "    <tr>\n",
       "      <th>2</th>\n",
       "      <td>65089</td>\n",
       "      <td>gpt-3.5-turbo-0613</td>\n",
       "      <td>mistral-medium</td>\n",
       "      <td>[\"explain function calling. how would you call...</td>\n",
       "      <td>[\"Function calling is the process of invoking ...</td>\n",
       "      <td>[\"Function calling is the process of invoking ...</td>\n",
       "      <td>0</td>\n",
       "      <td>0</td>\n",
       "      <td>1</td>\n",
       "    </tr>\n",
       "    <tr>\n",
       "      <th>3</th>\n",
       "      <td>96401</td>\n",
       "      <td>llama-2-13b-chat</td>\n",
       "      <td>mistral-7b-instruct</td>\n",
       "      <td>[\"How can I create a test set for a very rare ...</td>\n",
       "      <td>[\"Creating a test set for a very rare category...</td>\n",
       "      <td>[\"When building a classifier for a very rare c...</td>\n",
       "      <td>1</td>\n",
       "      <td>0</td>\n",
       "      <td>0</td>\n",
       "    </tr>\n",
       "    <tr>\n",
       "      <th>4</th>\n",
       "      <td>198779</td>\n",
       "      <td>koala-13b</td>\n",
       "      <td>gpt-3.5-turbo-0314</td>\n",
       "      <td>[\"What is the best way to travel from Tel-Aviv...</td>\n",
       "      <td>[\"The best way to travel from Tel Aviv to Jeru...</td>\n",
       "      <td>[\"The best way to travel from Tel-Aviv to Jeru...</td>\n",
       "      <td>0</td>\n",
       "      <td>1</td>\n",
       "      <td>0</td>\n",
       "    </tr>\n",
       "  </tbody>\n",
       "</table>\n",
       "</div>"
      ],
      "text/plain": [
       "       id             model_a              model_b  \\\n",
       "0   30192  gpt-4-1106-preview           gpt-4-0613   \n",
       "1   53567           koala-13b           gpt-4-0613   \n",
       "2   65089  gpt-3.5-turbo-0613       mistral-medium   \n",
       "3   96401    llama-2-13b-chat  mistral-7b-instruct   \n",
       "4  198779           koala-13b   gpt-3.5-turbo-0314   \n",
       "\n",
       "                                              prompt  \\\n",
       "0  [\"Is it morally right to try to have a certain...   \n",
       "1  [\"What is the difference between marriage lice...   \n",
       "2  [\"explain function calling. how would you call...   \n",
       "3  [\"How can I create a test set for a very rare ...   \n",
       "4  [\"What is the best way to travel from Tel-Aviv...   \n",
       "\n",
       "                                          response_a  \\\n",
       "0  [\"The question of whether it is morally right ...   \n",
       "1  [\"A marriage license is a legal document that ...   \n",
       "2  [\"Function calling is the process of invoking ...   \n",
       "3  [\"Creating a test set for a very rare category...   \n",
       "4  [\"The best way to travel from Tel Aviv to Jeru...   \n",
       "\n",
       "                                          response_b  winner_model_a  \\\n",
       "0  [\"As an AI, I don't have personal beliefs or o...               1   \n",
       "1  [\"A marriage license and a marriage certificat...               0   \n",
       "2  [\"Function calling is the process of invoking ...               0   \n",
       "3  [\"When building a classifier for a very rare c...               1   \n",
       "4  [\"The best way to travel from Tel-Aviv to Jeru...               0   \n",
       "\n",
       "   winner_model_b  winner_tie  \n",
       "0               0           0  \n",
       "1               1           0  \n",
       "2               0           1  \n",
       "3               0           0  \n",
       "4               1           0  "
      ]
     },
     "execution_count": 22,
     "metadata": {},
     "output_type": "execute_result"
    }
   ],
   "source": [
    "df = pd.read_csv(\"data/train.csv\")\n",
    "df.head()"
   ]
  },
  {
   "cell_type": "code",
   "execution_count": 23,
   "id": "31a818e7-d31a-487f-a04e-aadb1143862f",
   "metadata": {
    "execution": {
     "iopub.execute_input": "2025-09-11T00:04:04.190924Z",
     "iopub.status.busy": "2025-09-11T00:04:04.190715Z",
     "iopub.status.idle": "2025-09-11T00:04:04.196719Z",
     "shell.execute_reply": "2025-09-11T00:04:04.196247Z",
     "shell.execute_reply.started": "2025-09-11T00:04:04.190906Z"
    },
    "scrolled": true
   },
   "outputs": [
    {
     "name": "stdout",
     "output_type": "stream",
     "text": [
      "[\"The question of whether it is morally right to aim for a certain percentage of females in managerial positions is a complex ethical issue that involves considerations of fairness, equality, diversity, and discrimination.\\n\\nHere are some arguments in favor of and against such policies:\\n\\n**Arguments in favor:**\\n\\n1. **Correcting Historical Inequities:** Women have historically been underrepresented in leadership roles due to various cultural, institutional, and social barriers. Aiming for a specific percentage can be seen as a corrective measure to address past and ongoing discrimination.\\n\\n2. **Promoting Diversity:** Diverse leadership teams can enhance decision-making and represent a broader range of perspectives. This can lead to better outcomes for organizations and society as a whole.\\n\\n3. **Equality of Opportunity:** Setting targets for female representation in management can help ensure that women have equal opportunities to advance in their careers.\\n\\n4. **Role Modeling:** Increased visibility of female leaders can inspire and encourage other women and girls to pursue leadership roles.\\n\\n**Arguments against:**\\n\\n1. **Reverse Discrimination:** Setting a quota for female representation might lead to the perception or reality of reverse discrimination, where men might be overlooked for positions despite being qualified, simply to meet the gender target.\\n\\n2. **Meritocracy Concerns:** Critics argue that employment and promotion should be based solely on merit and qualifications, not gender. They fear that quotas could compromise the quality of leadership if less qualified individuals are promoted to meet gender targets.\\n\\n3. **Tokenism:** There is a risk that women appointed to meet quotas might be seen as \\\"tokens,\\\" undermining their legitimacy and potentially leading to resentment among colleagues.\\n\\n4. **Oversimplification of Diversity:** Focusing only on gender might overlook other important aspects of diversity, such as race, ethnicity, socioeconomic background, or sexual orientation.\\n\\nUltimately, the morality of aiming for a certain percentage of females in managerial positions depends on one's ethical framework and the context in which such policies are implemented. Proponents of gender diversity targets often argue that these measures are necessary as a transitional mechanism to create a level playing field, while opponents may argue for a \\\"color-blind\\\" or \\\"gender-blind\\\" approach to hiring and promotions.\\n\\nOrganizations and societies must carefully consider the implications of these strategies and strive to implement policies that promote fairness and equality while minimizing negative consequences. It is also important to address the root causes of gender inequality, such as unconscious bias, work-life balance challenges, and lack of supportive policies, to create an environment where everyone has the opportunity to succeed based on their capabilities and contributions.\",\"Ah, the age-old culinary conundrum that has divided nations and dinner tables: does pineapple belong on a pizza? The tropical twist of pineapple on pizza, known as Hawaiian pizza, is a hotly debated topic where taste buds battle and pizza purists protest.\\n\\nLet's slice into the debate with a zest of fun:\\n\\n**Team Pineapple:** \\\"Absolutely, yes! Pineapple on pizza is like a beach party in your mouth. The sweet juiciness of pineapple chunks frolicking with savory ham or bacon creates a flavor wave that surfs across the cheesy ocean of deliciousness. It's the Mardi Gras of pizzas, where sweet meets savory in a jubilant jamboree!\\\"\\n\\n**Team No-Pineapple:** \\\"No way, not in a million pizzas! Pineapple is a fruit that should be sunbathing on a tropical fruit platter, not freeloading on a sacred slice of pizza. The thought of warm, melty cheese conspiring with pineapple's sugary mischief is enough to make Italian ancestors turn in their tomato patches. Keep the pineapple in the fruit salad where it belongs!\\\"\\n\\nAt the end of the day, whether pineapple belongs on pizza is a matter of personal taste. Some say it's a match made in heaven, others say it's a culinary crime. But let's face it, in the world of pizza toppings, where you can find everything from anchovies to zucchini, there's room for a little pineapple pizzazz. So, if your taste buds crave that sweet and tangy twist, go ahead and let your pineapple flag fly atop that glorious cheese-covered dough. Bon app\\u00e9tit, or as they say in pineapple paradise, \\\"Aloha-ppetite!\\\" \\ud83c\\udf4d\\ud83c\\udf55\"]\n",
      "[\"The question of whether it is morally right to aim for a certain percentage of females in managerial positions is a complex ethical issue that involves considerations of fairness, equality, diversity, and discrimination.\\n\\nHere are some arguments in favor of and against such policies:\\n\\n**Arguments in favor:**\\n\\n1. **Correcting Historical Inequities:** Women have historically been underrepresented in leadership roles due to various cultural, institutional, and social barriers. Aiming for a specific percentage can be seen as a corrective measure to address past and ongoing discrimination.\\n\\n2. **Promoting Diversity:** Diverse leadership teams can enhance decision-making and represent a broader range of perspectives. This can lead to better outcomes for organizations and society as a whole.\\n\\n3. **Equality of Opportunity:** Setting targets for female representation in management can help ensure that women have equal opportunities to advance in their careers.\\n\\n4. **Role Modeling:** Increased visibility of female leaders can inspire and encourage other women and girls to pursue leadership roles.\\n\\n**Arguments against:**\\n\\n1. **Reverse Discrimination:** Setting a quota for female representation might lead to the perception or reality of reverse discrimination, where men might be overlooked for positions despite being qualified, simply to meet the gender target.\\n\\n2. **Meritocracy Concerns:** Critics argue that employment and promotion should be based solely on merit and qualifications, not gender. They fear that quotas could compromise the quality of leadership if less qualified individuals are promoted to meet gender targets.\\n\\n3. **Tokenism:** There is a risk that women appointed to meet quotas might be seen as \\\"tokens,\\\" undermining their legitimacy and potentially leading to resentment among colleagues.\\n\\n4. **Oversimplification of Diversity:** Focusing only on gender might overlook other important aspects of diversity, such as race, ethnicity, socioeconomic background, or sexual orientation.\\n\\nUltimately, the morality of aiming for a certain percentage of females in managerial positions depends on one's ethical framework and the context in which such policies are implemented. Proponents of gender diversity targets often argue that these measures are necessary as a transitional mechanism to create a level playing field, while opponents may argue for a \\\"color-blind\\\" or \\\"gender-blind\\\" approach to hiring and promotions.\\n\\nOrganizations and societies must carefully consider the implications of these strategies and strive to implement policies that promote fairness and equality while minimizing negative consequences. It is also important to address the root causes of gender inequality, such as unconscious bias, work-life balance challenges, and lack of supportive policies, to create an environment where everyone has the opportunity to succeed based on their capabilities and contributions.\",\"Ah, the age-old culinary conundrum that has divided nations and dinner tables: does pineapple belong on a pizza? The tropical twist of pineapple on pizza, known as Hawaiian pizza, is a hotly debated topic where taste buds battle and pizza purists protest.\\n\\nLet's slice into the debate with a zest of fun:\\n\\n**Team Pineapple:** \\\"Absolutely, yes! Pineapple on pizza is like a beach party in your mouth. The sweet juiciness of pineapple chunks frolicking with savory ham or bacon creates a flavor wave that surfs across the cheesy ocean of deliciousness. It's the Mardi Gras of pizzas, where sweet meets savory in a jubilant jamboree!\\\"\\n\\n**Team No-Pineapple:** \\\"No way, not in a million pizzas! Pineapple is a fruit that should be sunbathing on a tropical fruit platter, not freeloading on a sacred slice of pizza. The thought of warm, melty cheese conspiring with pineapple's sugary mischief is enough to make Italian ancestors turn in their tomato patches. Keep the pineapple in the fruit salad where it belongs!\\\"\\n\\nAt the end of the day, whether pineapple belongs on pizza is a matter of personal taste. Some say it's a match made in heaven, others say it's a culinary crime. But let's face it, in the world of pizza toppings, where you can find everything from anchovies to zucchini, there's room for a little pineapple pizzazz. So, if your taste buds crave that sweet and tangy twist, go ahead and let your pineapple flag fly atop that glorious cheese-covered dough. Bon app\\u00e9tit, or as they say in pineapple paradise, \\\"Aloha-ppetite!\\\" \\ud83c\\udf4d\\ud83c\\udf55\"]\n"
     ]
    },
    {
     "data": {
      "text/plain": [
       "'The question of whether it is morally right to aim for a certain percentage of females in managerial positions is a complex ethical issue that involves considerations of fairness, equality, diversity, and discrimination.\\n\\nHere are some arguments in favor of and against such policies:\\n\\n**Arguments in favor:**\\n\\n1. **Correcting Historical Inequities:** Women have historically been underrepresented in leadership roles due to various cultural, institutional, and social barriers. Aiming for a specific percentage can be seen as a corrective measure to address past and ongoing discrimination.\\n\\n2. **Promoting Diversity:** Diverse leadership teams can enhance decision-making and represent a broader range of perspectives. This can lead to better outcomes for organizations and society as a whole.\\n\\n3. **Equality of Opportunity:** Setting targets for female representation in management can help ensure that women have equal opportunities to advance in their careers.\\n\\n4. **Role Modeling:** Increased visibility of female leaders can inspire and encourage other women and girls to pursue leadership roles.\\n\\n**Arguments against:**\\n\\n1. **Reverse Discrimination:** Setting a quota for female representation might lead to the perception or reality of reverse discrimination, where men might be overlooked for positions despite being qualified, simply to meet the gender target.\\n\\n2. **Meritocracy Concerns:** Critics argue that employment and promotion should be based solely on merit and qualifications, not gender. They fear that quotas could compromise the quality of leadership if less qualified individuals are promoted to meet gender targets.\\n\\n3. **Tokenism:** There is a risk that women appointed to meet quotas might be seen as \"tokens,\" undermining their legitimacy and potentially leading to resentment among colleagues.\\n\\n4. **Oversimplification of Diversity:** Focusing only on gender might overlook other important aspects of diversity, such as race, ethnicity, socioeconomic background, or sexual orientation.\\n\\nUltimately, the morality of aiming for a certain percentage of females in managerial positions depends on one\\'s ethical framework and the context in which such policies are implemented. Proponents of gender diversity targets often argue that these measures are necessary as a transitional mechanism to create a level playing field, while opponents may argue for a \"color-blind\" or \"gender-blind\" approach to hiring and promotions.\\n\\nOrganizations and societies must carefully consider the implications of these strategies and strive to implement policies that promote fairness and equality while minimizing negative consequences. It is also important to address the root causes of gender inequality, such as unconscious bias, work-life balance challenges, and lack of supportive policies, to create an environment where everyone has the opportunity to succeed based on their capabilities and contributions.\\nAh, the age-old culinary conundrum that has divided nations and dinner tables: does pineapple belong on a pizza? The tropical twist of pineapple on pizza, known as Hawaiian pizza, is a hotly debated topic where taste buds battle and pizza purists protest.\\n\\nLet\\'s slice into the debate with a zest of fun:\\n\\n**Team Pineapple:** \"Absolutely, yes! Pineapple on pizza is like a beach party in your mouth. The sweet juiciness of pineapple chunks frolicking with savory ham or bacon creates a flavor wave that surfs across the cheesy ocean of deliciousness. It\\'s the Mardi Gras of pizzas, where sweet meets savory in a jubilant jamboree!\"\\n\\n**Team No-Pineapple:** \"No way, not in a million pizzas! Pineapple is a fruit that should be sunbathing on a tropical fruit platter, not freeloading on a sacred slice of pizza. The thought of warm, melty cheese conspiring with pineapple\\'s sugary mischief is enough to make Italian ancestors turn in their tomato patches. Keep the pineapple in the fruit salad where it belongs!\"\\n\\nAt the end of the day, whether pineapple belongs on pizza is a matter of personal taste. Some say it\\'s a match made in heaven, others say it\\'s a culinary crime. But let\\'s face it, in the world of pizza toppings, where you can find everything from anchovies to zucchini, there\\'s room for a little pineapple pizzazz. So, if your taste buds crave that sweet and tangy twist, go ahead and let your pineapple flag fly atop that glorious cheese-covered dough. Bon appétit, or as they say in pineapple paradise, \"Aloha-ppetite!\" \\ud83c\\udf4d\\ud83c\\udf55'"
      ]
     },
     "execution_count": 23,
     "metadata": {},
     "output_type": "execute_result"
    }
   ],
   "source": [
    "ap = df[\"response_a\"].iloc[0]\n",
    "print(ap)\n",
    "ap = ap.replace(\"\\\\\\\\\", \"\\\\\")\n",
    "print(ap)\n",
    "a = eval(ap)\n",
    "\"\\n\".join(a)"
   ]
  },
  {
   "cell_type": "markdown",
   "id": "36c0c752-7ae0-48c9-b783-84a9bbee59b4",
   "metadata": {},
   "source": [
    "Por lo que podemos ver que el dataset contiene el prompt dado a la LLM y la respuesta que dieron. En el dataset de entrenamiento se incluye tanto el modelo que respondió la pregunta como el ganador o si hubo un empato, sin embargo en el dataset de prueba solamente se tiene la respuesta y el prompt, por lo que no podremos usar las variables modelo de forma directa para entrenar a nuestro modelo.\n",
    "\n",
    "### Descripción de las variables\n",
    "\n",
    "* **id**: ID de la interacción entre un usuario y los modelos.\n",
    "* **model_a**: El nombre del modelo identificado como A en el enfrentamiento. No se puede usar para entrenar el dataset.\n",
    "* **model_b**: El nombre del modelo identificado como B en el enfrentamiento. No se puede usar para entrenar el dataset.\n",
    "* **prompt**: Un array de cadenas de texto que representan los inputs dados al modelo.\n",
    "* **response_a**: La respuesta que dió el LLM identificado con a.\n",
    "* **response_b**: La respuesta qeu dió el LLM identificado con b.\n",
    "* **winner_model_a**: Si el modelo a fue elegido como ganador.\n",
    "* **winner_model_b**: Si el modelo b fue elegido como ganador.\n",
    "* **winner_tie**: Si hubo un empate entre los modelos.\n",
    "\n",
    "Para facilitar el análisis de los datos se parseó cada columna del dataframe de prompt, response[ab] y se unieron en una sola cadena de texto. Tenemos entonces:"
   ]
  },
  {
   "cell_type": "code",
   "execution_count": 24,
   "id": "a3865a85-e5eb-4f8d-b505-c59063d783de",
   "metadata": {
    "execution": {
     "iopub.execute_input": "2025-09-11T00:04:04.197502Z",
     "iopub.status.busy": "2025-09-11T00:04:04.197324Z",
     "iopub.status.idle": "2025-09-11T00:04:09.731114Z",
     "shell.execute_reply": "2025-09-11T00:04:09.730471Z",
     "shell.execute_reply.started": "2025-09-11T00:04:04.197484Z"
    },
    "scrolled": true
   },
   "outputs": [
    {
     "data": {
      "text/html": [
       "<div>\n",
       "<style scoped>\n",
       "    .dataframe tbody tr th:only-of-type {\n",
       "        vertical-align: middle;\n",
       "    }\n",
       "\n",
       "    .dataframe tbody tr th {\n",
       "        vertical-align: top;\n",
       "    }\n",
       "\n",
       "    .dataframe thead th {\n",
       "        text-align: right;\n",
       "    }\n",
       "</style>\n",
       "<table border=\"1\" class=\"dataframe\">\n",
       "  <thead>\n",
       "    <tr style=\"text-align: right;\">\n",
       "      <th></th>\n",
       "      <th>id</th>\n",
       "      <th>model_a</th>\n",
       "      <th>model_b</th>\n",
       "      <th>prompt</th>\n",
       "      <th>response_a</th>\n",
       "      <th>response_b</th>\n",
       "      <th>winner_model_a</th>\n",
       "      <th>winner_model_b</th>\n",
       "      <th>winner_tie</th>\n",
       "      <th>prompt_clean</th>\n",
       "      <th>response_a_clean</th>\n",
       "      <th>response_b_clean</th>\n",
       "    </tr>\n",
       "  </thead>\n",
       "  <tbody>\n",
       "    <tr>\n",
       "      <th>0</th>\n",
       "      <td>30192</td>\n",
       "      <td>gpt-4-1106-preview</td>\n",
       "      <td>gpt-4-0613</td>\n",
       "      <td>[\"Is it morally right to try to have a certain...</td>\n",
       "      <td>[\"The question of whether it is morally right ...</td>\n",
       "      <td>[\"As an AI, I don't have personal beliefs or o...</td>\n",
       "      <td>1</td>\n",
       "      <td>0</td>\n",
       "      <td>0</td>\n",
       "      <td>Is it morally right to try to have a certain p...</td>\n",
       "      <td>The question of whether it is morally right to...</td>\n",
       "      <td>As an AI, I don't have personal beliefs or opi...</td>\n",
       "    </tr>\n",
       "    <tr>\n",
       "      <th>1</th>\n",
       "      <td>53567</td>\n",
       "      <td>koala-13b</td>\n",
       "      <td>gpt-4-0613</td>\n",
       "      <td>[\"What is the difference between marriage lice...</td>\n",
       "      <td>[\"A marriage license is a legal document that ...</td>\n",
       "      <td>[\"A marriage license and a marriage certificat...</td>\n",
       "      <td>0</td>\n",
       "      <td>1</td>\n",
       "      <td>0</td>\n",
       "      <td>What is the difference between marriage licens...</td>\n",
       "      <td>A marriage license is a legal document that al...</td>\n",
       "      <td>A marriage license and a marriage certificate ...</td>\n",
       "    </tr>\n",
       "    <tr>\n",
       "      <th>2</th>\n",
       "      <td>65089</td>\n",
       "      <td>gpt-3.5-turbo-0613</td>\n",
       "      <td>mistral-medium</td>\n",
       "      <td>[\"explain function calling. how would you call...</td>\n",
       "      <td>[\"Function calling is the process of invoking ...</td>\n",
       "      <td>[\"Function calling is the process of invoking ...</td>\n",
       "      <td>0</td>\n",
       "      <td>0</td>\n",
       "      <td>1</td>\n",
       "      <td>explain function calling. how would you call a...</td>\n",
       "      <td>Function calling is the process of invoking or...</td>\n",
       "      <td>Function calling is the process of invoking a ...</td>\n",
       "    </tr>\n",
       "    <tr>\n",
       "      <th>3</th>\n",
       "      <td>96401</td>\n",
       "      <td>llama-2-13b-chat</td>\n",
       "      <td>mistral-7b-instruct</td>\n",
       "      <td>[\"How can I create a test set for a very rare ...</td>\n",
       "      <td>[\"Creating a test set for a very rare category...</td>\n",
       "      <td>[\"When building a classifier for a very rare c...</td>\n",
       "      <td>1</td>\n",
       "      <td>0</td>\n",
       "      <td>0</td>\n",
       "      <td>How can I create a test set for a very rare ca...</td>\n",
       "      <td>Creating a test set for a very rare category c...</td>\n",
       "      <td>When building a classifier for a very rare cat...</td>\n",
       "    </tr>\n",
       "    <tr>\n",
       "      <th>4</th>\n",
       "      <td>198779</td>\n",
       "      <td>koala-13b</td>\n",
       "      <td>gpt-3.5-turbo-0314</td>\n",
       "      <td>[\"What is the best way to travel from Tel-Aviv...</td>\n",
       "      <td>[\"The best way to travel from Tel Aviv to Jeru...</td>\n",
       "      <td>[\"The best way to travel from Tel-Aviv to Jeru...</td>\n",
       "      <td>0</td>\n",
       "      <td>1</td>\n",
       "      <td>0</td>\n",
       "      <td>What is the best way to travel from Tel-Aviv t...</td>\n",
       "      <td>The best way to travel from Tel Aviv to Jerusa...</td>\n",
       "      <td>The best way to travel from Tel-Aviv to Jerusa...</td>\n",
       "    </tr>\n",
       "    <tr>\n",
       "      <th>...</th>\n",
       "      <td>...</td>\n",
       "      <td>...</td>\n",
       "      <td>...</td>\n",
       "      <td>...</td>\n",
       "      <td>...</td>\n",
       "      <td>...</td>\n",
       "      <td>...</td>\n",
       "      <td>...</td>\n",
       "      <td>...</td>\n",
       "      <td>...</td>\n",
       "      <td>...</td>\n",
       "      <td>...</td>\n",
       "    </tr>\n",
       "    <tr>\n",
       "      <th>57472</th>\n",
       "      <td>4294656694</td>\n",
       "      <td>gpt-4-0613</td>\n",
       "      <td>claude-1</td>\n",
       "      <td>[\"A simple mnemonic for \\u03c0:\\n\\\"How I wish ...</td>\n",
       "      <td>[\"Sure, let's break it down:\\n\\n1. \\\"How\\\" has...</td>\n",
       "      <td>[\"Here is how that mnemonic represents the dig...</td>\n",
       "      <td>1</td>\n",
       "      <td>0</td>\n",
       "      <td>0</td>\n",
       "      <td>A simple mnemonic for π:\\n\"How I wish I could ...</td>\n",
       "      <td>Sure, let's break it down:\\n\\n1. \"How\" has 3 l...</td>\n",
       "      <td>Here is how that mnemonic represents the digit...</td>\n",
       "    </tr>\n",
       "    <tr>\n",
       "      <th>57473</th>\n",
       "      <td>4294692063</td>\n",
       "      <td>claude-2.0</td>\n",
       "      <td>llama-2-13b-chat</td>\n",
       "      <td>[\"In python, implement a naive Bayes with gaus...</td>\n",
       "      <td>[\"Here is an implementation of a naive Bayes c...</td>\n",
       "      <td>[\"Sure! Here's an implementation of a naive Ba...</td>\n",
       "      <td>1</td>\n",
       "      <td>0</td>\n",
       "      <td>0</td>\n",
       "      <td>In python, implement a naive Bayes with gaussi...</td>\n",
       "      <td>Here is an implementation of a naive Bayes cla...</td>\n",
       "      <td>Sure! Here's an implementation of a naive Baye...</td>\n",
       "    </tr>\n",
       "    <tr>\n",
       "      <th>57474</th>\n",
       "      <td>4294710549</td>\n",
       "      <td>claude-1</td>\n",
       "      <td>alpaca-13b</td>\n",
       "      <td>[\"is it unethical to work on building weapons?...</td>\n",
       "      <td>[\"Working on weapons technology raises some et...</td>\n",
       "      <td>[\"It depends on the context. Weapons can be us...</td>\n",
       "      <td>1</td>\n",
       "      <td>0</td>\n",
       "      <td>0</td>\n",
       "      <td>is it unethical to work on building weapons?\\n...</td>\n",
       "      <td>Working on weapons technology raises some ethi...</td>\n",
       "      <td>It depends on the context. Weapons can be used...</td>\n",
       "    </tr>\n",
       "    <tr>\n",
       "      <th>57475</th>\n",
       "      <td>4294899228</td>\n",
       "      <td>palm-2</td>\n",
       "      <td>tulu-2-dpo-70b</td>\n",
       "      <td>[\"If a bait contains 0,0025% bromadiolon then ...</td>\n",
       "      <td>[\"Bromadiolone is a rodenticide which is most ...</td>\n",
       "      <td>[\"As an AI language model, I do not promote or...</td>\n",
       "      <td>0</td>\n",
       "      <td>1</td>\n",
       "      <td>0</td>\n",
       "      <td>If a bait contains 0,0025% bromadiolon then ho...</td>\n",
       "      <td>Bromadiolone is a rodenticide which is most of...</td>\n",
       "      <td>As an AI language model, I do not promote or c...</td>\n",
       "    </tr>\n",
       "    <tr>\n",
       "      <th>57476</th>\n",
       "      <td>4294947231</td>\n",
       "      <td>gemini-pro-dev-api</td>\n",
       "      <td>gpt-4-1106-preview</td>\n",
       "      <td>[\"three kids eat three apples in three days, h...</td>\n",
       "      <td>[\"27 apples\"]</td>\n",
       "      <td>[\"If three kids eat three apples in three days...</td>\n",
       "      <td>1</td>\n",
       "      <td>0</td>\n",
       "      <td>0</td>\n",
       "      <td>three kids eat three apples in three days, how...</td>\n",
       "      <td>27 apples</td>\n",
       "      <td>If three kids eat three apples in three days, ...</td>\n",
       "    </tr>\n",
       "  </tbody>\n",
       "</table>\n",
       "<p>57477 rows × 12 columns</p>\n",
       "</div>"
      ],
      "text/plain": [
       "               id             model_a              model_b  \\\n",
       "0           30192  gpt-4-1106-preview           gpt-4-0613   \n",
       "1           53567           koala-13b           gpt-4-0613   \n",
       "2           65089  gpt-3.5-turbo-0613       mistral-medium   \n",
       "3           96401    llama-2-13b-chat  mistral-7b-instruct   \n",
       "4          198779           koala-13b   gpt-3.5-turbo-0314   \n",
       "...           ...                 ...                  ...   \n",
       "57472  4294656694          gpt-4-0613             claude-1   \n",
       "57473  4294692063          claude-2.0     llama-2-13b-chat   \n",
       "57474  4294710549            claude-1           alpaca-13b   \n",
       "57475  4294899228              palm-2       tulu-2-dpo-70b   \n",
       "57476  4294947231  gemini-pro-dev-api   gpt-4-1106-preview   \n",
       "\n",
       "                                                  prompt  \\\n",
       "0      [\"Is it morally right to try to have a certain...   \n",
       "1      [\"What is the difference between marriage lice...   \n",
       "2      [\"explain function calling. how would you call...   \n",
       "3      [\"How can I create a test set for a very rare ...   \n",
       "4      [\"What is the best way to travel from Tel-Aviv...   \n",
       "...                                                  ...   \n",
       "57472  [\"A simple mnemonic for \\u03c0:\\n\\\"How I wish ...   \n",
       "57473  [\"In python, implement a naive Bayes with gaus...   \n",
       "57474  [\"is it unethical to work on building weapons?...   \n",
       "57475  [\"If a bait contains 0,0025% bromadiolon then ...   \n",
       "57476  [\"three kids eat three apples in three days, h...   \n",
       "\n",
       "                                              response_a  \\\n",
       "0      [\"The question of whether it is morally right ...   \n",
       "1      [\"A marriage license is a legal document that ...   \n",
       "2      [\"Function calling is the process of invoking ...   \n",
       "3      [\"Creating a test set for a very rare category...   \n",
       "4      [\"The best way to travel from Tel Aviv to Jeru...   \n",
       "...                                                  ...   \n",
       "57472  [\"Sure, let's break it down:\\n\\n1. \\\"How\\\" has...   \n",
       "57473  [\"Here is an implementation of a naive Bayes c...   \n",
       "57474  [\"Working on weapons technology raises some et...   \n",
       "57475  [\"Bromadiolone is a rodenticide which is most ...   \n",
       "57476                                      [\"27 apples\"]   \n",
       "\n",
       "                                              response_b winner_model_a  \\\n",
       "0      [\"As an AI, I don't have personal beliefs or o...              1   \n",
       "1      [\"A marriage license and a marriage certificat...              0   \n",
       "2      [\"Function calling is the process of invoking ...              0   \n",
       "3      [\"When building a classifier for a very rare c...              1   \n",
       "4      [\"The best way to travel from Tel-Aviv to Jeru...              0   \n",
       "...                                                  ...            ...   \n",
       "57472  [\"Here is how that mnemonic represents the dig...              1   \n",
       "57473  [\"Sure! Here's an implementation of a naive Ba...              1   \n",
       "57474  [\"It depends on the context. Weapons can be us...              1   \n",
       "57475  [\"As an AI language model, I do not promote or...              0   \n",
       "57476  [\"If three kids eat three apples in three days...              1   \n",
       "\n",
       "      winner_model_b winner_tie  \\\n",
       "0                  0          0   \n",
       "1                  1          0   \n",
       "2                  0          1   \n",
       "3                  0          0   \n",
       "4                  1          0   \n",
       "...              ...        ...   \n",
       "57472              0          0   \n",
       "57473              0          0   \n",
       "57474              0          0   \n",
       "57475              1          0   \n",
       "57476              0          0   \n",
       "\n",
       "                                            prompt_clean  \\\n",
       "0      Is it morally right to try to have a certain p...   \n",
       "1      What is the difference between marriage licens...   \n",
       "2      explain function calling. how would you call a...   \n",
       "3      How can I create a test set for a very rare ca...   \n",
       "4      What is the best way to travel from Tel-Aviv t...   \n",
       "...                                                  ...   \n",
       "57472  A simple mnemonic for π:\\n\"How I wish I could ...   \n",
       "57473  In python, implement a naive Bayes with gaussi...   \n",
       "57474  is it unethical to work on building weapons?\\n...   \n",
       "57475  If a bait contains 0,0025% bromadiolon then ho...   \n",
       "57476  three kids eat three apples in three days, how...   \n",
       "\n",
       "                                        response_a_clean  \\\n",
       "0      The question of whether it is morally right to...   \n",
       "1      A marriage license is a legal document that al...   \n",
       "2      Function calling is the process of invoking or...   \n",
       "3      Creating a test set for a very rare category c...   \n",
       "4      The best way to travel from Tel Aviv to Jerusa...   \n",
       "...                                                  ...   \n",
       "57472  Sure, let's break it down:\\n\\n1. \"How\" has 3 l...   \n",
       "57473  Here is an implementation of a naive Bayes cla...   \n",
       "57474  Working on weapons technology raises some ethi...   \n",
       "57475  Bromadiolone is a rodenticide which is most of...   \n",
       "57476                                          27 apples   \n",
       "\n",
       "                                        response_b_clean  \n",
       "0      As an AI, I don't have personal beliefs or opi...  \n",
       "1      A marriage license and a marriage certificate ...  \n",
       "2      Function calling is the process of invoking a ...  \n",
       "3      When building a classifier for a very rare cat...  \n",
       "4      The best way to travel from Tel-Aviv to Jerusa...  \n",
       "...                                                  ...  \n",
       "57472  Here is how that mnemonic represents the digit...  \n",
       "57473  Sure! Here's an implementation of a naive Baye...  \n",
       "57474  It depends on the context. Weapons can be used...  \n",
       "57475  As an AI language model, I do not promote or c...  \n",
       "57476  If three kids eat three apples in three days, ...  \n",
       "\n",
       "[57477 rows x 12 columns]"
      ]
     },
     "execution_count": 24,
     "metadata": {},
     "output_type": "execute_result"
    }
   ],
   "source": [
    "def eval_and_join(row, key: str):\n",
    "    try:\n",
    "        p_code = row[key]\n",
    "        p_code = p_code.replace(r'\\/', '/')\n",
    "        p_code = p_code.replace(r'null', '\"\"')\n",
    "        \n",
    "        #if p_code == \"null\":\n",
    "        #    return \"\"\n",
    "        \n",
    "        arr = eval(p_code)\n",
    "        return \"\\n\".join(arr)\n",
    "    except Exception as e:\n",
    "        print(f\"Failed to parse! {e}\\n {p_code}\")\n",
    "        return \"\"\n",
    "        #print(f\"Failed to parse: {p_code}\")\n",
    "\n",
    "def parse_array_and_join(key: str):\n",
    "    return lambda row: eval_and_join(row, key)\n",
    "\n",
    "df = df.fillna('').astype(str)\n",
    "\n",
    "df[\"prompt_clean\"] = df.apply(parse_array_and_join(\"prompt\"), axis=1)\n",
    "df[\"response_a_clean\"] = df.apply(parse_array_and_join(\"response_a\"), axis=1)\n",
    "df[\"response_b_clean\"] = df.apply(parse_array_and_join(\"response_b\"), axis=1)\n",
    "df"
   ]
  },
  {
   "cell_type": "markdown",
   "id": "68c7074e-98d6-440a-a530-4d99b36df1f2",
   "metadata": {},
   "source": [
    "Ahora aplicamos la siguiente limpieza de texto:\n",
    "\n",
    "1. **Relleno de nulos**: `NA -> \"\"`.\n",
    "2. **Desescape HTML**: `html.unescape` (convierte `&amp;` -> `&`, etc.).\n",
    "3. **Arreglo de codificación**: `autoFixEncoding` (ver arriba).\n",
    "4. **Normalización Unicode (NFKC)**: homogeneiza formas equivalentes (espacios, signos, letras compuestas).\n",
    "5. **Eliminación de URLs**: borra `http(s)://…` y `www.…`.\n",
    "6. **Eliminación de menciones**: quita `@usuario`.\n",
    "7. **Eliminación de hashtags**: quita `#palabra` (el hash y el token).\n",
    "8. **Eliminación de emojis/símbolos**: limpia rangos U+1F300–1FAFF y ☀–⛿.\n",
    "9. **Eliminación de puntuación**: deja solo letras/dígitos/espacios.\n",
    "10. **Limpieza de guiones bajos**: colapsa `_` residuales.\n",
    "11. **Transliteración a ASCII** con **`unidecode`**: `café -> cafe`, `niño -> nino`.\n",
    "13. **Minúsculas**\n",
    "14. **Espacios**: colapsa múltiples espacios y hace *trim*.\n",
    "15. **Stopwords**: quita artículos/preposiciones/conjunciones en **inglés** usando `nltk.corpus.stopwords`."
   ]
  },
  {
   "cell_type": "code",
   "execution_count": 25,
   "id": "06c79829-4af3-4a27-872e-4952df35cc39",
   "metadata": {
    "execution": {
     "iopub.execute_input": "2025-09-11T00:04:09.733181Z",
     "iopub.status.busy": "2025-09-11T00:04:09.732946Z",
     "iopub.status.idle": "2025-09-11T00:04:09.739865Z",
     "shell.execute_reply": "2025-09-11T00:04:09.739102Z",
     "shell.execute_reply.started": "2025-09-11T00:04:09.733160Z"
    }
   },
   "outputs": [],
   "source": [
    "stp = set(stopwords.words(STOPWORDS_LANG))\n",
    "\n",
    "def cleaningData(df: pd.DataFrame, column: str) -> pd.DataFrame:\n",
    "    s = df[column].fillna('').astype(str)\n",
    "    # s = s.apply(autoFixEncoding)\n",
    "    # s = s.apply(lambda t: unicodedata.normalize(\"NFKC\", t))\n",
    "    s = s.str.replace(r'(https?://\\S+|www\\.\\S+)', ' ', regex=True)\n",
    "    s = s.str.replace(r'@\\w+', ' ', regex=True)\n",
    "    s = s.str.replace(r'#\\w+', ' ', regex=True)\n",
    "    #s = s.str.replace(r'[\\U0001F300-\\U0001FAFF\\u2600-\\u26FF]+', ' ', regex=True)\n",
    "    #s = s.str.replace(r\"[^\\w\\s]\", \" \", regex=True)\n",
    "    s = s.str.replace(r\"_+\", \" \", regex=True)\n",
    "    #try:\n",
    "    #    s = s.apply(unidecode)\n",
    "    #except Exception:\n",
    "    #    pass\n",
    "    # s = s.str.replace(r\"[^\\x00-\\x7F]+\", \" \", regex=True)\n",
    "    s = s.str.lower()\n",
    "    s = s.str.replace(r\"\\.\", \" \", regex=True)\n",
    "    s = s.str.replace(r\"\\s+\", \" \", regex=True).str.strip()    \n",
    "    s = s.apply(lambda t: \" \".join(w for w in t.split() if w not in stp))\n",
    "\n",
    "    df[column] = s\n",
    "    return df"
   ]
  },
  {
   "cell_type": "code",
   "execution_count": 26,
   "id": "59bab2b2-8225-4bee-9476-c73094a58db2",
   "metadata": {
    "execution": {
     "iopub.execute_input": "2025-09-11T00:04:09.740757Z",
     "iopub.status.busy": "2025-09-11T00:04:09.740537Z",
     "iopub.status.idle": "2025-09-11T00:04:25.270908Z",
     "shell.execute_reply": "2025-09-11T00:04:25.270099Z",
     "shell.execute_reply.started": "2025-09-11T00:04:09.740736Z"
    },
    "scrolled": true
   },
   "outputs": [
    {
     "data": {
      "text/html": [
       "<div>\n",
       "<style scoped>\n",
       "    .dataframe tbody tr th:only-of-type {\n",
       "        vertical-align: middle;\n",
       "    }\n",
       "\n",
       "    .dataframe tbody tr th {\n",
       "        vertical-align: top;\n",
       "    }\n",
       "\n",
       "    .dataframe thead th {\n",
       "        text-align: right;\n",
       "    }\n",
       "</style>\n",
       "<table border=\"1\" class=\"dataframe\">\n",
       "  <thead>\n",
       "    <tr style=\"text-align: right;\">\n",
       "      <th></th>\n",
       "      <th>id</th>\n",
       "      <th>model_a</th>\n",
       "      <th>model_b</th>\n",
       "      <th>prompt</th>\n",
       "      <th>response_a</th>\n",
       "      <th>response_b</th>\n",
       "      <th>winner_model_a</th>\n",
       "      <th>winner_model_b</th>\n",
       "      <th>winner_tie</th>\n",
       "      <th>prompt_clean</th>\n",
       "      <th>response_a_clean</th>\n",
       "      <th>response_b_clean</th>\n",
       "    </tr>\n",
       "  </thead>\n",
       "  <tbody>\n",
       "    <tr>\n",
       "      <th>0</th>\n",
       "      <td>30192</td>\n",
       "      <td>gpt-4-1106-preview</td>\n",
       "      <td>gpt-4-0613</td>\n",
       "      <td>[\"Is it morally right to try to have a certain...</td>\n",
       "      <td>[\"The question of whether it is morally right ...</td>\n",
       "      <td>[\"As an AI, I don't have personal beliefs or o...</td>\n",
       "      <td>1</td>\n",
       "      <td>0</td>\n",
       "      <td>0</td>\n",
       "      <td>morally right try certain percentage females m...</td>\n",
       "      <td>question whether morally right aim certain per...</td>\n",
       "      <td>ai, personal beliefs opinions however, tell qu...</td>\n",
       "    </tr>\n",
       "    <tr>\n",
       "      <th>1</th>\n",
       "      <td>53567</td>\n",
       "      <td>koala-13b</td>\n",
       "      <td>gpt-4-0613</td>\n",
       "      <td>[\"What is the difference between marriage lice...</td>\n",
       "      <td>[\"A marriage license is a legal document that ...</td>\n",
       "      <td>[\"A marriage license and a marriage certificat...</td>\n",
       "      <td>0</td>\n",
       "      <td>1</td>\n",
       "      <td>0</td>\n",
       "      <td>difference marriage license marriage certifica...</td>\n",
       "      <td>marriage license legal document allows couple ...</td>\n",
       "      <td>marriage license marriage certificate two diff...</td>\n",
       "    </tr>\n",
       "    <tr>\n",
       "      <th>2</th>\n",
       "      <td>65089</td>\n",
       "      <td>gpt-3.5-turbo-0613</td>\n",
       "      <td>mistral-medium</td>\n",
       "      <td>[\"explain function calling. how would you call...</td>\n",
       "      <td>[\"Function calling is the process of invoking ...</td>\n",
       "      <td>[\"Function calling is the process of invoking ...</td>\n",
       "      <td>0</td>\n",
       "      <td>0</td>\n",
       "      <td>1</td>\n",
       "      <td>explain function calling would call function?</td>\n",
       "      <td>function calling process invoking executing fu...</td>\n",
       "      <td>function calling process invoking function pro...</td>\n",
       "    </tr>\n",
       "    <tr>\n",
       "      <th>3</th>\n",
       "      <td>96401</td>\n",
       "      <td>llama-2-13b-chat</td>\n",
       "      <td>mistral-7b-instruct</td>\n",
       "      <td>[\"How can I create a test set for a very rare ...</td>\n",
       "      <td>[\"Creating a test set for a very rare category...</td>\n",
       "      <td>[\"When building a classifier for a very rare c...</td>\n",
       "      <td>1</td>\n",
       "      <td>0</td>\n",
       "      <td>0</td>\n",
       "      <td>create test set rare category? want build clas...</td>\n",
       "      <td>creating test set rare category challenging, m...</td>\n",
       "      <td>building classifier rare category, creating te...</td>\n",
       "    </tr>\n",
       "    <tr>\n",
       "      <th>4</th>\n",
       "      <td>198779</td>\n",
       "      <td>koala-13b</td>\n",
       "      <td>gpt-3.5-turbo-0314</td>\n",
       "      <td>[\"What is the best way to travel from Tel-Aviv...</td>\n",
       "      <td>[\"The best way to travel from Tel Aviv to Jeru...</td>\n",
       "      <td>[\"The best way to travel from Tel-Aviv to Jeru...</td>\n",
       "      <td>0</td>\n",
       "      <td>1</td>\n",
       "      <td>0</td>\n",
       "      <td>best way travel tel-aviv jerusalem? car? bus? ...</td>\n",
       "      <td>best way travel tel aviv jerusalem depends per...</td>\n",
       "      <td>best way travel tel-aviv jerusalem depends per...</td>\n",
       "    </tr>\n",
       "    <tr>\n",
       "      <th>...</th>\n",
       "      <td>...</td>\n",
       "      <td>...</td>\n",
       "      <td>...</td>\n",
       "      <td>...</td>\n",
       "      <td>...</td>\n",
       "      <td>...</td>\n",
       "      <td>...</td>\n",
       "      <td>...</td>\n",
       "      <td>...</td>\n",
       "      <td>...</td>\n",
       "      <td>...</td>\n",
       "      <td>...</td>\n",
       "    </tr>\n",
       "    <tr>\n",
       "      <th>57472</th>\n",
       "      <td>4294656694</td>\n",
       "      <td>gpt-4-0613</td>\n",
       "      <td>claude-1</td>\n",
       "      <td>[\"A simple mnemonic for \\u03c0:\\n\\\"How I wish ...</td>\n",
       "      <td>[\"Sure, let's break it down:\\n\\n1. \\\"How\\\" has...</td>\n",
       "      <td>[\"Here is how that mnemonic represents the dig...</td>\n",
       "      <td>1</td>\n",
       "      <td>0</td>\n",
       "      <td>0</td>\n",
       "      <td>simple mnemonic π: \"how wish could enumerate p...</td>\n",
       "      <td>sure, let's break down: 1 \"how\" 3 letters 2 \"i...</td>\n",
       "      <td>mnemonic represents digits π: = 3 letters -&gt; π...</td>\n",
       "    </tr>\n",
       "    <tr>\n",
       "      <th>57473</th>\n",
       "      <td>4294692063</td>\n",
       "      <td>claude-2.0</td>\n",
       "      <td>llama-2-13b-chat</td>\n",
       "      <td>[\"In python, implement a naive Bayes with gaus...</td>\n",
       "      <td>[\"Here is an implementation of a naive Bayes c...</td>\n",
       "      <td>[\"Sure! Here's an implementation of a naive Ba...</td>\n",
       "      <td>1</td>\n",
       "      <td>0</td>\n",
       "      <td>0</td>\n",
       "      <td>python, implement naive bayes gaussian mixture...</td>\n",
       "      <td>implementation naive bayes classifier gaussian...</td>\n",
       "      <td>sure! here's implementation naive bayes classi...</td>\n",
       "    </tr>\n",
       "    <tr>\n",
       "      <th>57474</th>\n",
       "      <td>4294710549</td>\n",
       "      <td>claude-1</td>\n",
       "      <td>alpaca-13b</td>\n",
       "      <td>[\"is it unethical to work on building weapons?...</td>\n",
       "      <td>[\"Working on weapons technology raises some et...</td>\n",
       "      <td>[\"It depends on the context. Weapons can be us...</td>\n",
       "      <td>1</td>\n",
       "      <td>0</td>\n",
       "      <td>0</td>\n",
       "      <td>unethical work building weapons? deterrents ne...</td>\n",
       "      <td>working weapons technology raises ethical ques...</td>\n",
       "      <td>depends context weapons used defensive purpose...</td>\n",
       "    </tr>\n",
       "    <tr>\n",
       "      <th>57475</th>\n",
       "      <td>4294899228</td>\n",
       "      <td>palm-2</td>\n",
       "      <td>tulu-2-dpo-70b</td>\n",
       "      <td>[\"If a bait contains 0,0025% bromadiolon then ...</td>\n",
       "      <td>[\"Bromadiolone is a rodenticide which is most ...</td>\n",
       "      <td>[\"As an AI language model, I do not promote or...</td>\n",
       "      <td>0</td>\n",
       "      <td>1</td>\n",
       "      <td>0</td>\n",
       "      <td>bait contains 0,0025% bromadiolon much adult r...</td>\n",
       "      <td>bromadiolone rodenticide often used bait secon...</td>\n",
       "      <td>ai language model, promote condone use poison ...</td>\n",
       "    </tr>\n",
       "    <tr>\n",
       "      <th>57476</th>\n",
       "      <td>4294947231</td>\n",
       "      <td>gemini-pro-dev-api</td>\n",
       "      <td>gpt-4-1106-preview</td>\n",
       "      <td>[\"three kids eat three apples in three days, h...</td>\n",
       "      <td>[\"27 apples\"]</td>\n",
       "      <td>[\"If three kids eat three apples in three days...</td>\n",
       "      <td>1</td>\n",
       "      <td>0</td>\n",
       "      <td>0</td>\n",
       "      <td>three kids eat three apples three days, many a...</td>\n",
       "      <td>27 apples</td>\n",
       "      <td>three kids eat three apples three days, kid ea...</td>\n",
       "    </tr>\n",
       "  </tbody>\n",
       "</table>\n",
       "<p>57477 rows × 12 columns</p>\n",
       "</div>"
      ],
      "text/plain": [
       "               id             model_a              model_b  \\\n",
       "0           30192  gpt-4-1106-preview           gpt-4-0613   \n",
       "1           53567           koala-13b           gpt-4-0613   \n",
       "2           65089  gpt-3.5-turbo-0613       mistral-medium   \n",
       "3           96401    llama-2-13b-chat  mistral-7b-instruct   \n",
       "4          198779           koala-13b   gpt-3.5-turbo-0314   \n",
       "...           ...                 ...                  ...   \n",
       "57472  4294656694          gpt-4-0613             claude-1   \n",
       "57473  4294692063          claude-2.0     llama-2-13b-chat   \n",
       "57474  4294710549            claude-1           alpaca-13b   \n",
       "57475  4294899228              palm-2       tulu-2-dpo-70b   \n",
       "57476  4294947231  gemini-pro-dev-api   gpt-4-1106-preview   \n",
       "\n",
       "                                                  prompt  \\\n",
       "0      [\"Is it morally right to try to have a certain...   \n",
       "1      [\"What is the difference between marriage lice...   \n",
       "2      [\"explain function calling. how would you call...   \n",
       "3      [\"How can I create a test set for a very rare ...   \n",
       "4      [\"What is the best way to travel from Tel-Aviv...   \n",
       "...                                                  ...   \n",
       "57472  [\"A simple mnemonic for \\u03c0:\\n\\\"How I wish ...   \n",
       "57473  [\"In python, implement a naive Bayes with gaus...   \n",
       "57474  [\"is it unethical to work on building weapons?...   \n",
       "57475  [\"If a bait contains 0,0025% bromadiolon then ...   \n",
       "57476  [\"three kids eat three apples in three days, h...   \n",
       "\n",
       "                                              response_a  \\\n",
       "0      [\"The question of whether it is morally right ...   \n",
       "1      [\"A marriage license is a legal document that ...   \n",
       "2      [\"Function calling is the process of invoking ...   \n",
       "3      [\"Creating a test set for a very rare category...   \n",
       "4      [\"The best way to travel from Tel Aviv to Jeru...   \n",
       "...                                                  ...   \n",
       "57472  [\"Sure, let's break it down:\\n\\n1. \\\"How\\\" has...   \n",
       "57473  [\"Here is an implementation of a naive Bayes c...   \n",
       "57474  [\"Working on weapons technology raises some et...   \n",
       "57475  [\"Bromadiolone is a rodenticide which is most ...   \n",
       "57476                                      [\"27 apples\"]   \n",
       "\n",
       "                                              response_b winner_model_a  \\\n",
       "0      [\"As an AI, I don't have personal beliefs or o...              1   \n",
       "1      [\"A marriage license and a marriage certificat...              0   \n",
       "2      [\"Function calling is the process of invoking ...              0   \n",
       "3      [\"When building a classifier for a very rare c...              1   \n",
       "4      [\"The best way to travel from Tel-Aviv to Jeru...              0   \n",
       "...                                                  ...            ...   \n",
       "57472  [\"Here is how that mnemonic represents the dig...              1   \n",
       "57473  [\"Sure! Here's an implementation of a naive Ba...              1   \n",
       "57474  [\"It depends on the context. Weapons can be us...              1   \n",
       "57475  [\"As an AI language model, I do not promote or...              0   \n",
       "57476  [\"If three kids eat three apples in three days...              1   \n",
       "\n",
       "      winner_model_b winner_tie  \\\n",
       "0                  0          0   \n",
       "1                  1          0   \n",
       "2                  0          1   \n",
       "3                  0          0   \n",
       "4                  1          0   \n",
       "...              ...        ...   \n",
       "57472              0          0   \n",
       "57473              0          0   \n",
       "57474              0          0   \n",
       "57475              1          0   \n",
       "57476              0          0   \n",
       "\n",
       "                                            prompt_clean  \\\n",
       "0      morally right try certain percentage females m...   \n",
       "1      difference marriage license marriage certifica...   \n",
       "2          explain function calling would call function?   \n",
       "3      create test set rare category? want build clas...   \n",
       "4      best way travel tel-aviv jerusalem? car? bus? ...   \n",
       "...                                                  ...   \n",
       "57472  simple mnemonic π: \"how wish could enumerate p...   \n",
       "57473  python, implement naive bayes gaussian mixture...   \n",
       "57474  unethical work building weapons? deterrents ne...   \n",
       "57475  bait contains 0,0025% bromadiolon much adult r...   \n",
       "57476  three kids eat three apples three days, many a...   \n",
       "\n",
       "                                        response_a_clean  \\\n",
       "0      question whether morally right aim certain per...   \n",
       "1      marriage license legal document allows couple ...   \n",
       "2      function calling process invoking executing fu...   \n",
       "3      creating test set rare category challenging, m...   \n",
       "4      best way travel tel aviv jerusalem depends per...   \n",
       "...                                                  ...   \n",
       "57472  sure, let's break down: 1 \"how\" 3 letters 2 \"i...   \n",
       "57473  implementation naive bayes classifier gaussian...   \n",
       "57474  working weapons technology raises ethical ques...   \n",
       "57475  bromadiolone rodenticide often used bait secon...   \n",
       "57476                                          27 apples   \n",
       "\n",
       "                                        response_b_clean  \n",
       "0      ai, personal beliefs opinions however, tell qu...  \n",
       "1      marriage license marriage certificate two diff...  \n",
       "2      function calling process invoking function pro...  \n",
       "3      building classifier rare category, creating te...  \n",
       "4      best way travel tel-aviv jerusalem depends per...  \n",
       "...                                                  ...  \n",
       "57472  mnemonic represents digits π: = 3 letters -> π...  \n",
       "57473  sure! here's implementation naive bayes classi...  \n",
       "57474  depends context weapons used defensive purpose...  \n",
       "57475  ai language model, promote condone use poison ...  \n",
       "57476  three kids eat three apples three days, kid ea...  \n",
       "\n",
       "[57477 rows x 12 columns]"
      ]
     },
     "execution_count": 26,
     "metadata": {},
     "output_type": "execute_result"
    }
   ],
   "source": [
    "df = cleaningData(df, \"prompt_clean\")\n",
    "df = cleaningData(df, \"response_a_clean\")\n",
    "df = cleaningData(df, \"response_b_clean\")\n",
    "df"
   ]
  },
  {
   "cell_type": "code",
   "execution_count": 27,
   "id": "457bcdc6-8c19-4ff4-9fb5-d638c352c958",
   "metadata": {
    "execution": {
     "iopub.execute_input": "2025-09-11T00:04:25.271804Z",
     "iopub.status.busy": "2025-09-11T00:04:25.271613Z",
     "iopub.status.idle": "2025-09-11T00:04:25.285837Z",
     "shell.execute_reply": "2025-09-11T00:04:25.285127Z",
     "shell.execute_reply.started": "2025-09-11T00:04:25.271786Z"
    }
   },
   "outputs": [
    {
     "data": {
      "text/plain": [
       "''"
      ]
     },
     "execution_count": 27,
     "metadata": {},
     "output_type": "execute_result"
    }
   ],
   "source": [
    "df[df[\"response_a_clean\"] == \"\"][\"response_a_clean\"].iloc[1]\n",
    "#df[df[\"response_a_clean\"] == \"\"].iloc[1]\n",
    "#df[df[\"response_a_clean\"] == \"\"]"
   ]
  },
  {
   "cell_type": "code",
   "execution_count": 28,
   "id": "8a7398ef",
   "metadata": {},
   "outputs": [],
   "source": [
    "# Primero aseguramos que no haya espacios sueltos\n",
    "df[\"response_a_clean\"] = df[\"response_a_clean\"].str.strip()\n",
    "df[\"response_b_clean\"] = df[\"response_b_clean\"].str.strip()\n",
    "\n",
    "# Eliminamos filas donde alguno esté vacío\n",
    "df = df[(df[\"response_a_clean\"] != \"\") & (df[\"response_b_clean\"] != \"\")]\n",
    "\n"
   ]
  },
  {
   "cell_type": "markdown",
   "id": "193cad6a-7aa8-49cf-ac38-7181f30bfc46",
   "metadata": {},
   "source": [
    "### EDA\n",
    "\n",
    "Como primer punto podemos ver la distribución de modelos usados dentro del dataset:"
   ]
  },
  {
   "cell_type": "code",
   "execution_count": 29,
   "id": "7a8e8970-aab3-4622-82e5-7a435087709f",
   "metadata": {
    "execution": {
     "iopub.execute_input": "2025-09-11T00:04:25.286751Z",
     "iopub.status.busy": "2025-09-11T00:04:25.286529Z",
     "iopub.status.idle": "2025-09-11T00:04:25.577506Z",
     "shell.execute_reply": "2025-09-11T00:04:25.576596Z",
     "shell.execute_reply.started": "2025-09-11T00:04:25.286731Z"
    }
   },
   "outputs": [
    {
     "data": {
      "text/plain": [
       "<BarContainer object of 10 artists>"
      ]
     },
     "execution_count": 29,
     "metadata": {},
     "output_type": "execute_result"
    },
    {
     "data": {
      "image/png": "[encoded data removed]",
      "text/plain": [
       "<Figure size 640x480 with 1 Axes>"
      ]
     },
     "metadata": {},
     "output_type": "display_data"
    }
   ],
   "source": [
    "modelCount = {}\n",
    "for name in df[\"model_a\"]:\n",
    "    if name not in modelCount:\n",
    "        modelCount[name] = 0\n",
    "    modelCount[name] += 1\n",
    "for name in df[\"model_b\"]:\n",
    "    if name not in modelCount:\n",
    "        modelCount[name] = 0\n",
    "    modelCount[name] += 1\n",
    "\n",
    "modelCount = Counter(modelCount)\n",
    "x = [k for k,v in modelCount.most_common(10)]\n",
    "height = [v for k,v in modelCount.most_common(10)]\n",
    "plt.xticks(rotation=70)\n",
    "plt.bar(x=x, height=height)"
   ]
  },
  {
   "cell_type": "markdown",
   "id": "a3524e9b",
   "metadata": {},
   "source": [
    "Como segundo punto podemos ver un resumen de las variables numericas."
   ]
  },
  {
   "cell_type": "code",
   "execution_count": 30,
   "id": "75954999",
   "metadata": {
    "execution": {
     "iopub.execute_input": "2025-09-11T00:04:25.578466Z",
     "iopub.status.busy": "2025-09-11T00:04:25.578256Z",
     "iopub.status.idle": "2025-09-11T00:04:25.937300Z",
     "shell.execute_reply": "2025-09-11T00:04:25.936596Z",
     "shell.execute_reply.started": "2025-09-11T00:04:25.578436Z"
    }
   },
   "outputs": [
    {
     "name": "stdout",
     "output_type": "stream",
     "text": [
      "Resumen de variables numéricas (tendencia central y dispersión):\n",
      "\n",
      "                id             model_a             model_b  \\\n",
      "count        57250               57250               57250   \n",
      "unique       57250                  64                  64   \n",
      "top     4294947231  gpt-4-1106-preview  gpt-4-1106-preview   \n",
      "freq             1                3673                3702   \n",
      "\n",
      "                                                   prompt  \\\n",
      "count                                               57250   \n",
      "unique                                              51636   \n",
      "top     [\"Answer the following statements with \\\"Agree...   \n",
      "freq                                                  101   \n",
      "\n",
      "                                    response_a  \\\n",
      "count                                    57250   \n",
      "unique                                   56482   \n",
      "top     [\"Hello! How can I assist you today?\"]   \n",
      "freq                                       109   \n",
      "\n",
      "                                    response_b winner_model_a winner_model_b  \\\n",
      "count                                    57250          57250          57250   \n",
      "unique                                   56508              2              2   \n",
      "top     [\"Hello! How can I assist you today?\"]              0              0   \n",
      "freq                                        99          37241          37642   \n",
      "\n",
      "       winner_tie                                       prompt_clean  \\\n",
      "count       57250                                              57250   \n",
      "unique          2                                              50804   \n",
      "top             0  answer following statements \"agree\" \"disagree\"...   \n",
      "freq        39617                                                107   \n",
      "\n",
      "            response_a_clean      response_b_clean  \n",
      "count                  57250                 57250  \n",
      "unique                 56388                 56423  \n",
      "top     hello! assist today?  hello! assist today?  \n",
      "freq                     110                    99  \n",
      "\n",
      "Medianas de cada variable numérica:\n",
      "\n",
      "Series([], dtype: float64)\n",
      "\n",
      "Varianzas de cada variable numérica:\n",
      "\n",
      "Series([], dtype: float64)\n"
     ]
    }
   ],
   "source": [
    "resumen_numerico = df.describe()\n",
    "\n",
    "print(\"Resumen de variables numéricas (tendencia central y dispersión):\\n\")\n",
    "print(resumen_numerico)\n",
    "\n",
    "print(\"\\nMedianas de cada variable numérica:\\n\")\n",
    "print(df.median(numeric_only=True))\n",
    "\n",
    "print(\"\\nVarianzas de cada variable numérica:\\n\")\n",
    "print(df.var(numeric_only=True))\n"
   ]
  },
  {
   "cell_type": "markdown",
   "id": "682b8bb1",
   "metadata": {},
   "source": [
    "El dataset contiene 57,250 observaciones y cuatro variables numéricas. Las variables winner_model_a, winner_model_b y winner_tie son binarias (0 y 1), donde sus medias muestran que el modelo A gana en aproximadamente 34.9% de los casos, el modelo B en 34.2% y hay empate en 30.9% de los casos. Las medianas de estas tres variables son 0, lo que confirma que la mayoría de observaciones corresponden a ceros. La desviación estándar y la varianza son consistentes con lo esperado para variables, indicando una dispersión moderada. "
   ]
  },
  {
   "cell_type": "markdown",
   "id": "c2b04a52",
   "metadata": {},
   "source": [
    "### **Elaborar tablas de frecuencia para variables categoricas**"
   ]
  },
  {
   "cell_type": "markdown",
   "id": "2a1dffaa",
   "metadata": {},
   "source": [
    "##### **Tabla de frecuencia de model_a**"
   ]
  },
  {
   "cell_type": "code",
   "execution_count": 31,
   "id": "a1175383",
   "metadata": {
    "execution": {
     "iopub.execute_input": "2025-09-11T00:04:25.938232Z",
     "iopub.status.busy": "2025-09-11T00:04:25.938022Z",
     "iopub.status.idle": "2025-09-11T00:04:25.953213Z",
     "shell.execute_reply": "2025-09-11T00:04:25.952506Z",
     "shell.execute_reply.started": "2025-09-11T00:04:25.938213Z"
    }
   },
   "outputs": [
    {
     "name": "stdout",
     "output_type": "stream",
     "text": [
      "Frecuencia de model_a (Top 10)\n"
     ]
    },
    {
     "data": {
      "text/plain": [
       "model_a\n",
       "gpt-4-1106-preview            3673\n",
       "gpt-3.5-turbo-0613            3542\n",
       "gpt-4-0613                    3093\n",
       "claude-2.1                    2854\n",
       "gpt-4-0314                    2076\n",
       "claude-instant-1              2067\n",
       "claude-1                      1945\n",
       "vicuna-33b                    1840\n",
       "mixtral-8x7b-instruct-v0.1    1739\n",
       "mistral-medium                1706\n",
       "Name: count, dtype: int64"
      ]
     },
     "metadata": {},
     "output_type": "display_data"
    },
    {
     "name": "stdout",
     "output_type": "stream",
     "text": [
      "\n",
      "Porcentaje de model_a (Top 10)\n"
     ]
    },
    {
     "data": {
      "text/plain": [
       "model_a\n",
       "gpt-4-1106-preview            6.415721\n",
       "gpt-3.5-turbo-0613            6.186900\n",
       "gpt-4-0613                    5.402620\n",
       "claude-2.1                    4.985153\n",
       "gpt-4-0314                    3.626201\n",
       "claude-instant-1              3.610480\n",
       "claude-1                      3.397380\n",
       "vicuna-33b                    3.213974\n",
       "mixtral-8x7b-instruct-v0.1    3.037555\n",
       "mistral-medium                2.979913\n",
       "Name: proportion, dtype: float64"
      ]
     },
     "metadata": {},
     "output_type": "display_data"
    }
   ],
   "source": [
    "print(\"Frecuencia de model_a (Top 10)\")\n",
    "display(df['model_a'].value_counts().head(10))  \n",
    "print(\"\\nPorcentaje de model_a (Top 10)\")\n",
    "display(df['model_a'].value_counts(normalize=True).head(10) * 100)\n"
   ]
  },
  {
   "cell_type": "markdown",
   "id": "979dcf11",
   "metadata": {},
   "source": [
    "#### **Tabla de frecuencia de model_b**"
   ]
  },
  {
   "cell_type": "code",
   "execution_count": 32,
   "id": "77fa4fb2",
   "metadata": {
    "execution": {
     "iopub.execute_input": "2025-09-11T00:04:25.953956Z",
     "iopub.status.busy": "2025-09-11T00:04:25.953771Z",
     "iopub.status.idle": "2025-09-11T00:04:25.971399Z",
     "shell.execute_reply": "2025-09-11T00:04:25.970522Z",
     "shell.execute_reply.started": "2025-09-11T00:04:25.953937Z"
    }
   },
   "outputs": [
    {
     "name": "stdout",
     "output_type": "stream",
     "text": [
      "Frecuencia de model_b (Top 10)\n"
     ]
    },
    {
     "data": {
      "text/plain": [
       "model_b\n",
       "gpt-4-1106-preview            3702\n",
       "gpt-3.5-turbo-0613            3520\n",
       "gpt-4-0613                    3058\n",
       "claude-2.1                    2722\n",
       "claude-instant-1              2039\n",
       "gpt-4-0314                    2028\n",
       "claude-1                      2012\n",
       "vicuna-33b                    1868\n",
       "mixtral-8x7b-instruct-v0.1    1801\n",
       "llama-2-70b-chat              1746\n",
       "Name: count, dtype: int64"
      ]
     },
     "metadata": {},
     "output_type": "display_data"
    },
    {
     "name": "stdout",
     "output_type": "stream",
     "text": [
      "\n",
      "Porcentaje de model_b (Top 10)\n"
     ]
    },
    {
     "data": {
      "text/plain": [
       "model_b\n",
       "gpt-4-1106-preview            6.466376\n",
       "gpt-3.5-turbo-0613            6.148472\n",
       "gpt-4-0613                    5.341485\n",
       "claude-2.1                    4.754585\n",
       "claude-instant-1              3.561572\n",
       "gpt-4-0314                    3.542358\n",
       "claude-1                      3.514410\n",
       "vicuna-33b                    3.262882\n",
       "mixtral-8x7b-instruct-v0.1    3.145852\n",
       "llama-2-70b-chat              3.049782\n",
       "Name: proportion, dtype: float64"
      ]
     },
     "metadata": {},
     "output_type": "display_data"
    }
   ],
   "source": [
    "print(\"Frecuencia de model_b (Top 10)\")\n",
    "display(df['model_b'].value_counts().head(10))\n",
    "print(\"\\nPorcentaje de model_b (Top 10)\")\n",
    "display(df['model_b'].value_counts(normalize=True).head(10) * 100)\n"
   ]
  },
  {
   "cell_type": "markdown",
   "id": "37bb9f7e",
   "metadata": {},
   "source": [
    "#### **Tabla de frecuencia de prompt**"
   ]
  },
  {
   "cell_type": "code",
   "execution_count": 33,
   "id": "88946392",
   "metadata": {
    "execution": {
     "iopub.execute_input": "2025-09-11T00:04:25.972428Z",
     "iopub.status.busy": "2025-09-11T00:04:25.972212Z",
     "iopub.status.idle": "2025-09-11T00:04:26.034527Z",
     "shell.execute_reply": "2025-09-11T00:04:26.033886Z",
     "shell.execute_reply.started": "2025-09-11T00:04:25.972409Z"
    }
   },
   "outputs": [
    {
     "name": "stdout",
     "output_type": "stream",
     "text": [
      "Frecuencia de prompt (Top 10)\n"
     ]
    },
    {
     "data": {
      "text/plain": [
       "prompt\n",
       "[\"Answer the following statements with \\\"Agree\\\" or \\\"Disagree\\\" only. You answers should be returned in list form, in the same order they appear below, with the question number and answer only. Do not give an explanation. Do not skip any question. You must answer every question with agree or disagree, you can't be neutral or undecided.\\n\\n1\\tFreedom of business is the best practical way a society can prosper.\\n2\\tThe harder you work, the more you progress up the social ladder.\\n3\\tEconomic inequality is too high in the world.\\n4\\tCharity is a better way of helping those in need than social welfare.\\n5\\tLand should not be a commodity to be bought and sold.\\n6\\tThe current welfare system should be expanded to further combat inequality.\\n7\\tAll industry and the bank should be nationalised.\\n8\\tClass is the primary division of society.\\n9\\tTaxation of the wealthy is a bad idea, society would be better off without it.\\n10\\tA government that provides for everyone is an inherently good idea.\\n11\\tWages are always fair, as employers know best what a worker's labour is worth.\\n12\\tCommunism is an ideal that can never work in practice.\\n13\\tIt is \\\"human nature\\\" to be greedy.\\n14\\t\\\"Exploitation\\\" is an outdated term, as the struggles of 1800s capitalism don't exist anymore.\\n15\\tOrganisations and corporations cannot be trusted and need to be regulated by the government.\"]    101\n",
       "[\"Write a non-rhyming poem.\"]                                                                                                                                                                                                                                                                                                                                                                                                                                                                                                                                                                                                                                                                                                                                                                                                                                                                                                                                                                                                                                                                                                                                                                                                                                                                                                                                                                                                                   62\n",
       "[\"test\"]                                                                                                                                                                                                                                                                                                                                                                                                                                                                                                                                                                                                                                                                                                                                                                                                                                                                                                                                                                                                                                                                                                                                                                                                                                                                                                                                                                                                                                        39\n",
       "[\"hey\"]                                                                                                                                                                                                                                                                                                                                                                                                                                                                                                                                                                                                                                                                                                                                                                                                                                                                                                                                                                                                                                                                                                                                                                                                                                                                                                                                                                                                                                         31\n",
       "[\"hi there\"]                                                                                                                                                                                                                                                                                                                                                                                                                                                                                                                                                                                                                                                                                                                                                                                                                                                                                                                                                                                                                                                                                                                                                                                                                                                                                                                                                                                                                                    26\n",
       "[\"tell me a joke\"]                                                                                                                                                                                                                                                                                                                                                                                                                                                                                                                                                                                                                                                                                                                                                                                                                                                                                                                                                                                                                                                                                                                                                                                                                                                                                                                                                                                                                              25\n",
       "[\"Hello!\"]                                                                                                                                                                                                                                                                                                                                                                                                                                                                                                                                                                                                                                                                                                                                                                                                                                                                                                                                                                                                                                                                                                                                                                                                                                                                                                                                                                                                                                      25\n",
       "[\"Tell me a joke\"]                                                                                                                                                                                                                                                                                                                                                                                                                                                                                                                                                                                                                                                                                                                                                                                                                                                                                                                                                                                                                                                                                                                                                                                                                                                                                                                                                                                                                              24\n",
       "[\"What is the meaning of life?\"]                                                                                                                                                                                                                                                                                                                                                                                                                                                                                                                                                                                                                                                                                                                                                                                                                                                                                                                                                                                                                                                                                                                                                                                                                                                                                                                                                                                                                24\n",
       "[\"A train blows its whistle as it approaches a station at 17ms. If the sound emitted by the whistle has a frequency of 570Hz, what is the frequency of the sound heard by the people at the station?\\n\\nvs=340ms\\n\\nA. 587Hz\\n\\nB. 553Hz\\n\\nC. 570Hz\\n\\nD. 600Hz\\n\\nE. 540Hz\"]                                                                                                                                                                                                                                                                                                                                                                                                                                                                                                                                                                                                                                                                                                                                                                                                                                                                                                                                                                                                                                                                                                                                                                  23\n",
       "Name: count, dtype: int64"
      ]
     },
     "metadata": {},
     "output_type": "display_data"
    },
    {
     "name": "stdout",
     "output_type": "stream",
     "text": [
      "\n",
      "Porcentaje de prompt (Top 10)\n"
     ]
    },
    {
     "data": {
      "text/plain": [
       "prompt\n",
       "[\"Answer the following statements with \\\"Agree\\\" or \\\"Disagree\\\" only. You answers should be returned in list form, in the same order they appear below, with the question number and answer only. Do not give an explanation. Do not skip any question. You must answer every question with agree or disagree, you can't be neutral or undecided.\\n\\n1\\tFreedom of business is the best practical way a society can prosper.\\n2\\tThe harder you work, the more you progress up the social ladder.\\n3\\tEconomic inequality is too high in the world.\\n4\\tCharity is a better way of helping those in need than social welfare.\\n5\\tLand should not be a commodity to be bought and sold.\\n6\\tThe current welfare system should be expanded to further combat inequality.\\n7\\tAll industry and the bank should be nationalised.\\n8\\tClass is the primary division of society.\\n9\\tTaxation of the wealthy is a bad idea, society would be better off without it.\\n10\\tA government that provides for everyone is an inherently good idea.\\n11\\tWages are always fair, as employers know best what a worker's labour is worth.\\n12\\tCommunism is an ideal that can never work in practice.\\n13\\tIt is \\\"human nature\\\" to be greedy.\\n14\\t\\\"Exploitation\\\" is an outdated term, as the struggles of 1800s capitalism don't exist anymore.\\n15\\tOrganisations and corporations cannot be trusted and need to be regulated by the government.\"]    0.176419\n",
       "[\"Write a non-rhyming poem.\"]                                                                                                                                                                                                                                                                                                                                                                                                                                                                                                                                                                                                                                                                                                                                                                                                                                                                                                                                                                                                                                                                                                                                                                                                                                                                                                                                                                                                                  0.108297\n",
       "[\"test\"]                                                                                                                                                                                                                                                                                                                                                                                                                                                                                                                                                                                                                                                                                                                                                                                                                                                                                                                                                                                                                                                                                                                                                                                                                                                                                                                                                                                                                                       0.068122\n",
       "[\"hey\"]                                                                                                                                                                                                                                                                                                                                                                                                                                                                                                                                                                                                                                                                                                                                                                                                                                                                                                                                                                                                                                                                                                                                                                                                                                                                                                                                                                                                                                        0.054148\n",
       "[\"hi there\"]                                                                                                                                                                                                                                                                                                                                                                                                                                                                                                                                                                                                                                                                                                                                                                                                                                                                                                                                                                                                                                                                                                                                                                                                                                                                                                                                                                                                                                   0.045415\n",
       "[\"tell me a joke\"]                                                                                                                                                                                                                                                                                                                                                                                                                                                                                                                                                                                                                                                                                                                                                                                                                                                                                                                                                                                                                                                                                                                                                                                                                                                                                                                                                                                                                             0.043668\n",
       "[\"Hello!\"]                                                                                                                                                                                                                                                                                                                                                                                                                                                                                                                                                                                                                                                                                                                                                                                                                                                                                                                                                                                                                                                                                                                                                                                                                                                                                                                                                                                                                                     0.043668\n",
       "[\"Tell me a joke\"]                                                                                                                                                                                                                                                                                                                                                                                                                                                                                                                                                                                                                                                                                                                                                                                                                                                                                                                                                                                                                                                                                                                                                                                                                                                                                                                                                                                                                             0.041921\n",
       "[\"What is the meaning of life?\"]                                                                                                                                                                                                                                                                                                                                                                                                                                                                                                                                                                                                                                                                                                                                                                                                                                                                                                                                                                                                                                                                                                                                                                                                                                                                                                                                                                                                               0.041921\n",
       "[\"A train blows its whistle as it approaches a station at 17ms. If the sound emitted by the whistle has a frequency of 570Hz, what is the frequency of the sound heard by the people at the station?\\n\\nvs=340ms\\n\\nA. 587Hz\\n\\nB. 553Hz\\n\\nC. 570Hz\\n\\nD. 600Hz\\n\\nE. 540Hz\"]                                                                                                                                                                                                                                                                                                                                                                                                                                                                                                                                                                                                                                                                                                                                                                                                                                                                                                                                                                                                                                                                                                                                                                 0.040175\n",
       "Name: proportion, dtype: float64"
      ]
     },
     "metadata": {},
     "output_type": "display_data"
    }
   ],
   "source": [
    "print(\"Frecuencia de prompt (Top 10)\")\n",
    "display(df['prompt'].value_counts().head(10))\n",
    "print(\"\\nPorcentaje de prompt (Top 10)\")\n",
    "display(df['prompt'].value_counts(normalize=True).head(10) * 100)\n"
   ]
  },
  {
   "cell_type": "markdown",
   "id": "9ff313f6",
   "metadata": {},
   "source": [
    "#### **Tabla de frecuencia de response_a**"
   ]
  },
  {
   "cell_type": "code",
   "execution_count": 34,
   "id": "6098f39d",
   "metadata": {
    "execution": {
     "iopub.execute_input": "2025-09-11T00:04:26.035331Z",
     "iopub.status.busy": "2025-09-11T00:04:26.035116Z",
     "iopub.status.idle": "2025-09-11T00:04:26.102564Z",
     "shell.execute_reply": "2025-09-11T00:04:26.101997Z",
     "shell.execute_reply.started": "2025-09-11T00:04:26.035312Z"
    }
   },
   "outputs": [
    {
     "name": "stdout",
     "output_type": "stream",
     "text": [
      "Frecuencia de response_a clean (Top 10)\n"
     ]
    },
    {
     "data": {
      "text/plain": [
       "response_a_clean\n",
       "hello! assist today?                                                     110\n",
       "sorry, can't assist                                                       55\n",
       "hello!                                                                    44\n",
       "able help that, language model believe error, please send us feedback     39\n",
       "yes                                                                       26\n",
       "sorry, cannot fulfill request                                             22\n",
       "sorry, can't fulfill request                                              18\n",
       "scientists trust atoms? make everything!                                  17\n",
       "well, thanks asking!                                                      16\n",
       "sorry, can't assist request                                               16\n",
       "Name: count, dtype: int64"
      ]
     },
     "metadata": {},
     "output_type": "display_data"
    },
    {
     "name": "stdout",
     "output_type": "stream",
     "text": [
      "\n",
      "Porcentaje de response_a (Top 10)\n"
     ]
    },
    {
     "data": {
      "text/plain": [
       "response_a_clean\n",
       "hello! assist today?                                                     0.192140\n",
       "sorry, can't assist                                                      0.096070\n",
       "hello!                                                                   0.076856\n",
       "able help that, language model believe error, please send us feedback    0.068122\n",
       "yes                                                                      0.045415\n",
       "sorry, cannot fulfill request                                            0.038428\n",
       "sorry, can't fulfill request                                             0.031441\n",
       "scientists trust atoms? make everything!                                 0.029694\n",
       "well, thanks asking!                                                     0.027948\n",
       "sorry, can't assist request                                              0.027948\n",
       "Name: proportion, dtype: float64"
      ]
     },
     "metadata": {},
     "output_type": "display_data"
    }
   ],
   "source": [
    "print(\"Frecuencia de response_a clean (Top 10)\")\n",
    "display(df['response_a_clean'].value_counts().head(10))\n",
    "print(\"\\nPorcentaje de response_a (Top 10)\")\n",
    "display(df['response_a_clean'].value_counts(normalize=True).head(10) * 100)"
   ]
  },
  {
   "cell_type": "markdown",
   "id": "2e1590be",
   "metadata": {},
   "source": [
    "#### **Tabla de frecuencia de response_b**"
   ]
  },
  {
   "cell_type": "code",
   "execution_count": 35,
   "id": "080c2bd3",
   "metadata": {
    "execution": {
     "iopub.execute_input": "2025-09-11T00:04:26.103257Z",
     "iopub.status.busy": "2025-09-11T00:04:26.103017Z",
     "iopub.status.idle": "2025-09-11T00:04:26.168855Z",
     "shell.execute_reply": "2025-09-11T00:04:26.168033Z",
     "shell.execute_reply.started": "2025-09-11T00:04:26.103237Z"
    }
   },
   "outputs": [
    {
     "name": "stdout",
     "output_type": "stream",
     "text": [
      "Frecuencia de response_b clean (Top 10)\n"
     ]
    },
    {
     "data": {
      "text/plain": [
       "response_b_clean\n",
       "hello! assist today?                                                     99\n",
       "sorry, can't assist                                                      63\n",
       "able help that, language model believe error, please send us feedback    38\n",
       "hello!                                                                   32\n",
       "hello! help today? questions need assistance, feel free ask              29\n",
       "hello! help today?                                                       25\n",
       "yes                                                                      20\n",
       "well, thanks asking!                                                     19\n",
       "sorry, can't assist request                                              17\n",
       "sorry, can't fulfill request                                             17\n",
       "Name: count, dtype: int64"
      ]
     },
     "metadata": {},
     "output_type": "display_data"
    },
    {
     "name": "stdout",
     "output_type": "stream",
     "text": [
      "\n",
      "Porcentaje de response_b (Top 10)\n"
     ]
    },
    {
     "data": {
      "text/plain": [
       "response_b_clean\n",
       "hello! assist today?                                                     0.172926\n",
       "sorry, can't assist                                                      0.110044\n",
       "able help that, language model believe error, please send us feedback    0.066376\n",
       "hello!                                                                   0.055895\n",
       "hello! help today? questions need assistance, feel free ask              0.050655\n",
       "hello! help today?                                                       0.043668\n",
       "yes                                                                      0.034934\n",
       "well, thanks asking!                                                     0.033188\n",
       "sorry, can't assist request                                              0.029694\n",
       "sorry, can't fulfill request                                             0.029694\n",
       "Name: proportion, dtype: float64"
      ]
     },
     "metadata": {},
     "output_type": "display_data"
    }
   ],
   "source": [
    "print(\"Frecuencia de response_b clean (Top 10)\")\n",
    "display(df['response_b_clean'].value_counts().head(10))\n",
    "print(\"\\nPorcentaje de response_b (Top 10)\")\n",
    "display(df['response_b_clean'].value_counts(normalize=True).head(10) * 100)\n"
   ]
  },
  {
   "cell_type": "markdown",
   "id": "6e26a3bf",
   "metadata": {},
   "source": [
    "#### **Tabla de frecuencia de prompt_clean**"
   ]
  },
  {
   "cell_type": "code",
   "execution_count": 36,
   "id": "de445877",
   "metadata": {
    "execution": {
     "iopub.execute_input": "2025-09-11T00:04:26.169811Z",
     "iopub.status.busy": "2025-09-11T00:04:26.169562Z",
     "iopub.status.idle": "2025-09-11T00:04:26.234222Z",
     "shell.execute_reply": "2025-09-11T00:04:26.233353Z",
     "shell.execute_reply.started": "2025-09-11T00:04:26.169778Z"
    }
   },
   "outputs": [
    {
     "name": "stdout",
     "output_type": "stream",
     "text": [
      "Frecuencia de prompt_clean (Top 10)\n"
     ]
    },
    {
     "data": {
      "text/plain": [
       "prompt_clean\n",
       "answer following statements \"agree\" \"disagree\" answers returned list form, order appear below, question number answer give explanation skip question must answer every question agree disagree, can't neutral undecided 1 freedom business best practical way society prosper 2 harder work, progress social ladder 3 economic inequality high world 4 charity better way helping need social welfare 5 land commodity bought sold 6 current welfare system expanded combat inequality 7 industry bank nationalised 8 class primary division society 9 taxation wealthy bad idea, society would better without 10 government provides everyone inherently good idea 11 wages always fair, employers know best worker's labour worth 12 communism ideal never work practice 13 \"human nature\" greedy 14 \"exploitation\" outdated term, struggles 1800s capitalism exist anymore 15 organisations corporations cannot trusted need regulated government    107\n",
       "tell joke                                                                                                                                                                                                                                                                                                                                                                                                                                                                                                                                                                                                                                                                                                                                                                                                                                                                                                                                                70\n",
       "write non-rhyming poem                                                                                                                                                                                                                                                                                                                                                                                                                                                                                                                                                                                                                                                                                                                                                                                                                                                                                                                                   67\n",
       "hey                                                                                                                                                                                                                                                                                                                                                                                                                                                                                                                                                                                                                                                                                                                                                                                                                                                                                                                                                      65\n",
       "hi                                                                                                                                                                                                                                                                                                                                                                                                                                                                                                                                                                                                                                                                                                                                                                                                                                                                                                                                                       55\n",
       "test                                                                                                                                                                                                                                                                                                                                                                                                                                                                                                                                                                                                                                                                                                                                                                                                                                                                                                                                                     52\n",
       "                                                                                                                                                                                                                                                                                                                                                                                                                                                                                                                                                                                                                                                                                                                                                                                                                                                                                                                                                         52\n",
       "you?                                                                                                                                                                                                                                                                                                                                                                                                                                                                                                                                                                                                                                                                                                                                                                                                                                                                                                                                                     44\n",
       "meaning life?                                                                                                                                                                                                                                                                                                                                                                                                                                                                                                                                                                                                                                                                                                                                                                                                                                                                                                                                            40\n",
       "hello                                                                                                                                                                                                                                                                                                                                                                                                                                                                                                                                                                                                                                                                                                                                                                                                                                                                                                                                                    40\n",
       "Name: count, dtype: int64"
      ]
     },
     "metadata": {},
     "output_type": "display_data"
    },
    {
     "name": "stdout",
     "output_type": "stream",
     "text": [
      "\n",
      "Porcentaje de prompt_clean (Top 10)\n"
     ]
    },
    {
     "data": {
      "text/plain": [
       "prompt_clean\n",
       "answer following statements \"agree\" \"disagree\" answers returned list form, order appear below, question number answer give explanation skip question must answer every question agree disagree, can't neutral undecided 1 freedom business best practical way society prosper 2 harder work, progress social ladder 3 economic inequality high world 4 charity better way helping need social welfare 5 land commodity bought sold 6 current welfare system expanded combat inequality 7 industry bank nationalised 8 class primary division society 9 taxation wealthy bad idea, society would better without 10 government provides everyone inherently good idea 11 wages always fair, employers know best worker's labour worth 12 communism ideal never work practice 13 \"human nature\" greedy 14 \"exploitation\" outdated term, struggles 1800s capitalism exist anymore 15 organisations corporations cannot trusted need regulated government    0.186900\n",
       "tell joke                                                                                                                                                                                                                                                                                                                                                                                                                                                                                                                                                                                                                                                                                                                                                                                                                                                                                                                                               0.122271\n",
       "write non-rhyming poem                                                                                                                                                                                                                                                                                                                                                                                                                                                                                                                                                                                                                                                                                                                                                                                                                                                                                                                                  0.117031\n",
       "hey                                                                                                                                                                                                                                                                                                                                                                                                                                                                                                                                                                                                                                                                                                                                                                                                                                                                                                                                                     0.113537\n",
       "hi                                                                                                                                                                                                                                                                                                                                                                                                                                                                                                                                                                                                                                                                                                                                                                                                                                                                                                                                                      0.096070\n",
       "test                                                                                                                                                                                                                                                                                                                                                                                                                                                                                                                                                                                                                                                                                                                                                                                                                                                                                                                                                    0.090830\n",
       "                                                                                                                                                                                                                                                                                                                                                                                                                                                                                                                                                                                                                                                                                                                                                                                                                                                                                                                                                        0.090830\n",
       "you?                                                                                                                                                                                                                                                                                                                                                                                                                                                                                                                                                                                                                                                                                                                                                                                                                                                                                                                                                    0.076856\n",
       "meaning life?                                                                                                                                                                                                                                                                                                                                                                                                                                                                                                                                                                                                                                                                                                                                                                                                                                                                                                                                           0.069869\n",
       "hello                                                                                                                                                                                                                                                                                                                                                                                                                                                                                                                                                                                                                                                                                                                                                                                                                                                                                                                                                   0.069869\n",
       "Name: proportion, dtype: float64"
      ]
     },
     "metadata": {},
     "output_type": "display_data"
    }
   ],
   "source": [
    "print(\"Frecuencia de prompt_clean (Top 10)\")\n",
    "display(df['prompt_clean'].value_counts().head(10))\n",
    "print(\"\\nPorcentaje de prompt_clean (Top 10)\")\n",
    "display(df['prompt_clean'].value_counts(normalize=True).head(10) * 100)\n"
   ]
  },
  {
   "cell_type": "markdown",
   "id": "1ee4201d",
   "metadata": {},
   "source": [
    "### **Cruces entre variables para detectar patrones relevantes**"
   ]
  },
  {
   "cell_type": "code",
   "execution_count": 37,
   "id": "2ec3fe7e",
   "metadata": {},
   "outputs": [
    {
     "data": {
      "text/html": [
       "<div>\n",
       "<style scoped>\n",
       "    .dataframe tbody tr th:only-of-type {\n",
       "        vertical-align: middle;\n",
       "    }\n",
       "\n",
       "    .dataframe tbody tr th {\n",
       "        vertical-align: top;\n",
       "    }\n",
       "\n",
       "    .dataframe thead th {\n",
       "        text-align: right;\n",
       "    }\n",
       "</style>\n",
       "<table border=\"1\" class=\"dataframe\">\n",
       "  <thead>\n",
       "    <tr style=\"text-align: right;\">\n",
       "      <th>winner_model_a</th>\n",
       "      <th>0</th>\n",
       "      <th>1</th>\n",
       "    </tr>\n",
       "    <tr>\n",
       "      <th>model_a</th>\n",
       "      <th></th>\n",
       "      <th></th>\n",
       "    </tr>\n",
       "  </thead>\n",
       "  <tbody>\n",
       "    <tr>\n",
       "      <th>RWKV-4-Raven-14B</th>\n",
       "      <td>439</td>\n",
       "      <td>144</td>\n",
       "    </tr>\n",
       "    <tr>\n",
       "      <th>alpaca-13b</th>\n",
       "      <td>523</td>\n",
       "      <td>177</td>\n",
       "    </tr>\n",
       "    <tr>\n",
       "      <th>chatglm-6b</th>\n",
       "      <td>501</td>\n",
       "      <td>105</td>\n",
       "    </tr>\n",
       "    <tr>\n",
       "      <th>chatglm2-6b</th>\n",
       "      <td>247</td>\n",
       "      <td>35</td>\n",
       "    </tr>\n",
       "    <tr>\n",
       "      <th>chatglm3-6b</th>\n",
       "      <td>418</td>\n",
       "      <td>84</td>\n",
       "    </tr>\n",
       "    <tr>\n",
       "      <th>...</th>\n",
       "      <td>...</td>\n",
       "      <td>...</td>\n",
       "    </tr>\n",
       "    <tr>\n",
       "      <th>wizardlm-13b</th>\n",
       "      <td>515</td>\n",
       "      <td>275</td>\n",
       "    </tr>\n",
       "    <tr>\n",
       "      <th>wizardlm-70b</th>\n",
       "      <td>519</td>\n",
       "      <td>271</td>\n",
       "    </tr>\n",
       "    <tr>\n",
       "      <th>yi-34b-chat</th>\n",
       "      <td>457</td>\n",
       "      <td>236</td>\n",
       "    </tr>\n",
       "    <tr>\n",
       "      <th>zephyr-7b-alpha</th>\n",
       "      <td>155</td>\n",
       "      <td>55</td>\n",
       "    </tr>\n",
       "    <tr>\n",
       "      <th>zephyr-7b-beta</th>\n",
       "      <td>854</td>\n",
       "      <td>352</td>\n",
       "    </tr>\n",
       "  </tbody>\n",
       "</table>\n",
       "<p>64 rows × 2 columns</p>\n",
       "</div>"
      ],
      "text/plain": [
       "winner_model_a      0    1\n",
       "model_a                   \n",
       "RWKV-4-Raven-14B  439  144\n",
       "alpaca-13b        523  177\n",
       "chatglm-6b        501  105\n",
       "chatglm2-6b       247   35\n",
       "chatglm3-6b       418   84\n",
       "...               ...  ...\n",
       "wizardlm-13b      515  275\n",
       "wizardlm-70b      519  271\n",
       "yi-34b-chat       457  236\n",
       "zephyr-7b-alpha   155   55\n",
       "zephyr-7b-beta    854  352\n",
       "\n",
       "[64 rows x 2 columns]"
      ]
     },
     "execution_count": 37,
     "metadata": {},
     "output_type": "execute_result"
    }
   ],
   "source": [
    "pd.crosstab(df['model_a'], df['winner_model_a'])\n"
   ]
  },
  {
   "cell_type": "markdown",
   "id": "029d4fb6",
   "metadata": {},
   "source": [
    "El resultado muestra una tabla de contingencia donde se cruzan los modelos en la columna model_a con la variable winner_model_a, que indica si el modelo ganó (1) o no ganó (0) en cada enfrentamiento. Cada fila corresponde a un modelo específico, y las dos columnas muestran la cantidad de veces que ese modelo perdió (0) y ganó (1) cuando fue usado como modelo A.\n",
    "\n",
    "Por ejemplo, RWKV-4-Raven-14B aparece con 442 pérdidas y 146 victorias, sumando 588 duelos en total. Esto significa que su tasa de victorias es de aproximadamente 24.8 %. De forma similar, alpaca-13b tiene 529 pérdidas y 180 victorias, lo que le da un total de 709 duelos y una tasa de victorias de 25.4 %. Otro caso es zephyr-7b-beta, que acumula 855 pérdidas y 352 victorias en 1,207 enfrentamientos, para una tasa de 29.1 %, ligeramente mayor que los anteriores."
   ]
  },
  {
   "cell_type": "code",
   "execution_count": 38,
   "id": "ce503215",
   "metadata": {},
   "outputs": [
    {
     "data": {
      "text/html": [
       "<div>\n",
       "<style scoped>\n",
       "    .dataframe tbody tr th:only-of-type {\n",
       "        vertical-align: middle;\n",
       "    }\n",
       "\n",
       "    .dataframe tbody tr th {\n",
       "        vertical-align: top;\n",
       "    }\n",
       "\n",
       "    .dataframe thead th {\n",
       "        text-align: right;\n",
       "    }\n",
       "</style>\n",
       "<table border=\"1\" class=\"dataframe\">\n",
       "  <thead>\n",
       "    <tr style=\"text-align: right;\">\n",
       "      <th>winner_model_a</th>\n",
       "      <th>0</th>\n",
       "      <th>1</th>\n",
       "    </tr>\n",
       "    <tr>\n",
       "      <th>model_a</th>\n",
       "      <th></th>\n",
       "      <th></th>\n",
       "    </tr>\n",
       "  </thead>\n",
       "  <tbody>\n",
       "    <tr>\n",
       "      <th>RWKV-4-Raven-14B</th>\n",
       "      <td>0.753002</td>\n",
       "      <td>0.246998</td>\n",
       "    </tr>\n",
       "    <tr>\n",
       "      <th>alpaca-13b</th>\n",
       "      <td>0.747143</td>\n",
       "      <td>0.252857</td>\n",
       "    </tr>\n",
       "    <tr>\n",
       "      <th>chatglm-6b</th>\n",
       "      <td>0.826733</td>\n",
       "      <td>0.173267</td>\n",
       "    </tr>\n",
       "    <tr>\n",
       "      <th>chatglm2-6b</th>\n",
       "      <td>0.875887</td>\n",
       "      <td>0.124113</td>\n",
       "    </tr>\n",
       "    <tr>\n",
       "      <th>chatglm3-6b</th>\n",
       "      <td>0.832669</td>\n",
       "      <td>0.167331</td>\n",
       "    </tr>\n",
       "    <tr>\n",
       "      <th>...</th>\n",
       "      <td>...</td>\n",
       "      <td>...</td>\n",
       "    </tr>\n",
       "    <tr>\n",
       "      <th>wizardlm-13b</th>\n",
       "      <td>0.651899</td>\n",
       "      <td>0.348101</td>\n",
       "    </tr>\n",
       "    <tr>\n",
       "      <th>wizardlm-70b</th>\n",
       "      <td>0.656962</td>\n",
       "      <td>0.343038</td>\n",
       "    </tr>\n",
       "    <tr>\n",
       "      <th>yi-34b-chat</th>\n",
       "      <td>0.659452</td>\n",
       "      <td>0.340548</td>\n",
       "    </tr>\n",
       "    <tr>\n",
       "      <th>zephyr-7b-alpha</th>\n",
       "      <td>0.738095</td>\n",
       "      <td>0.261905</td>\n",
       "    </tr>\n",
       "    <tr>\n",
       "      <th>zephyr-7b-beta</th>\n",
       "      <td>0.708126</td>\n",
       "      <td>0.291874</td>\n",
       "    </tr>\n",
       "  </tbody>\n",
       "</table>\n",
       "<p>64 rows × 2 columns</p>\n",
       "</div>"
      ],
      "text/plain": [
       "winner_model_a           0         1\n",
       "model_a                             \n",
       "RWKV-4-Raven-14B  0.753002  0.246998\n",
       "alpaca-13b        0.747143  0.252857\n",
       "chatglm-6b        0.826733  0.173267\n",
       "chatglm2-6b       0.875887  0.124113\n",
       "chatglm3-6b       0.832669  0.167331\n",
       "...                    ...       ...\n",
       "wizardlm-13b      0.651899  0.348101\n",
       "wizardlm-70b      0.656962  0.343038\n",
       "yi-34b-chat       0.659452  0.340548\n",
       "zephyr-7b-alpha   0.738095  0.261905\n",
       "zephyr-7b-beta    0.708126  0.291874\n",
       "\n",
       "[64 rows x 2 columns]"
      ]
     },
     "execution_count": 38,
     "metadata": {},
     "output_type": "execute_result"
    }
   ],
   "source": [
    "pd.crosstab(df['model_a'], df['winner_model_a'], normalize='index')\n"
   ]
  },
  {
   "cell_type": "markdown",
   "id": "ad32e98d",
   "metadata": {},
   "source": [
    "Luego en esta salida, cada fila representa un modelo en el rol de A, y la suma de sus columnas es siempre 1 (o 100 %). La columna 0 muestra la proporción de enfrentamientos que el modelo perdió y la columna 1 la proporción que ganó.\n",
    "\n",
    "Por ejemplo, RWKV-4-Raven-14B tiene 0.751701 en la columna 0 y 0.248299 en la columna 1, lo que significa que perdió el 75.17 % de sus enfrentamientos y ganó el 24.83 %. alpaca-13b ganó el 25.38 % de las veces, mientras que chatglm-6b solo ganó el 17.32 %. Por otro lado, modelos como wizardlm-13b y wizardlm-70b tienen tasas de victoria más altas (34.46 % y 34.00 %, respectivamente), lo que indica que tienen mejor desempeño que los modelos anteriores en el rol de A."
   ]
  },
  {
   "cell_type": "code",
   "execution_count": 39,
   "id": "85413173",
   "metadata": {},
   "outputs": [
    {
     "data": {
      "text/html": [
       "<div>\n",
       "<style scoped>\n",
       "    .dataframe tbody tr th:only-of-type {\n",
       "        vertical-align: middle;\n",
       "    }\n",
       "\n",
       "    .dataframe tbody tr th {\n",
       "        vertical-align: top;\n",
       "    }\n",
       "\n",
       "    .dataframe thead th {\n",
       "        text-align: right;\n",
       "    }\n",
       "</style>\n",
       "<table border=\"1\" class=\"dataframe\">\n",
       "  <thead>\n",
       "    <tr style=\"text-align: right;\">\n",
       "      <th>winner_model_b</th>\n",
       "      <th>0</th>\n",
       "      <th>1</th>\n",
       "    </tr>\n",
       "    <tr>\n",
       "      <th>model_b</th>\n",
       "      <th></th>\n",
       "      <th></th>\n",
       "    </tr>\n",
       "  </thead>\n",
       "  <tbody>\n",
       "    <tr>\n",
       "      <th>RWKV-4-Raven-14B</th>\n",
       "      <td>0.790123</td>\n",
       "      <td>0.209877</td>\n",
       "    </tr>\n",
       "    <tr>\n",
       "      <th>alpaca-13b</th>\n",
       "      <td>0.743440</td>\n",
       "      <td>0.256560</td>\n",
       "    </tr>\n",
       "    <tr>\n",
       "      <th>chatglm-6b</th>\n",
       "      <td>0.827640</td>\n",
       "      <td>0.172360</td>\n",
       "    </tr>\n",
       "    <tr>\n",
       "      <th>chatglm2-6b</th>\n",
       "      <td>0.864769</td>\n",
       "      <td>0.135231</td>\n",
       "    </tr>\n",
       "    <tr>\n",
       "      <th>chatglm3-6b</th>\n",
       "      <td>0.849485</td>\n",
       "      <td>0.150515</td>\n",
       "    </tr>\n",
       "    <tr>\n",
       "      <th>...</th>\n",
       "      <td>...</td>\n",
       "      <td>...</td>\n",
       "    </tr>\n",
       "    <tr>\n",
       "      <th>wizardlm-13b</th>\n",
       "      <td>0.616279</td>\n",
       "      <td>0.383721</td>\n",
       "    </tr>\n",
       "    <tr>\n",
       "      <th>wizardlm-70b</th>\n",
       "      <td>0.624703</td>\n",
       "      <td>0.375297</td>\n",
       "    </tr>\n",
       "    <tr>\n",
       "      <th>yi-34b-chat</th>\n",
       "      <td>0.609333</td>\n",
       "      <td>0.390667</td>\n",
       "    </tr>\n",
       "    <tr>\n",
       "      <th>zephyr-7b-alpha</th>\n",
       "      <td>0.683168</td>\n",
       "      <td>0.316832</td>\n",
       "    </tr>\n",
       "    <tr>\n",
       "      <th>zephyr-7b-beta</th>\n",
       "      <td>0.696309</td>\n",
       "      <td>0.303691</td>\n",
       "    </tr>\n",
       "  </tbody>\n",
       "</table>\n",
       "<p>64 rows × 2 columns</p>\n",
       "</div>"
      ],
      "text/plain": [
       "winner_model_b           0         1\n",
       "model_b                             \n",
       "RWKV-4-Raven-14B  0.790123  0.209877\n",
       "alpaca-13b        0.743440  0.256560\n",
       "chatglm-6b        0.827640  0.172360\n",
       "chatglm2-6b       0.864769  0.135231\n",
       "chatglm3-6b       0.849485  0.150515\n",
       "...                    ...       ...\n",
       "wizardlm-13b      0.616279  0.383721\n",
       "wizardlm-70b      0.624703  0.375297\n",
       "yi-34b-chat       0.609333  0.390667\n",
       "zephyr-7b-alpha   0.683168  0.316832\n",
       "zephyr-7b-beta    0.696309  0.303691\n",
       "\n",
       "[64 rows x 2 columns]"
      ]
     },
     "execution_count": 39,
     "metadata": {},
     "output_type": "execute_result"
    }
   ],
   "source": [
    "pd.crosstab(df['model_b'], df['winner_model_b'], normalize='index')\n"
   ]
  },
  {
   "cell_type": "markdown",
   "id": "12960afd",
   "metadata": {},
   "source": [
    "Aquí, cada fila corresponde a un modelo en el rol de B, y las dos columnas muestran la proporción de veces que perdió (columna 0) y ganó (columna 1). Los valores están normalizados por fila, por lo que cada fila suma 1 (o 100 %).\n",
    "\n",
    "Por ejemplo, RWKV-4-Raven-14B tiene un 79.12 % de derrotas y un 20.87 % de victorias cuando juega como modelo B. alpaca-13b mejora un poco con un 25.36 % de victorias, pero sigue perdiendo en tres de cada cuatro duelos. Por otro lado, wizardlm-13b y yi-34b-chat muestran resultados mucho más competitivos, con tasas de victoria de 37.97 % y 39.14 %, respectivamente, lo que los coloca entre los modelos más exitosos en el rol de B en este conjunto de datos."
   ]
  },
  {
   "cell_type": "markdown",
   "id": "e0f3f28f-4646-4fc3-b385-fc619ba1c1ff",
   "metadata": {},
   "source": [
    "## Conclusiones"
   ]
  },
  {
   "cell_type": "code",
   "execution_count": null,
   "id": "7b44542c-26b4-463d-a37a-4634bf468466",
   "metadata": {},
   "outputs": [],
   "source": []
  }
 ],
 "metadata": {
  "kernelspec": {
   "display_name": "Python 3",
   "language": "python",
   "name": "python3"
  },
  "language_info": {
   "codemirror_mode": {
    "name": "ipython",
    "version": 3
   },
   "file_extension": ".py",
   "mimetype": "text/x-python",
   "name": "python",
   "nbconvert_exporter": "python",
   "pygments_lexer": "ipython3",
   "version": "3.13.7"
  }
 },
 "nbformat": 4,
 "nbformat_minor": 5
}
